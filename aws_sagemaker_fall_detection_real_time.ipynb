{
 "cells": [
  {
   "cell_type": "code",
   "execution_count": 1,
   "metadata": {},
   "outputs": [
    {
     "name": "stdout",
     "output_type": "stream",
     "text": [
      "sagemaker.config INFO - Not applying SDK defaults from location: C:\\ProgramData\\sagemaker\\sagemaker\\config.yaml\n",
      "sagemaker.config INFO - Not applying SDK defaults from location: C:\\Users\\ninja\\AppData\\Local\\sagemaker\\sagemaker\\config.yaml\n"
     ]
    }
   ],
   "source": [
    "import sagemaker\n",
    "from sklearn.model_selection import train_test_split\n",
    "import boto3\n",
    "import pandas as pd "
   ]
  },
  {
   "cell_type": "code",
   "execution_count": 4,
   "metadata": {},
   "outputs": [],
   "source": [
    "import os\n",
    "\n",
    "os.environ['AWS_DEFAULT_REGION'] = 'eu-central-1'  # Replace with your desired region"
   ]
  },
  {
   "cell_type": "code",
   "execution_count": 5,
   "metadata": {},
   "outputs": [
    {
     "ename": "AttributeError",
     "evalue": "'SageMaker' object has no attribute 'region_name'",
     "output_type": "error",
     "traceback": [
      "\u001b[1;31m---------------------------------------------------------------------------\u001b[0m",
      "\u001b[1;31mAttributeError\u001b[0m                            Traceback (most recent call last)",
      "Cell \u001b[1;32mIn[5], line 6\u001b[0m\n\u001b[0;32m      4\u001b[0m \u001b[38;5;66;03m# SageMaker ve S3 istemcilerini \"eu-central-1\" bölgesi için başlatma\u001b[39;00m\n\u001b[0;32m      5\u001b[0m sm_boto3 \u001b[38;5;241m=\u001b[39m boto3\u001b[38;5;241m.\u001b[39mclient(\u001b[38;5;124m\"\u001b[39m\u001b[38;5;124msagemaker\u001b[39m\u001b[38;5;124m\"\u001b[39m)\n\u001b[1;32m----> 6\u001b[0m sess \u001b[38;5;241m=\u001b[39m \u001b[43msagemaker\u001b[49m\u001b[38;5;241;43m.\u001b[39;49m\u001b[43mSession\u001b[49m\u001b[43m(\u001b[49m\u001b[43mboto_session\u001b[49m\u001b[38;5;241;43m=\u001b[39;49m\u001b[43msm_boto3\u001b[49m\u001b[43m)\u001b[49m\n\u001b[0;32m      7\u001b[0m region \u001b[38;5;241m=\u001b[39m sess\u001b[38;5;241m.\u001b[39mboto_session\u001b[38;5;241m.\u001b[39mregion_name\n\u001b[0;32m      9\u001b[0m bucket \u001b[38;5;241m=\u001b[39m \u001b[38;5;124m\"\u001b[39m\u001b[38;5;124mfall_detection\u001b[39m\u001b[38;5;124m\"\u001b[39m\n",
      "File \u001b[1;32me:\\aws_sagemaker\\venv\\lib\\site-packages\\sagemaker\\session.py:265\u001b[0m, in \u001b[0;36mSession.__init__\u001b[1;34m(self, boto_session, sagemaker_client, sagemaker_runtime_client, sagemaker_featurestore_runtime_client, default_bucket, settings, sagemaker_metrics_client, sagemaker_config, default_bucket_prefix)\u001b[0m\n\u001b[0;32m    262\u001b[0m \u001b[38;5;28mself\u001b[39m\u001b[38;5;241m.\u001b[39mlambda_client \u001b[38;5;241m=\u001b[39m \u001b[38;5;28;01mNone\u001b[39;00m\n\u001b[0;32m    263\u001b[0m \u001b[38;5;28mself\u001b[39m\u001b[38;5;241m.\u001b[39msettings \u001b[38;5;241m=\u001b[39m settings \u001b[38;5;28;01mif\u001b[39;00m settings \u001b[38;5;28;01melse\u001b[39;00m SessionSettings()\n\u001b[1;32m--> 265\u001b[0m \u001b[38;5;28;43mself\u001b[39;49m\u001b[38;5;241;43m.\u001b[39;49m\u001b[43m_initialize\u001b[49m\u001b[43m(\u001b[49m\n\u001b[0;32m    266\u001b[0m \u001b[43m    \u001b[49m\u001b[43mboto_session\u001b[49m\u001b[38;5;241;43m=\u001b[39;49m\u001b[43mboto_session\u001b[49m\u001b[43m,\u001b[49m\n\u001b[0;32m    267\u001b[0m \u001b[43m    \u001b[49m\u001b[43msagemaker_client\u001b[49m\u001b[38;5;241;43m=\u001b[39;49m\u001b[43msagemaker_client\u001b[49m\u001b[43m,\u001b[49m\n\u001b[0;32m    268\u001b[0m \u001b[43m    \u001b[49m\u001b[43msagemaker_runtime_client\u001b[49m\u001b[38;5;241;43m=\u001b[39;49m\u001b[43msagemaker_runtime_client\u001b[49m\u001b[43m,\u001b[49m\n\u001b[0;32m    269\u001b[0m \u001b[43m    \u001b[49m\u001b[43msagemaker_featurestore_runtime_client\u001b[49m\u001b[38;5;241;43m=\u001b[39;49m\u001b[43msagemaker_featurestore_runtime_client\u001b[49m\u001b[43m,\u001b[49m\n\u001b[0;32m    270\u001b[0m \u001b[43m    \u001b[49m\u001b[43msagemaker_metrics_client\u001b[49m\u001b[38;5;241;43m=\u001b[39;49m\u001b[43msagemaker_metrics_client\u001b[49m\u001b[43m,\u001b[49m\n\u001b[0;32m    271\u001b[0m \u001b[43m    \u001b[49m\u001b[43msagemaker_config\u001b[49m\u001b[38;5;241;43m=\u001b[39;49m\u001b[43msagemaker_config\u001b[49m\u001b[43m,\u001b[49m\n\u001b[0;32m    272\u001b[0m \u001b[43m\u001b[49m\u001b[43m)\u001b[49m\n",
      "File \u001b[1;32me:\\aws_sagemaker\\venv\\lib\\site-packages\\sagemaker\\session.py:291\u001b[0m, in \u001b[0;36mSession._initialize\u001b[1;34m(self, boto_session, sagemaker_client, sagemaker_runtime_client, sagemaker_featurestore_runtime_client, sagemaker_metrics_client, sagemaker_config)\u001b[0m\n\u001b[0;32m    283\u001b[0m \u001b[38;5;250m\u001b[39m\u001b[38;5;124;03m\"\"\"Initialize this SageMaker Session.\u001b[39;00m\n\u001b[0;32m    284\u001b[0m \n\u001b[0;32m    285\u001b[0m \u001b[38;5;124;03mCreates or uses a boto_session, sagemaker_client and sagemaker_runtime_client.\u001b[39;00m\n\u001b[0;32m    286\u001b[0m \u001b[38;5;124;03mSets the region_name.\u001b[39;00m\n\u001b[0;32m    287\u001b[0m \u001b[38;5;124;03m\"\"\"\u001b[39;00m\n\u001b[0;32m    289\u001b[0m \u001b[38;5;28mself\u001b[39m\u001b[38;5;241m.\u001b[39mboto_session \u001b[38;5;241m=\u001b[39m boto_session \u001b[38;5;129;01mor\u001b[39;00m boto3\u001b[38;5;241m.\u001b[39mDEFAULT_SESSION \u001b[38;5;129;01mor\u001b[39;00m boto3\u001b[38;5;241m.\u001b[39mSession()\n\u001b[1;32m--> 291\u001b[0m \u001b[38;5;28mself\u001b[39m\u001b[38;5;241m.\u001b[39m_region_name \u001b[38;5;241m=\u001b[39m \u001b[38;5;28;43mself\u001b[39;49m\u001b[38;5;241;43m.\u001b[39;49m\u001b[43mboto_session\u001b[49m\u001b[38;5;241;43m.\u001b[39;49m\u001b[43mregion_name\u001b[49m\n\u001b[0;32m    292\u001b[0m \u001b[38;5;28;01mif\u001b[39;00m \u001b[38;5;28mself\u001b[39m\u001b[38;5;241m.\u001b[39m_region_name \u001b[38;5;129;01mis\u001b[39;00m \u001b[38;5;28;01mNone\u001b[39;00m:\n\u001b[0;32m    293\u001b[0m     \u001b[38;5;28;01mraise\u001b[39;00m \u001b[38;5;167;01mValueError\u001b[39;00m(\n\u001b[0;32m    294\u001b[0m         \u001b[38;5;124m\"\u001b[39m\u001b[38;5;124mMust setup local AWS configuration with a region supported by SageMaker.\u001b[39m\u001b[38;5;124m\"\u001b[39m\n\u001b[0;32m    295\u001b[0m     )\n",
      "File \u001b[1;32me:\\aws_sagemaker\\venv\\lib\\site-packages\\botocore\\client.py:922\u001b[0m, in \u001b[0;36mBaseClient.__getattr__\u001b[1;34m(self, item)\u001b[0m\n\u001b[0;32m    919\u001b[0m \u001b[38;5;28;01mif\u001b[39;00m event_response \u001b[38;5;129;01mis\u001b[39;00m \u001b[38;5;129;01mnot\u001b[39;00m \u001b[38;5;28;01mNone\u001b[39;00m:\n\u001b[0;32m    920\u001b[0m     \u001b[38;5;28;01mreturn\u001b[39;00m event_response\n\u001b[1;32m--> 922\u001b[0m \u001b[38;5;28;01mraise\u001b[39;00m \u001b[38;5;167;01mAttributeError\u001b[39;00m(\n\u001b[0;32m    923\u001b[0m     \u001b[38;5;124mf\u001b[39m\u001b[38;5;124m\"\u001b[39m\u001b[38;5;124m'\u001b[39m\u001b[38;5;132;01m{\u001b[39;00m\u001b[38;5;28mself\u001b[39m\u001b[38;5;241m.\u001b[39m\u001b[38;5;18m__class__\u001b[39m\u001b[38;5;241m.\u001b[39m\u001b[38;5;18m__name__\u001b[39m\u001b[38;5;132;01m}\u001b[39;00m\u001b[38;5;124m'\u001b[39m\u001b[38;5;124m object has no attribute \u001b[39m\u001b[38;5;124m'\u001b[39m\u001b[38;5;132;01m{\u001b[39;00mitem\u001b[38;5;132;01m}\u001b[39;00m\u001b[38;5;124m'\u001b[39m\u001b[38;5;124m\"\u001b[39m\n\u001b[0;32m    924\u001b[0m )\n",
      "\u001b[1;31mAttributeError\u001b[0m: 'SageMaker' object has no attribute 'region_name'"
     ]
    }
   ],
   "source": [
    "import boto3\n",
    "import sagemaker\n",
    "\n",
    "# SageMaker ve S3 istemcilerini \"eu-central-1\" bölgesi için başlatma\n",
    "sm_boto3 = boto3.client(\"sagemaker\")\n",
    "sess = sagemaker.Session(boto_session=sm_boto3)\n",
    "region = sess.boto_session.region_name\n",
    "\n",
    "bucket = \"fall_detection\"\n",
    "print(\"Using bucket: \" + bucket)\n"
   ]
  },
  {
   "cell_type": "code",
   "execution_count": 2,
   "metadata": {},
   "outputs": [
    {
     "name": "stdout",
     "output_type": "stream",
     "text": [
      "Using bucket: falldetection123 in region: eu-central-1\n"
     ]
    }
   ],
   "source": [
    "import boto3\n",
    "import sagemaker\n",
    "\n",
    "# SageMaker istemcisini belirli bir bölgede (\"eu-central-1\") başlatma\n",
    "boto_session = boto3.Session(region_name=\"eu-central-1\")\n",
    "sm_boto3 = boto_session.client(\"sagemaker\")\n",
    "\n",
    "# SageMaker oturumunu başlatma\n",
    "sess = sagemaker.Session(boto_session=boto_session)\n",
    "\n",
    "# Belirlenen bölgeyi doğrulama\n",
    "region = boto_session.region_name\n",
    "bucket = \"falldetection123\"\n",
    "print(\"Using bucket: \" + bucket + \" in region: \" + region)\n"
   ]
  },
  {
   "cell_type": "code",
   "execution_count": 3,
   "metadata": {},
   "outputs": [
    {
     "name": "stdout",
     "output_type": "stream",
     "text": [
      "eu-central-1\n"
     ]
    }
   ],
   "source": [
    "print(region)"
   ]
  },
  {
   "cell_type": "code",
   "execution_count": null,
   "metadata": {},
   "outputs": [
    {
     "data": {
      "text/plain": [
       "<sagemaker.session.Session at 0x1a588c0b310>"
      ]
     },
     "execution_count": 20,
     "metadata": {},
     "output_type": "execute_result"
    }
   ],
   "source": []
  },
  {
   "cell_type": "code",
   "execution_count": 4,
   "metadata": {},
   "outputs": [],
   "source": [
    "df=pd.read_csv(\"data_imu_birlestirilmis_28_10.csv\")"
   ]
  },
  {
   "cell_type": "code",
   "execution_count": 5,
   "metadata": {},
   "outputs": [
    {
     "data": {
      "text/html": [
       "<div>\n",
       "<style scoped>\n",
       "    .dataframe tbody tr th:only-of-type {\n",
       "        vertical-align: middle;\n",
       "    }\n",
       "\n",
       "    .dataframe tbody tr th {\n",
       "        vertical-align: top;\n",
       "    }\n",
       "\n",
       "    .dataframe thead th {\n",
       "        text-align: right;\n",
       "    }\n",
       "</style>\n",
       "<table border=\"1\" class=\"dataframe\">\n",
       "  <thead>\n",
       "    <tr style=\"text-align: right;\">\n",
       "      <th></th>\n",
       "      <th>Unnamed: 0</th>\n",
       "      <th>ax</th>\n",
       "      <th>ay</th>\n",
       "      <th>az</th>\n",
       "      <th>gx</th>\n",
       "      <th>gy</th>\n",
       "      <th>gz</th>\n",
       "      <th>timestamp</th>\n",
       "      <th>time_diff</th>\n",
       "      <th>Class Name</th>\n",
       "    </tr>\n",
       "  </thead>\n",
       "  <tbody>\n",
       "    <tr>\n",
       "      <th>0</th>\n",
       "      <td>0</td>\n",
       "      <td>-1.028198</td>\n",
       "      <td>7.406667</td>\n",
       "      <td>-2.838919</td>\n",
       "      <td>-0.418559</td>\n",
       "      <td>0.063694</td>\n",
       "      <td>0.027297</td>\n",
       "      <td>1900-01-01 17:55:40.747</td>\n",
       "      <td>NaN</td>\n",
       "      <td>not_falling</td>\n",
       "    </tr>\n",
       "    <tr>\n",
       "      <th>1</th>\n",
       "      <td>1</td>\n",
       "      <td>-1.020539</td>\n",
       "      <td>7.627713</td>\n",
       "      <td>-2.904742</td>\n",
       "      <td>-0.430347</td>\n",
       "      <td>0.050697</td>\n",
       "      <td>0.045961</td>\n",
       "      <td>1900-01-01 17:55:40.767</td>\n",
       "      <td>0 days 00:00:00.020000</td>\n",
       "      <td>not_falling</td>\n",
       "    </tr>\n",
       "    <tr>\n",
       "      <th>2</th>\n",
       "      <td>2</td>\n",
       "      <td>-1.013342</td>\n",
       "      <td>7.828984</td>\n",
       "      <td>-2.935427</td>\n",
       "      <td>-0.440230</td>\n",
       "      <td>0.041012</td>\n",
       "      <td>0.059841</td>\n",
       "      <td>1900-01-01 17:55:40.787</td>\n",
       "      <td>0 days 00:00:00.020000</td>\n",
       "      <td>not_falling</td>\n",
       "    </tr>\n",
       "    <tr>\n",
       "      <th>3</th>\n",
       "      <td>3</td>\n",
       "      <td>-1.003664</td>\n",
       "      <td>7.984988</td>\n",
       "      <td>-2.912928</td>\n",
       "      <td>-0.446552</td>\n",
       "      <td>0.034748</td>\n",
       "      <td>0.066260</td>\n",
       "      <td>1900-01-01 17:55:40.807</td>\n",
       "      <td>0 days 00:00:00.020000</td>\n",
       "      <td>not_falling</td>\n",
       "    </tr>\n",
       "    <tr>\n",
       "      <th>4</th>\n",
       "      <td>4</td>\n",
       "      <td>-0.980148</td>\n",
       "      <td>8.063047</td>\n",
       "      <td>-2.868723</td>\n",
       "      <td>-0.448961</td>\n",
       "      <td>0.024543</td>\n",
       "      <td>0.068392</td>\n",
       "      <td>1900-01-01 17:55:40.827</td>\n",
       "      <td>0 days 00:00:00.020000</td>\n",
       "      <td>not_falling</td>\n",
       "    </tr>\n",
       "  </tbody>\n",
       "</table>\n",
       "</div>"
      ],
      "text/plain": [
       "   Unnamed: 0        ax        ay        az        gx        gy        gz  \\\n",
       "0           0 -1.028198  7.406667 -2.838919 -0.418559  0.063694  0.027297   \n",
       "1           1 -1.020539  7.627713 -2.904742 -0.430347  0.050697  0.045961   \n",
       "2           2 -1.013342  7.828984 -2.935427 -0.440230  0.041012  0.059841   \n",
       "3           3 -1.003664  7.984988 -2.912928 -0.446552  0.034748  0.066260   \n",
       "4           4 -0.980148  8.063047 -2.868723 -0.448961  0.024543  0.068392   \n",
       "\n",
       "                 timestamp               time_diff   Class Name  \n",
       "0  1900-01-01 17:55:40.747                     NaN  not_falling  \n",
       "1  1900-01-01 17:55:40.767  0 days 00:00:00.020000  not_falling  \n",
       "2  1900-01-01 17:55:40.787  0 days 00:00:00.020000  not_falling  \n",
       "3  1900-01-01 17:55:40.807  0 days 00:00:00.020000  not_falling  \n",
       "4  1900-01-01 17:55:40.827  0 days 00:00:00.020000  not_falling  "
      ]
     },
     "execution_count": 5,
     "metadata": {},
     "output_type": "execute_result"
    }
   ],
   "source": [
    "df.head()"
   ]
  },
  {
   "cell_type": "code",
   "execution_count": 19,
   "metadata": {},
   "outputs": [
    {
     "data": {
      "text/plain": [
       "(49736, 10)"
      ]
     },
     "execution_count": 19,
     "metadata": {},
     "output_type": "execute_result"
    }
   ],
   "source": [
    "df.shape"
   ]
  },
  {
   "cell_type": "code",
   "execution_count": 6,
   "metadata": {},
   "outputs": [
    {
     "data": {
      "text/plain": [
       "Unnamed: 0    0\n",
       "ax            0\n",
       "ay            0\n",
       "az            0\n",
       "gx            0\n",
       "gy            0\n",
       "gz            0\n",
       "timestamp     0\n",
       "time_diff     4\n",
       "Class Name    0\n",
       "dtype: int64"
      ]
     },
     "execution_count": 6,
     "metadata": {},
     "output_type": "execute_result"
    }
   ],
   "source": [
    "df.isnull().sum()"
   ]
  },
  {
   "cell_type": "code",
   "execution_count": 21,
   "metadata": {},
   "outputs": [
    {
     "data": {
      "text/plain": [
       "Class Name\n",
       "not_falling    40841\n",
       "falling         8895\n",
       "Name: count, dtype: int64"
      ]
     },
     "execution_count": 21,
     "metadata": {},
     "output_type": "execute_result"
    }
   ],
   "source": [
    "df[\"Class Name\"].value_counts()"
   ]
  },
  {
   "cell_type": "code",
   "execution_count": 23,
   "metadata": {},
   "outputs": [],
   "source": [
    "features=list(df.columns)"
   ]
  },
  {
   "cell_type": "code",
   "execution_count": 24,
   "metadata": {},
   "outputs": [
    {
     "data": {
      "text/plain": [
       "['Unnamed: 0',\n",
       " 'ax',\n",
       " 'ay',\n",
       " 'az',\n",
       " 'gx',\n",
       " 'gy',\n",
       " 'gz',\n",
       " 'timestamp',\n",
       " 'time_diff',\n",
       " 'Class Name']"
      ]
     },
     "execution_count": 24,
     "metadata": {},
     "output_type": "execute_result"
    }
   ],
   "source": [
    "features"
   ]
  },
  {
   "cell_type": "code",
   "execution_count": 27,
   "metadata": {},
   "outputs": [],
   "source": [
    "keep_columns = ['ax', 'ay', 'az', 'gx', 'gy', 'gz']"
   ]
  },
  {
   "cell_type": "code",
   "execution_count": 28,
   "metadata": {},
   "outputs": [],
   "source": [
    "filtered_list = [item for item in features if item in keep_columns]"
   ]
  },
  {
   "cell_type": "code",
   "execution_count": 47,
   "metadata": {},
   "outputs": [],
   "source": [
    "df = df.drop(columns=['Unnamed: 0', 'timestamp', 'time_diff'])"
   ]
  },
  {
   "cell_type": "markdown",
   "metadata": {},
   "source": [
    "df"
   ]
  },
  {
   "cell_type": "code",
   "execution_count": 48,
   "metadata": {},
   "outputs": [
    {
     "data": {
      "text/html": [
       "<div>\n",
       "<style scoped>\n",
       "    .dataframe tbody tr th:only-of-type {\n",
       "        vertical-align: middle;\n",
       "    }\n",
       "\n",
       "    .dataframe tbody tr th {\n",
       "        vertical-align: top;\n",
       "    }\n",
       "\n",
       "    .dataframe thead th {\n",
       "        text-align: right;\n",
       "    }\n",
       "</style>\n",
       "<table border=\"1\" class=\"dataframe\">\n",
       "  <thead>\n",
       "    <tr style=\"text-align: right;\">\n",
       "      <th></th>\n",
       "      <th>ax</th>\n",
       "      <th>ay</th>\n",
       "      <th>az</th>\n",
       "      <th>gx</th>\n",
       "      <th>gy</th>\n",
       "      <th>gz</th>\n",
       "      <th>Class Name</th>\n",
       "    </tr>\n",
       "  </thead>\n",
       "  <tbody>\n",
       "    <tr>\n",
       "      <th>0</th>\n",
       "      <td>-1.028198</td>\n",
       "      <td>7.406667</td>\n",
       "      <td>-2.838919</td>\n",
       "      <td>-0.418559</td>\n",
       "      <td>0.063694</td>\n",
       "      <td>0.027297</td>\n",
       "      <td>not_falling</td>\n",
       "    </tr>\n",
       "    <tr>\n",
       "      <th>1</th>\n",
       "      <td>-1.020539</td>\n",
       "      <td>7.627713</td>\n",
       "      <td>-2.904742</td>\n",
       "      <td>-0.430347</td>\n",
       "      <td>0.050697</td>\n",
       "      <td>0.045961</td>\n",
       "      <td>not_falling</td>\n",
       "    </tr>\n",
       "    <tr>\n",
       "      <th>2</th>\n",
       "      <td>-1.013342</td>\n",
       "      <td>7.828984</td>\n",
       "      <td>-2.935427</td>\n",
       "      <td>-0.440230</td>\n",
       "      <td>0.041012</td>\n",
       "      <td>0.059841</td>\n",
       "      <td>not_falling</td>\n",
       "    </tr>\n",
       "    <tr>\n",
       "      <th>3</th>\n",
       "      <td>-1.003664</td>\n",
       "      <td>7.984988</td>\n",
       "      <td>-2.912928</td>\n",
       "      <td>-0.446552</td>\n",
       "      <td>0.034748</td>\n",
       "      <td>0.066260</td>\n",
       "      <td>not_falling</td>\n",
       "    </tr>\n",
       "    <tr>\n",
       "      <th>4</th>\n",
       "      <td>-0.980148</td>\n",
       "      <td>8.063047</td>\n",
       "      <td>-2.868723</td>\n",
       "      <td>-0.448961</td>\n",
       "      <td>0.024543</td>\n",
       "      <td>0.068392</td>\n",
       "      <td>not_falling</td>\n",
       "    </tr>\n",
       "    <tr>\n",
       "      <th>...</th>\n",
       "      <td>...</td>\n",
       "      <td>...</td>\n",
       "      <td>...</td>\n",
       "      <td>...</td>\n",
       "      <td>...</td>\n",
       "      <td>...</td>\n",
       "      <td>...</td>\n",
       "    </tr>\n",
       "    <tr>\n",
       "      <th>49731</th>\n",
       "      <td>1.828079</td>\n",
       "      <td>9.423597</td>\n",
       "      <td>-0.645419</td>\n",
       "      <td>-1.292857</td>\n",
       "      <td>-0.038149</td>\n",
       "      <td>-2.056477</td>\n",
       "      <td>not_falling</td>\n",
       "    </tr>\n",
       "    <tr>\n",
       "      <th>49732</th>\n",
       "      <td>0.686294</td>\n",
       "      <td>9.158905</td>\n",
       "      <td>1.320737</td>\n",
       "      <td>-1.122093</td>\n",
       "      <td>-0.212877</td>\n",
       "      <td>-1.661709</td>\n",
       "      <td>not_falling</td>\n",
       "    </tr>\n",
       "    <tr>\n",
       "      <th>49733</th>\n",
       "      <td>1.196530</td>\n",
       "      <td>8.183237</td>\n",
       "      <td>1.745310</td>\n",
       "      <td>-0.915019</td>\n",
       "      <td>-0.535702</td>\n",
       "      <td>-1.189365</td>\n",
       "      <td>not_falling</td>\n",
       "    </tr>\n",
       "    <tr>\n",
       "      <th>49734</th>\n",
       "      <td>1.506319</td>\n",
       "      <td>8.012976</td>\n",
       "      <td>1.559735</td>\n",
       "      <td>-0.686853</td>\n",
       "      <td>-0.531130</td>\n",
       "      <td>-0.872752</td>\n",
       "      <td>not_falling</td>\n",
       "    </tr>\n",
       "    <tr>\n",
       "      <th>49735</th>\n",
       "      <td>1.216696</td>\n",
       "      <td>8.765750</td>\n",
       "      <td>1.196245</td>\n",
       "      <td>-0.448283</td>\n",
       "      <td>-0.186664</td>\n",
       "      <td>-0.719604</td>\n",
       "      <td>not_falling</td>\n",
       "    </tr>\n",
       "  </tbody>\n",
       "</table>\n",
       "<p>49736 rows × 7 columns</p>\n",
       "</div>"
      ],
      "text/plain": [
       "             ax        ay        az        gx        gy        gz   Class Name\n",
       "0     -1.028198  7.406667 -2.838919 -0.418559  0.063694  0.027297  not_falling\n",
       "1     -1.020539  7.627713 -2.904742 -0.430347  0.050697  0.045961  not_falling\n",
       "2     -1.013342  7.828984 -2.935427 -0.440230  0.041012  0.059841  not_falling\n",
       "3     -1.003664  7.984988 -2.912928 -0.446552  0.034748  0.066260  not_falling\n",
       "4     -0.980148  8.063047 -2.868723 -0.448961  0.024543  0.068392  not_falling\n",
       "...         ...       ...       ...       ...       ...       ...          ...\n",
       "49731  1.828079  9.423597 -0.645419 -1.292857 -0.038149 -2.056477  not_falling\n",
       "49732  0.686294  9.158905  1.320737 -1.122093 -0.212877 -1.661709  not_falling\n",
       "49733  1.196530  8.183237  1.745310 -0.915019 -0.535702 -1.189365  not_falling\n",
       "49734  1.506319  8.012976  1.559735 -0.686853 -0.531130 -0.872752  not_falling\n",
       "49735  1.216696  8.765750  1.196245 -0.448283 -0.186664 -0.719604  not_falling\n",
       "\n",
       "[49736 rows x 7 columns]"
      ]
     },
     "execution_count": 48,
     "metadata": {},
     "output_type": "execute_result"
    }
   ],
   "source": [
    "df"
   ]
  },
  {
   "cell_type": "code",
   "execution_count": 7,
   "metadata": {},
   "outputs": [],
   "source": [
    "import numpy as np "
   ]
  },
  {
   "cell_type": "code",
   "execution_count": null,
   "metadata": {},
   "outputs": [],
   "source": [
    " "
   ]
  },
  {
   "cell_type": "code",
   "execution_count": 8,
   "metadata": {},
   "outputs": [],
   "source": [
    "from sklearn.preprocessing import LabelEncoder"
   ]
  },
  {
   "cell_type": "code",
   "execution_count": 9,
   "metadata": {},
   "outputs": [],
   "source": [
    "label_encoder = LabelEncoder()\n",
    "df['Class Name'] = label_encoder.fit_transform(df['Class Name'])"
   ]
  },
  {
   "cell_type": "code",
   "execution_count": 10,
   "metadata": {},
   "outputs": [],
   "source": [
    "window_size=50"
   ]
  },
  {
   "cell_type": "code",
   "execution_count": 11,
   "metadata": {},
   "outputs": [
    {
     "name": "stdout",
     "output_type": "stream",
     "text": [
      "Sequences shape: (49687, 50, 6)\n",
      "Labels shape: (49687,)\n",
      "Example sequence:\n",
      " [[-1.02819820e+00  7.40666667e+00 -2.83891892e+00 -4.18558559e-01\n",
      "   6.36936937e-02  2.72972973e-02]\n",
      " [-1.02053856e+00  7.62771340e+00 -2.90474178e+00 -4.30347055e-01\n",
      "   5.06972726e-02  4.59606268e-02]\n",
      " [-1.01334181e+00  7.82898366e+00 -2.93542709e+00 -4.40229801e-01\n",
      "   4.10119749e-02  5.98410341e-02]\n",
      " [-1.00366358e+00  7.98498790e+00 -2.91292766e+00 -4.46551700e-01\n",
      "   3.47484650e-02  6.62602790e-02]\n",
      " [-9.80148161e-01  8.06304741e+00 -2.86872307e+00 -4.48961444e-01\n",
      "   2.45426599e-02  6.83921938e-02]\n",
      " [-9.40375457e-01  8.08909686e+00 -2.83576286e+00 -4.50772788e-01\n",
      "   1.41129947e-02  6.80320919e-02]\n",
      " [-8.91046565e-01  8.10858096e+00 -2.83366679e+00 -4.55653963e-01\n",
      "   1.07663127e-02  6.57920221e-02]\n",
      " [-8.69579312e-01  8.13848561e+00 -2.81770161e+00 -4.60877243e-01\n",
      "   1.29503724e-02  6.10410561e-02]\n",
      " [-8.86708570e-01  8.17864988e+00 -2.75772214e+00 -4.63899297e-01\n",
      "   1.62114262e-02  5.31561585e-02]\n",
      " [-8.79898274e-01  8.21734360e+00 -2.69940405e+00 -4.67353612e-01\n",
      "   1.72200370e-02  4.24372512e-02]\n",
      " [-8.35838137e-01  8.24898286e+00 -2.65856486e+00 -4.73684194e-01\n",
      "   1.46113018e-02  2.83595440e-02]\n",
      " [-8.05029852e-01  8.27666426e+00 -2.60890609e+00 -4.84304066e-01\n",
      "   9.17167327e-03  9.42164210e-03]\n",
      " [-8.02402311e-01  8.30638758e+00 -2.55869074e+00 -4.98129964e-01\n",
      "   2.77453433e-03 -1.43140561e-02]\n",
      " [-8.10185172e-01  8.34540267e+00 -2.54377991e+00 -5.12364513e-01\n",
      "  -2.44527598e-03 -4.15594417e-02]\n",
      " [-8.30063635e-01  8.39003736e+00 -2.54131579e+00 -5.29498471e-01\n",
      "  -1.16429466e-02 -7.34194027e-02]\n",
      " [-8.73745124e-01  8.43053615e+00 -2.49691735e+00 -5.53941141e-01\n",
      "  -3.25387787e-02 -1.11501812e-01]\n",
      " [-9.20842247e-01  8.46850504e+00 -2.43045589e+00 -5.75930521e-01\n",
      "  -5.29982385e-02 -1.47824977e-01]\n",
      " [-9.67450838e-01  8.50935051e+00 -2.36023904e+00 -5.90372018e-01\n",
      "  -6.61694052e-02 -1.76943254e-01]\n",
      " [-1.03842891e+00  8.55455059e+00 -2.26889343e+00 -6.03665743e-01\n",
      "  -7.98643423e-02 -2.00846247e-01]\n",
      " [-1.10853566e+00  8.58682144e+00 -2.18988136e+00 -6.15351639e-01\n",
      "  -9.06351458e-02 -2.19963008e-01]\n",
      " [-1.13197137e+00  8.58304497e+00 -2.17570585e+00 -6.21100191e-01\n",
      "  -8.92503464e-02 -2.33902244e-01]\n",
      " [-1.14841621e+00  8.56503335e+00 -2.17479180e+00 -6.20811973e-01\n",
      "  -7.74174403e-02 -2.44841507e-01]\n",
      " [-1.24072130e+00  8.57676810e+00 -2.08347318e+00 -6.16527785e-01\n",
      "  -6.24506829e-02 -2.56210334e-01]\n",
      " [-1.41128196e+00  8.58209069e+00 -1.92954141e+00 -6.05134704e-01\n",
      "  -4.60967155e-02 -2.65403575e-01]\n",
      " [-1.56707708e+00  8.45344634e+00 -1.88578235e+00 -5.76068650e-01\n",
      "  -2.33664094e-02 -2.62464698e-01]\n",
      " [-1.75928151e+00  8.23132925e+00 -1.84029523e+00 -5.24360147e-01\n",
      "  -3.67131659e-04 -2.47978546e-01]\n",
      " [-1.97181310e+00  8.02468216e+00 -1.70259166e+00 -4.60489750e-01\n",
      "   4.06617423e-03 -2.24600001e-01]\n",
      " [-2.12948244e+00  7.89331196e+00 -1.47216841e+00 -3.94207627e-01\n",
      "  -1.12994055e-02 -1.90286736e-01]\n",
      " [-2.20988948e+00  7.82239670e+00 -1.16717049e+00 -3.26303736e-01\n",
      "  -3.02717575e-02 -1.40553776e-01]\n",
      " [-2.24585370e+00  7.78593885e+00 -8.20875968e-01 -2.62478719e-01\n",
      "  -5.05950022e-02 -8.05747891e-02]\n",
      " [-2.20919489e+00  7.78258889e+00 -5.28378697e-01 -2.14663171e-01\n",
      "  -7.23646560e-02 -3.29926260e-02]\n",
      " [-2.10665419e+00  7.82658719e+00 -2.47180984e-01 -1.78069592e-01\n",
      "  -9.20136612e-02  3.34352271e-03]\n",
      " [-1.96127989e+00  7.93249297e+00  1.09572291e-01 -1.42284589e-01\n",
      "  -1.03235758e-01  3.93193355e-02]\n",
      " [-1.76300257e+00  8.08293055e+00  4.85068384e-01 -1.10966858e-01\n",
      "  -8.92215017e-02  7.43123832e-02]\n",
      " [-1.50001372e+00  8.24279289e+00  7.52361890e-01 -9.24370252e-02\n",
      "  -2.99864841e-02  1.02126864e-01]\n",
      " [-1.25709427e+00  8.36878778e+00  8.08725285e-01 -7.87295260e-02\n",
      "   8.03680723e-02  1.18827504e-01]\n",
      " [-1.13865099e+00  8.43710290e+00  6.28132830e-01 -5.98633073e-02\n",
      "   2.19551529e-01  1.24740773e-01]\n",
      " [-1.19443794e+00  8.48059991e+00  3.52008904e-01 -3.70690310e-02\n",
      "   3.11052179e-01  1.28479013e-01]\n",
      " [-1.34088456e+00  8.51895648e+00  7.31792581e-02 -1.41183593e-02\n",
      "   3.31656662e-01  1.34488843e-01]\n",
      " [-1.39819848e+00  8.55460676e+00 -1.74216552e-01  4.64174731e-03\n",
      "   3.06333402e-01  1.42909744e-01]\n",
      " [-1.27619609e+00  8.58992127e+00 -3.85361432e-01  1.69679350e-02\n",
      "   2.64832891e-01  1.48375080e-01]\n",
      " [-1.06357245e+00  8.62800867e+00 -6.09466463e-01  2.47319830e-02\n",
      "   2.43787462e-01  1.35037465e-01]\n",
      " [-8.66629737e-01  8.66393801e+00 -8.66667486e-01  2.89112551e-02\n",
      "   2.70350834e-01  9.40831400e-02]\n",
      " [-7.71520213e-01  8.66502269e+00 -1.04754206e+00  2.55162114e-02\n",
      "   3.30820328e-01  4.76235898e-02]\n",
      " [-7.75148431e-01  8.63925854e+00 -1.12690307e+00  1.43751751e-02\n",
      "   4.03515411e-01  5.14537017e-03]\n",
      " [-8.31895856e-01  8.61210065e+00 -1.15365194e+00 -1.39788349e-03\n",
      "   4.69040364e-01 -3.21509451e-02]\n",
      " [-9.10687139e-01  8.58927881e+00 -1.18004799e+00 -1.85344210e-02\n",
      "   5.11043270e-01 -5.70953736e-02]\n",
      " [-9.94846470e-01  8.56359310e+00 -1.20407671e+00 -3.78014786e-02\n",
      "   5.34765556e-01 -7.29386733e-02]\n",
      " [-1.07683041e+00  8.53095559e+00 -1.18940817e+00 -6.18262636e-02\n",
      "   5.56203089e-01 -8.86009683e-02]\n",
      " [-1.14175701e+00  8.54865753e+00 -1.14895068e+00 -8.56756171e-02\n",
      "   5.58467370e-01 -9.64694756e-02]]\n",
      "Example label: 1\n"
     ]
    }
   ],
   "source": [
    "def create_sequences(df, window_size):\n",
    "    sequences = []\n",
    "    labels = []\n",
    "\n",
    "    for i in range(len(df) - window_size + 1):\n",
    "        window = df.iloc[i:i + window_size]\n",
    "        # En fazla hangi etiket varsa onu al\n",
    "        label = window['Class Name'].mode()[0]  # Mod (en sık tekrar eden)\n",
    "        sequence = window[['ax', 'ay', 'az', 'gx', 'gy', 'gz']].values\n",
    "        sequences.append(sequence)\n",
    "        labels.append(label)\n",
    "\n",
    "    return np.array(sequences), np.array(labels)\n",
    "\n",
    "# Pencereleri ve etiketleri oluşturma\n",
    "sequences, labels = create_sequences(df, window_size)\n",
    "\n",
    "# Sonuçları gösterme\n",
    "print(\"Sequences shape:\", sequences.shape)  # (num_sequences, 25, 6)\n",
    "print(\"Labels shape:\", labels.shape)        # (num_sequences,)\n",
    "print(\"Example sequence:\\n\", sequences[0])  # İlk pencere örneği\n",
    "print(\"Example label:\", labels[0])           # İlk pencere etiket"
   ]
  },
  {
   "cell_type": "code",
   "execution_count": 96,
   "metadata": {},
   "outputs": [],
   "source": [
    "a,b=np.unique(labels,return_counts=True)"
   ]
  },
  {
   "cell_type": "code",
   "execution_count": 97,
   "metadata": {},
   "outputs": [
    {
     "data": {
      "text/plain": [
       "array(['falling', 'not_falling'], dtype=object)"
      ]
     },
     "execution_count": 97,
     "metadata": {},
     "output_type": "execute_result"
    }
   ],
   "source": [
    "label_encoder.inverse_transform(a)"
   ]
  },
  {
   "cell_type": "code",
   "execution_count": 98,
   "metadata": {},
   "outputs": [
    {
     "data": {
      "text/plain": [
       "array([ 9013, 40674], dtype=int64)"
      ]
     },
     "execution_count": 98,
     "metadata": {},
     "output_type": "execute_result"
    }
   ],
   "source": [
    "b"
   ]
  },
  {
   "cell_type": "code",
   "execution_count": 99,
   "metadata": {},
   "outputs": [
    {
     "data": {
      "text/plain": [
       "array([[-1.02819820e+00,  7.40666667e+00, -2.83891892e+00,\n",
       "        -4.18558559e-01,  6.36936937e-02,  2.72972973e-02],\n",
       "       [-1.02053856e+00,  7.62771340e+00, -2.90474178e+00,\n",
       "        -4.30347055e-01,  5.06972726e-02,  4.59606268e-02],\n",
       "       [-1.01334181e+00,  7.82898366e+00, -2.93542709e+00,\n",
       "        -4.40229801e-01,  4.10119749e-02,  5.98410341e-02],\n",
       "       [-1.00366358e+00,  7.98498790e+00, -2.91292766e+00,\n",
       "        -4.46551700e-01,  3.47484650e-02,  6.62602790e-02],\n",
       "       [-9.80148161e-01,  8.06304741e+00, -2.86872307e+00,\n",
       "        -4.48961444e-01,  2.45426599e-02,  6.83921938e-02],\n",
       "       [-9.40375457e-01,  8.08909686e+00, -2.83576286e+00,\n",
       "        -4.50772788e-01,  1.41129947e-02,  6.80320919e-02],\n",
       "       [-8.91046565e-01,  8.10858096e+00, -2.83366679e+00,\n",
       "        -4.55653963e-01,  1.07663127e-02,  6.57920221e-02],\n",
       "       [-8.69579312e-01,  8.13848561e+00, -2.81770161e+00,\n",
       "        -4.60877243e-01,  1.29503724e-02,  6.10410561e-02],\n",
       "       [-8.86708570e-01,  8.17864988e+00, -2.75772214e+00,\n",
       "        -4.63899297e-01,  1.62114262e-02,  5.31561585e-02],\n",
       "       [-8.79898274e-01,  8.21734360e+00, -2.69940405e+00,\n",
       "        -4.67353612e-01,  1.72200370e-02,  4.24372512e-02],\n",
       "       [-8.35838137e-01,  8.24898286e+00, -2.65856486e+00,\n",
       "        -4.73684194e-01,  1.46113018e-02,  2.83595440e-02],\n",
       "       [-8.05029852e-01,  8.27666426e+00, -2.60890609e+00,\n",
       "        -4.84304066e-01,  9.17167327e-03,  9.42164210e-03],\n",
       "       [-8.02402311e-01,  8.30638758e+00, -2.55869074e+00,\n",
       "        -4.98129964e-01,  2.77453433e-03, -1.43140561e-02],\n",
       "       [-8.10185172e-01,  8.34540267e+00, -2.54377991e+00,\n",
       "        -5.12364513e-01, -2.44527598e-03, -4.15594417e-02],\n",
       "       [-8.30063635e-01,  8.39003736e+00, -2.54131579e+00,\n",
       "        -5.29498471e-01, -1.16429466e-02, -7.34194027e-02],\n",
       "       [-8.73745124e-01,  8.43053615e+00, -2.49691735e+00,\n",
       "        -5.53941141e-01, -3.25387787e-02, -1.11501812e-01],\n",
       "       [-9.20842247e-01,  8.46850504e+00, -2.43045589e+00,\n",
       "        -5.75930521e-01, -5.29982385e-02, -1.47824977e-01],\n",
       "       [-9.67450838e-01,  8.50935051e+00, -2.36023904e+00,\n",
       "        -5.90372018e-01, -6.61694052e-02, -1.76943254e-01],\n",
       "       [-1.03842891e+00,  8.55455059e+00, -2.26889343e+00,\n",
       "        -6.03665743e-01, -7.98643423e-02, -2.00846247e-01],\n",
       "       [-1.10853566e+00,  8.58682144e+00, -2.18988136e+00,\n",
       "        -6.15351639e-01, -9.06351458e-02, -2.19963008e-01],\n",
       "       [-1.13197137e+00,  8.58304497e+00, -2.17570585e+00,\n",
       "        -6.21100191e-01, -8.92503464e-02, -2.33902244e-01],\n",
       "       [-1.14841621e+00,  8.56503335e+00, -2.17479180e+00,\n",
       "        -6.20811973e-01, -7.74174403e-02, -2.44841507e-01],\n",
       "       [-1.24072130e+00,  8.57676810e+00, -2.08347318e+00,\n",
       "        -6.16527785e-01, -6.24506829e-02, -2.56210334e-01],\n",
       "       [-1.41128196e+00,  8.58209069e+00, -1.92954141e+00,\n",
       "        -6.05134704e-01, -4.60967155e-02, -2.65403575e-01],\n",
       "       [-1.56707708e+00,  8.45344634e+00, -1.88578235e+00,\n",
       "        -5.76068650e-01, -2.33664094e-02, -2.62464698e-01],\n",
       "       [-1.75928151e+00,  8.23132925e+00, -1.84029523e+00,\n",
       "        -5.24360147e-01, -3.67131659e-04, -2.47978546e-01],\n",
       "       [-1.97181310e+00,  8.02468216e+00, -1.70259166e+00,\n",
       "        -4.60489750e-01,  4.06617423e-03, -2.24600001e-01],\n",
       "       [-2.12948244e+00,  7.89331196e+00, -1.47216841e+00,\n",
       "        -3.94207627e-01, -1.12994055e-02, -1.90286736e-01],\n",
       "       [-2.20988948e+00,  7.82239670e+00, -1.16717049e+00,\n",
       "        -3.26303736e-01, -3.02717575e-02, -1.40553776e-01],\n",
       "       [-2.24585370e+00,  7.78593885e+00, -8.20875968e-01,\n",
       "        -2.62478719e-01, -5.05950022e-02, -8.05747891e-02],\n",
       "       [-2.20919489e+00,  7.78258889e+00, -5.28378697e-01,\n",
       "        -2.14663171e-01, -7.23646560e-02, -3.29926260e-02],\n",
       "       [-2.10665419e+00,  7.82658719e+00, -2.47180984e-01,\n",
       "        -1.78069592e-01, -9.20136612e-02,  3.34352271e-03],\n",
       "       [-1.96127989e+00,  7.93249297e+00,  1.09572291e-01,\n",
       "        -1.42284589e-01, -1.03235758e-01,  3.93193355e-02],\n",
       "       [-1.76300257e+00,  8.08293055e+00,  4.85068384e-01,\n",
       "        -1.10966858e-01, -8.92215017e-02,  7.43123832e-02],\n",
       "       [-1.50001372e+00,  8.24279289e+00,  7.52361890e-01,\n",
       "        -9.24370252e-02, -2.99864841e-02,  1.02126864e-01],\n",
       "       [-1.25709427e+00,  8.36878778e+00,  8.08725285e-01,\n",
       "        -7.87295260e-02,  8.03680723e-02,  1.18827504e-01],\n",
       "       [-1.13865099e+00,  8.43710290e+00,  6.28132830e-01,\n",
       "        -5.98633073e-02,  2.19551529e-01,  1.24740773e-01],\n",
       "       [-1.19443794e+00,  8.48059991e+00,  3.52008904e-01,\n",
       "        -3.70690310e-02,  3.11052179e-01,  1.28479013e-01],\n",
       "       [-1.34088456e+00,  8.51895648e+00,  7.31792581e-02,\n",
       "        -1.41183593e-02,  3.31656662e-01,  1.34488843e-01],\n",
       "       [-1.39819848e+00,  8.55460676e+00, -1.74216552e-01,\n",
       "         4.64174731e-03,  3.06333402e-01,  1.42909744e-01],\n",
       "       [-1.27619609e+00,  8.58992127e+00, -3.85361432e-01,\n",
       "         1.69679350e-02,  2.64832891e-01,  1.48375080e-01],\n",
       "       [-1.06357245e+00,  8.62800867e+00, -6.09466463e-01,\n",
       "         2.47319830e-02,  2.43787462e-01,  1.35037465e-01],\n",
       "       [-8.66629737e-01,  8.66393801e+00, -8.66667486e-01,\n",
       "         2.89112551e-02,  2.70350834e-01,  9.40831400e-02],\n",
       "       [-7.71520213e-01,  8.66502269e+00, -1.04754206e+00,\n",
       "         2.55162114e-02,  3.30820328e-01,  4.76235898e-02],\n",
       "       [-7.75148431e-01,  8.63925854e+00, -1.12690307e+00,\n",
       "         1.43751751e-02,  4.03515411e-01,  5.14537017e-03],\n",
       "       [-8.31895856e-01,  8.61210065e+00, -1.15365194e+00,\n",
       "        -1.39788349e-03,  4.69040364e-01, -3.21509451e-02],\n",
       "       [-9.10687139e-01,  8.58927881e+00, -1.18004799e+00,\n",
       "        -1.85344210e-02,  5.11043270e-01, -5.70953736e-02],\n",
       "       [-9.94846470e-01,  8.56359310e+00, -1.20407671e+00,\n",
       "        -3.78014786e-02,  5.34765556e-01, -7.29386733e-02],\n",
       "       [-1.07683041e+00,  8.53095559e+00, -1.18940817e+00,\n",
       "        -6.18262636e-02,  5.56203089e-01, -8.86009683e-02],\n",
       "       [-1.14175701e+00,  8.54865753e+00, -1.14895068e+00,\n",
       "        -8.56756171e-02,  5.58467370e-01, -9.64694756e-02]])"
      ]
     },
     "execution_count": 99,
     "metadata": {},
     "output_type": "execute_result"
    }
   ],
   "source": [
    "sequences[0] "
   ]
  },
  {
   "cell_type": "code",
   "execution_count": 100,
   "metadata": {},
   "outputs": [
    {
     "data": {
      "text/plain": [
       "array([[-1.02053856e+00,  7.62771340e+00, -2.90474178e+00,\n",
       "        -4.30347055e-01,  5.06972726e-02,  4.59606268e-02],\n",
       "       [-1.01334181e+00,  7.82898366e+00, -2.93542709e+00,\n",
       "        -4.40229801e-01,  4.10119749e-02,  5.98410341e-02],\n",
       "       [-1.00366358e+00,  7.98498790e+00, -2.91292766e+00,\n",
       "        -4.46551700e-01,  3.47484650e-02,  6.62602790e-02],\n",
       "       [-9.80148161e-01,  8.06304741e+00, -2.86872307e+00,\n",
       "        -4.48961444e-01,  2.45426599e-02,  6.83921938e-02],\n",
       "       [-9.40375457e-01,  8.08909686e+00, -2.83576286e+00,\n",
       "        -4.50772788e-01,  1.41129947e-02,  6.80320919e-02],\n",
       "       [-8.91046565e-01,  8.10858096e+00, -2.83366679e+00,\n",
       "        -4.55653963e-01,  1.07663127e-02,  6.57920221e-02],\n",
       "       [-8.69579312e-01,  8.13848561e+00, -2.81770161e+00,\n",
       "        -4.60877243e-01,  1.29503724e-02,  6.10410561e-02],\n",
       "       [-8.86708570e-01,  8.17864988e+00, -2.75772214e+00,\n",
       "        -4.63899297e-01,  1.62114262e-02,  5.31561585e-02],\n",
       "       [-8.79898274e-01,  8.21734360e+00, -2.69940405e+00,\n",
       "        -4.67353612e-01,  1.72200370e-02,  4.24372512e-02],\n",
       "       [-8.35838137e-01,  8.24898286e+00, -2.65856486e+00,\n",
       "        -4.73684194e-01,  1.46113018e-02,  2.83595440e-02],\n",
       "       [-8.05029852e-01,  8.27666426e+00, -2.60890609e+00,\n",
       "        -4.84304066e-01,  9.17167327e-03,  9.42164210e-03],\n",
       "       [-8.02402311e-01,  8.30638758e+00, -2.55869074e+00,\n",
       "        -4.98129964e-01,  2.77453433e-03, -1.43140561e-02],\n",
       "       [-8.10185172e-01,  8.34540267e+00, -2.54377991e+00,\n",
       "        -5.12364513e-01, -2.44527598e-03, -4.15594417e-02],\n",
       "       [-8.30063635e-01,  8.39003736e+00, -2.54131579e+00,\n",
       "        -5.29498471e-01, -1.16429466e-02, -7.34194027e-02],\n",
       "       [-8.73745124e-01,  8.43053615e+00, -2.49691735e+00,\n",
       "        -5.53941141e-01, -3.25387787e-02, -1.11501812e-01],\n",
       "       [-9.20842247e-01,  8.46850504e+00, -2.43045589e+00,\n",
       "        -5.75930521e-01, -5.29982385e-02, -1.47824977e-01],\n",
       "       [-9.67450838e-01,  8.50935051e+00, -2.36023904e+00,\n",
       "        -5.90372018e-01, -6.61694052e-02, -1.76943254e-01],\n",
       "       [-1.03842891e+00,  8.55455059e+00, -2.26889343e+00,\n",
       "        -6.03665743e-01, -7.98643423e-02, -2.00846247e-01],\n",
       "       [-1.10853566e+00,  8.58682144e+00, -2.18988136e+00,\n",
       "        -6.15351639e-01, -9.06351458e-02, -2.19963008e-01],\n",
       "       [-1.13197137e+00,  8.58304497e+00, -2.17570585e+00,\n",
       "        -6.21100191e-01, -8.92503464e-02, -2.33902244e-01],\n",
       "       [-1.14841621e+00,  8.56503335e+00, -2.17479180e+00,\n",
       "        -6.20811973e-01, -7.74174403e-02, -2.44841507e-01],\n",
       "       [-1.24072130e+00,  8.57676810e+00, -2.08347318e+00,\n",
       "        -6.16527785e-01, -6.24506829e-02, -2.56210334e-01],\n",
       "       [-1.41128196e+00,  8.58209069e+00, -1.92954141e+00,\n",
       "        -6.05134704e-01, -4.60967155e-02, -2.65403575e-01],\n",
       "       [-1.56707708e+00,  8.45344634e+00, -1.88578235e+00,\n",
       "        -5.76068650e-01, -2.33664094e-02, -2.62464698e-01],\n",
       "       [-1.75928151e+00,  8.23132925e+00, -1.84029523e+00,\n",
       "        -5.24360147e-01, -3.67131659e-04, -2.47978546e-01],\n",
       "       [-1.97181310e+00,  8.02468216e+00, -1.70259166e+00,\n",
       "        -4.60489750e-01,  4.06617423e-03, -2.24600001e-01],\n",
       "       [-2.12948244e+00,  7.89331196e+00, -1.47216841e+00,\n",
       "        -3.94207627e-01, -1.12994055e-02, -1.90286736e-01],\n",
       "       [-2.20988948e+00,  7.82239670e+00, -1.16717049e+00,\n",
       "        -3.26303736e-01, -3.02717575e-02, -1.40553776e-01],\n",
       "       [-2.24585370e+00,  7.78593885e+00, -8.20875968e-01,\n",
       "        -2.62478719e-01, -5.05950022e-02, -8.05747891e-02],\n",
       "       [-2.20919489e+00,  7.78258889e+00, -5.28378697e-01,\n",
       "        -2.14663171e-01, -7.23646560e-02, -3.29926260e-02],\n",
       "       [-2.10665419e+00,  7.82658719e+00, -2.47180984e-01,\n",
       "        -1.78069592e-01, -9.20136612e-02,  3.34352271e-03],\n",
       "       [-1.96127989e+00,  7.93249297e+00,  1.09572291e-01,\n",
       "        -1.42284589e-01, -1.03235758e-01,  3.93193355e-02],\n",
       "       [-1.76300257e+00,  8.08293055e+00,  4.85068384e-01,\n",
       "        -1.10966858e-01, -8.92215017e-02,  7.43123832e-02],\n",
       "       [-1.50001372e+00,  8.24279289e+00,  7.52361890e-01,\n",
       "        -9.24370252e-02, -2.99864841e-02,  1.02126864e-01],\n",
       "       [-1.25709427e+00,  8.36878778e+00,  8.08725285e-01,\n",
       "        -7.87295260e-02,  8.03680723e-02,  1.18827504e-01],\n",
       "       [-1.13865099e+00,  8.43710290e+00,  6.28132830e-01,\n",
       "        -5.98633073e-02,  2.19551529e-01,  1.24740773e-01],\n",
       "       [-1.19443794e+00,  8.48059991e+00,  3.52008904e-01,\n",
       "        -3.70690310e-02,  3.11052179e-01,  1.28479013e-01],\n",
       "       [-1.34088456e+00,  8.51895648e+00,  7.31792581e-02,\n",
       "        -1.41183593e-02,  3.31656662e-01,  1.34488843e-01],\n",
       "       [-1.39819848e+00,  8.55460676e+00, -1.74216552e-01,\n",
       "         4.64174731e-03,  3.06333402e-01,  1.42909744e-01],\n",
       "       [-1.27619609e+00,  8.58992127e+00, -3.85361432e-01,\n",
       "         1.69679350e-02,  2.64832891e-01,  1.48375080e-01],\n",
       "       [-1.06357245e+00,  8.62800867e+00, -6.09466463e-01,\n",
       "         2.47319830e-02,  2.43787462e-01,  1.35037465e-01],\n",
       "       [-8.66629737e-01,  8.66393801e+00, -8.66667486e-01,\n",
       "         2.89112551e-02,  2.70350834e-01,  9.40831400e-02],\n",
       "       [-7.71520213e-01,  8.66502269e+00, -1.04754206e+00,\n",
       "         2.55162114e-02,  3.30820328e-01,  4.76235898e-02],\n",
       "       [-7.75148431e-01,  8.63925854e+00, -1.12690307e+00,\n",
       "         1.43751751e-02,  4.03515411e-01,  5.14537017e-03],\n",
       "       [-8.31895856e-01,  8.61210065e+00, -1.15365194e+00,\n",
       "        -1.39788349e-03,  4.69040364e-01, -3.21509451e-02],\n",
       "       [-9.10687139e-01,  8.58927881e+00, -1.18004799e+00,\n",
       "        -1.85344210e-02,  5.11043270e-01, -5.70953736e-02],\n",
       "       [-9.94846470e-01,  8.56359310e+00, -1.20407671e+00,\n",
       "        -3.78014786e-02,  5.34765556e-01, -7.29386733e-02],\n",
       "       [-1.07683041e+00,  8.53095559e+00, -1.18940817e+00,\n",
       "        -6.18262636e-02,  5.56203089e-01, -8.86009683e-02],\n",
       "       [-1.14175701e+00,  8.54865753e+00, -1.14895068e+00,\n",
       "        -8.56756171e-02,  5.58467370e-01, -9.64694756e-02],\n",
       "       [-1.14908555e+00,  8.56145521e+00, -1.11881540e+00,\n",
       "        -1.06297864e-01,  5.46709116e-01, -9.79931801e-02]])"
      ]
     },
     "execution_count": 100,
     "metadata": {},
     "output_type": "execute_result"
    }
   ],
   "source": [
    "sequences[1] "
   ]
  },
  {
   "cell_type": "code",
   "execution_count": 113,
   "metadata": {},
   "outputs": [
    {
     "name": "stdout",
     "output_type": "stream",
     "text": [
      "X_train shape: (34780, 50, 6)\n",
      "X_test shape: (14907, 50, 6)\n",
      "y_train shape: (34780,)\n",
      "y_test shape: (14907,)\n"
     ]
    }
   ],
   "source": [
    "X_train, X_test, y_train, y_test = train_test_split(sequences, labels, test_size=0.3,stratify=labels, random_state=12)\n",
    "\n",
    "# Sonuçları gösterme\n",
    "print(\"X_train shape:\", X_train.shape)  #  \n",
    "print(\"X_test shape:\", X_test.shape)      #  \n",
    "print(\"y_train shape:\", y_train.shape)    #  \n",
    "print(\"y_test shape:\", y_test.shape)      # "
   ]
  },
  {
   "cell_type": "code",
   "execution_count": 102,
   "metadata": {},
   "outputs": [],
   "source": [
    "import pickle"
   ]
  },
  {
   "cell_type": "code",
   "execution_count": 103,
   "metadata": {},
   "outputs": [
    {
     "name": "stdout",
     "output_type": "stream",
     "text": [
      "NumPy arrays have been saved to data_arrays.pkl\n"
     ]
    }
   ],
   "source": [
    "data_to_save = {\n",
    "    'X_train': X_train,\n",
    "    'X_test': X_test,\n",
    "    'y_train': y_train,\n",
    "    'y_test': y_test\n",
    "}\n",
    "\n",
    " \n",
    "with open('data_arrays.pkl', 'wb') as f:\n",
    "    pickle.dump(data_to_save, f)\n",
    "\n",
    "print(\"NumPy arrays have been saved to data_arrays.pkl\")"
   ]
  },
  {
   "cell_type": "code",
   "execution_count": 104,
   "metadata": {},
   "outputs": [
    {
     "name": "stdout",
     "output_type": "stream",
     "text": [
      "Loaded X_train shape: (34780, 50, 6)\n",
      "Loaded X_test shape: (14907, 50, 6)\n",
      "Loaded y_train shape: (34780,)\n",
      "Loaded y_test shape: (14907,)\n"
     ]
    }
   ],
   "source": [
    " \n",
    "with open('data_arrays.pkl', 'rb') as f:\n",
    "    loaded_data = pickle.load(f)\n",
    "\n",
    "X_train_loaded = loaded_data['X_train']\n",
    "X_test_loaded = loaded_data['X_test']\n",
    "y_train_loaded = loaded_data['y_train']\n",
    "y_test_loaded = loaded_data['y_test']\n",
    " \n",
    "print(\"Loaded X_train shape:\", X_train_loaded.shape)\n",
    "print(\"Loaded X_test shape:\", X_test_loaded.shape)\n",
    "print(\"Loaded y_train shape:\", y_train_loaded.shape)\n",
    "print(\"Loaded y_test shape:\", y_test_loaded.shape)\n"
   ]
  },
  {
   "cell_type": "code",
   "execution_count": 105,
   "metadata": {},
   "outputs": [
    {
     "data": {
      "text/plain": [
       "array([1, 0, 1, ..., 0, 1, 1])"
      ]
     },
     "execution_count": 105,
     "metadata": {},
     "output_type": "execute_result"
    }
   ],
   "source": [
    "y_train"
   ]
  },
  {
   "cell_type": "code",
   "execution_count": 106,
   "metadata": {},
   "outputs": [
    {
     "name": "stdout",
     "output_type": "stream",
     "text": [
      "NumPy arrays have been saved to train_pickle.pkl\n",
      "NumPy arrays have been saved to test_pickle.pkl\n"
     ]
    }
   ],
   "source": [
    "# Eğitim verilerini pickle dosyasına kaydetme\n",
    "train_data_to_save = {\n",
    "    'X_train': X_train,\n",
    "    'y_train': y_train\n",
    "}\n",
    "\n",
    "with open('train_pickle.pkl', 'wb') as f:\n",
    "    pickle.dump(train_data_to_save, f)\n",
    "\n",
    "print(\"NumPy arrays have been saved to train_pickle.pkl\")\n",
    "\n",
    "# Test verilerini pickle dosyasına kaydetme\n",
    "test_data_to_save = {\n",
    "    'X_test': X_test,\n",
    "    'y_test': y_test\n",
    "}\n",
    "\n",
    "with open('test_pickle.pkl', 'wb') as f:\n",
    "    pickle.dump(test_data_to_save, f)\n",
    "\n",
    "print(\"NumPy arrays have been saved to test_pickle.pkl\")\n"
   ]
  },
  {
   "cell_type": "code",
   "execution_count": 107,
   "metadata": {},
   "outputs": [],
   "source": [
    "# Eğitim verilerini yükleme\n",
    "with open('train_pickle.pkl', 'rb') as f:\n",
    "    loaded_train_data = pickle.load(f)\n",
    "\n",
    "X_train_loaded = loaded_train_data['X_train']\n",
    "y_train_loaded = loaded_train_data['y_train']\n",
    "\n",
    "# Test verilerini yükleme\n",
    "with open('test_pickle.pkl', 'rb') as f:\n",
    "    loaded_test_data = pickle.load(f)\n",
    "\n",
    "X_test_loaded = loaded_test_data['X_test']\n",
    "y_test_loaded = loaded_test_data['y_test']\n"
   ]
  },
  {
   "cell_type": "code",
   "execution_count": 8,
   "metadata": {},
   "outputs": [
    {
     "data": {
      "text/plain": [
       "'falldetection123'"
      ]
     },
     "execution_count": 8,
     "metadata": {},
     "output_type": "execute_result"
    }
   ],
   "source": [
    "bucket"
   ]
  },
  {
   "cell_type": "code",
   "execution_count": 21,
   "metadata": {},
   "outputs": [
    {
     "data": {
      "text/plain": [
       "'sagemaker/fall_detection_classification/sklearncontainer'"
      ]
     },
     "execution_count": 21,
     "metadata": {},
     "output_type": "execute_result"
    }
   ],
   "source": [
    "sk_prefix"
   ]
  },
  {
   "cell_type": "code",
   "execution_count": null,
   "metadata": {},
   "outputs": [
    {
     "name": "stdout",
     "output_type": "stream",
     "text": [
      "s3://falldetection123/sagemaker/fall_detection_classification/sklearncontainer/train_pickle.pkl\n",
      "s3://falldetection123/sagemaker/fall_detection_classification/sklearncontainer/test_pickle.pkl\n"
     ]
    }
   ],
   "source": [
    "\n",
    "#sending data to s3 , \n",
    "\n",
    "sk_prefix=\"sagemaker/fall_detection_classification/sklearncontainer\"\n",
    "trainpath=sess.upload_data(path=\"train_pickle.pkl\",bucket=bucket,key_prefix=sk_prefix)\n",
    "testpath=sess.upload_data(path=\"test_pickle.pkl\",bucket=bucket,key_prefix=sk_prefix)\n",
    "\n",
    "print(trainpath)\n",
    "print(testpath)\n",
    "\n"
   ]
  },
  {
   "cell_type": "code",
   "execution_count": 13,
   "metadata": {},
   "outputs": [],
   "source": [
    "import pickle"
   ]
  },
  {
   "cell_type": "code",
   "execution_count": 14,
   "metadata": {},
   "outputs": [
    {
     "ename": "NameError",
     "evalue": "name 'X_train' is not defined",
     "output_type": "error",
     "traceback": [
      "\u001b[1;31m---------------------------------------------------------------------------\u001b[0m",
      "\u001b[1;31mNameError\u001b[0m                                 Traceback (most recent call last)",
      "Cell \u001b[1;32mIn[14], line 1\u001b[0m\n\u001b[1;32m----> 1\u001b[0m X_train_reshaped \u001b[38;5;241m=\u001b[39m \u001b[43mX_train\u001b[49m\u001b[38;5;241m.\u001b[39mreshape(X_train\u001b[38;5;241m.\u001b[39mshape[\u001b[38;5;241m0\u001b[39m], \u001b[38;5;241m-\u001b[39m\u001b[38;5;241m1\u001b[39m)   \n\u001b[0;32m      2\u001b[0m X_test_reshaped \u001b[38;5;241m=\u001b[39m X_test\u001b[38;5;241m.\u001b[39mreshape(X_test\u001b[38;5;241m.\u001b[39mshape[\u001b[38;5;241m0\u001b[39m], \u001b[38;5;241m-\u001b[39m\u001b[38;5;241m1\u001b[39m)     \n\u001b[0;32m      4\u001b[0m \u001b[38;5;28mprint\u001b[39m(\u001b[38;5;124m\"\u001b[39m\u001b[38;5;124mX_train reshaped shape:\u001b[39m\u001b[38;5;124m\"\u001b[39m, X_train_reshaped\u001b[38;5;241m.\u001b[39mshape)  \n",
      "\u001b[1;31mNameError\u001b[0m: name 'X_train' is not defined"
     ]
    }
   ],
   "source": [
    " \n",
    "X_train_reshaped = X_train.reshape(X_train.shape[0], -1)   \n",
    "X_test_reshaped = X_test.reshape(X_test.shape[0], -1)     \n",
    "\n",
    "print(\"X_train reshaped shape:\", X_train_reshaped.shape)  \n",
    "print(\"X_test reshaped shape:\", X_test_reshaped.shape)    \n"
   ]
  },
  {
   "cell_type": "code",
   "execution_count": null,
   "metadata": {},
   "outputs": [
    {
     "name": "stdout",
     "output_type": "stream",
     "text": [
      "NumPy arrays have been saved to train_pickle.pkl\n",
      "NumPy arrays have been saved to test_pickle.pkl\n"
     ]
    }
   ],
   "source": [
    " \n",
    "train_data_to_save = {\n",
    "    'X_train': X_train_reshaped,\n",
    "    'y_train': y_train\n",
    "}\n",
    "\n",
    "with open('train_pickle_random_forest.pkl', 'wb') as f:\n",
    "    pickle.dump(train_data_to_save, f)\n",
    "\n",
    "print(\"NumPy arrays have been saved to train_pickle.pkl\")\n",
    "\n",
    " \n",
    "test_data_to_save = {\n",
    "    'X_test': X_test_reshaped,\n",
    "    'y_test': y_test\n",
    "}\n",
    "\n",
    "with open('test_pickle_random_forest.pkl', 'wb') as f:\n",
    "    pickle.dump(test_data_to_save, f)\n",
    "\n",
    "print(\"NumPy arrays have been saved to test_pickle.pkl\")\n"
   ]
  },
  {
   "cell_type": "code",
   "execution_count": 15,
   "metadata": {},
   "outputs": [],
   "source": [
    " \n",
    "with open('train_pickle_random_forest.pkl', 'rb') as f:\n",
    "    loaded_train_data = pickle.load(f)\n",
    "\n",
    "X_train_loaded = loaded_train_data['X_train']\n",
    "y_train_loaded = loaded_train_data['y_train']\n",
    " \n",
    "with open('test_pickle_random_forest.pkl', 'rb') as f:\n",
    "    loaded_test_data = pickle.load(f)\n",
    "\n",
    "X_test_loaded = loaded_test_data['X_test']\n",
    "y_test_loaded = loaded_test_data['y_test']\n"
   ]
  },
  {
   "cell_type": "code",
   "execution_count": null,
   "metadata": {},
   "outputs": [],
   "source": []
  },
  {
   "cell_type": "code",
   "execution_count": null,
   "metadata": {},
   "outputs": [
    {
     "name": "stdout",
     "output_type": "stream",
     "text": [
      "s3://falldetection123/sagemaker/fall_detection_classification/sklearncontainer/train_pickle_random_forest.pkl\n",
      "s3://falldetection123/sagemaker/fall_detection_classification/sklearncontainer/test_pickle_random_forest.pkl\n"
     ]
    }
   ],
   "source": [
    "# s3 e veri gönderme kodu \n",
    "\n",
    "sk_prefix=\"sagemaker/fall_detection_classification/sklearncontainer\"\n",
    "trainpath=sess.upload_data(path=\"train_pickle_random_forest.pkl\",bucket=bucket,key_prefix=sk_prefix)\n",
    "testpath=sess.upload_data(path=\"test_pickle_random_forest.pkl\",bucket=bucket,key_prefix=sk_prefix)\n",
    "\n",
    "print(trainpath)\n",
    "print(testpath)\n",
    "\n"
   ]
  },
  {
   "cell_type": "code",
   "execution_count": 16,
   "metadata": {},
   "outputs": [],
   "source": [
    "trainpath=\"s3://falldetection123/sagemaker/fall_detection_classification/sklearncontainer/train_pickle_random_forest.pkl\"\n",
    "testpath=\"s3://falldetection123/sagemaker/fall_detection_classification/sklearncontainer/test_pickle_random_forest.pkl\"\n",
    "sk_prefix=\"sagemaker/fall_detection_classification/sklearncontainer\""
   ]
  },
  {
   "cell_type": "code",
   "execution_count": 18,
   "metadata": {},
   "outputs": [],
   "source": [
    "train_df=pd.read_pickle('train_pickle_random_forest.pkl')\n",
    "test_df=pd.read_pickle(\"test_pickle_random_forest.pkl\")"
   ]
  },
  {
   "cell_type": "code",
   "execution_count": 19,
   "metadata": {},
   "outputs": [
    {
     "data": {
      "text/plain": [
       "{'X_train': array([[ 0.68831886,  8.20594994, -4.15952752, ...,  0.28683116,\n",
       "         -0.16130135,  0.14843587],\n",
       "        [ 4.48217772,  6.5658369 ,  2.49315504, ...,  0.31313517,\n",
       "         -0.07944006, -2.60086926],\n",
       "        [-7.45277452, -5.00710093,  2.90725887, ...,  1.13913248,\n",
       "         -0.85724757,  1.34758232],\n",
       "        ...,\n",
       "        [ 0.28997896, 11.80627377,  0.61132388, ...,  1.86740118,\n",
       "         -0.40607173,  0.60889271],\n",
       "        [-3.94371725,  8.16725242, -2.53464654, ...,  0.68377823,\n",
       "         -0.52337796,  0.40838449],\n",
       "        [-2.71635289,  8.34202028, -3.0484175 , ..., -0.86280443,\n",
       "          1.54610758, -1.19308458]]),\n",
       " 'y_train': array([1, 0, 1, ..., 0, 1, 1])}"
      ]
     },
     "execution_count": 19,
     "metadata": {},
     "output_type": "execute_result"
    }
   ],
   "source": [
    "train_df"
   ]
  },
  {
   "cell_type": "code",
   "execution_count": 20,
   "metadata": {},
   "outputs": [
    {
     "data": {
      "text/plain": [
       "array([1, 1, 1, ..., 1, 1, 0])"
      ]
     },
     "execution_count": 20,
     "metadata": {},
     "output_type": "execute_result"
    }
   ],
   "source": [
    "test_df[\"y_test\"]"
   ]
  },
  {
   "cell_type": "code",
   "execution_count": 21,
   "metadata": {},
   "outputs": [
    {
     "data": {
      "text/plain": [
       "{'X_train': array([[ 0.68831886,  8.20594994, -4.15952752, ...,  0.28683116,\n",
       "         -0.16130135,  0.14843587],\n",
       "        [ 4.48217772,  6.5658369 ,  2.49315504, ...,  0.31313517,\n",
       "         -0.07944006, -2.60086926],\n",
       "        [-7.45277452, -5.00710093,  2.90725887, ...,  1.13913248,\n",
       "         -0.85724757,  1.34758232],\n",
       "        ...,\n",
       "        [ 0.28997896, 11.80627377,  0.61132388, ...,  1.86740118,\n",
       "         -0.40607173,  0.60889271],\n",
       "        [-3.94371725,  8.16725242, -2.53464654, ...,  0.68377823,\n",
       "         -0.52337796,  0.40838449],\n",
       "        [-2.71635289,  8.34202028, -3.0484175 , ..., -0.86280443,\n",
       "          1.54610758, -1.19308458]]),\n",
       " 'y_train': array([1, 0, 1, ..., 0, 1, 1])}"
      ]
     },
     "execution_count": 21,
     "metadata": {},
     "output_type": "execute_result"
    }
   ],
   "source": [
    "train_df"
   ]
  },
  {
   "cell_type": "code",
   "execution_count": null,
   "metadata": {},
   "outputs": [],
   "source": []
  },
  {
   "cell_type": "markdown",
   "metadata": {},
   "source": [
    "%%writefile script.py\n",
    "\n",
    "from sklearn.ensemble import RandomForestClassifier\n",
    "from sklearn.metrics import accuracy_score,classification_report,confusion_matrix,precision_score\n",
    "import sklearn\n",
    "import joblib\n",
    "import boto3\n",
    "import pathlib\n",
    "from io import StringIO\n",
    "import argparse\n",
    "import os\n",
    "import numpy as np\n",
    "import pandas as pd \n",
    "\n",
    "\n",
    "def model_fn(model_dir):\n",
    "    model_path = os.path.join(model_dir, \"model.joblib\")\n",
    "    if os.path.exists(model_path):\n",
    "        clf = joblib.load(model_path)\n",
    "        return clf\n",
    "    else:\n",
    "        raise FileNotFoundError(f\"Model file not found at {model_path}\")\n",
    "\n",
    "\n",
    "\n",
    "def input_fn(request_body, request_content_type):\n",
    "    if request_content_type == 'application/json':\n",
    "        input_data = pd.DataFrame(json.loads(request_body))\n",
    "        return input_data\n",
    "    else:\n",
    "        raise ValueError(f\"Unsupported content type: {request_content_type}\")\n",
    "\n",
    "def predict_fn(input_data, model):\n",
    "    predictions = model.predict(input_data)\n",
    "    return predictions\n",
    "\n",
    "def output_fn(predictions, content_type):\n",
    "    if content_type == 'application/json':\n",
    "        return json.dumps(predictions.tolist())\n",
    "    else:\n",
    "        raise ValueError(f\"Unsupported content type: {content_type}\")\n",
    "\n",
    "\n",
    "if __name__==\"__main__\":\n",
    "\n",
    "    print(\" extracting arugments\")\n",
    "    parser=argparse.ArgumentParser()\n",
    "\n",
    "    # hyperparameter\n",
    "    parser.add_argument(\"--n_estimators\",type=int,default=3)\n",
    "    parser.add_argument(\"--random_state\",type=int,default=0)\n",
    "    \n",
    "\n",
    "    # data,model and outpu _directories \n",
    "\n",
    "    parser.add_argument(\"--model-dir\",type=str,default=os.environ.get(\"SM_MODEL_DIR\"))\n",
    "    parser.add_argument(\"--train\",type=str,default=os.environ.get(\"SM_CHANNEL_TRAIN\"))\n",
    "    parser.add_argument(\"-test\",type=str,default=os.environ.get(\"SM_CHANNEL_TEST\"))\n",
    "    parser.add_argument(\"--train-file\",type=str,default=\"train_pickle_random_forest.pkl\")\n",
    "    parser.add_argument(\"--test-file\",type=str,default=\"test_pickle_random_forest.pkl\")\n",
    "\n",
    "\n",
    "    args,_=parser.parse_known_args()\n",
    "\n",
    "    print(\"SKLearn version: \",sklearn.__version__)\n",
    "    print(\"joblib version \",joblib.__version__)\n",
    "\n",
    "    train_df=pd.read_pickle(os.path.join(args.train,args.train_file))\n",
    "    test_df=pd.read_pickle(os.path.join(args.test,args.test_file))\n",
    "\n",
    "    X_train=train_df[\"X_train\"]\n",
    "    X_test=test_df[\"X_test\"]\n",
    "    y_train=train_df[\"y_train\"]\n",
    "    y_test=test_df[\"y_test\"]\n",
    "\n",
    "    print(X_train.shape)\n",
    "    print(X_test.shape)\n",
    "    print(y_train.shape)\n",
    "    print(y_test.shape)\n",
    "\n",
    "    print(\"training random forest model \")\n",
    "    print()\n",
    "    model = RandomForestClassifier(n_estimators=args.n_estimators, random_state=args.random_state, verbose=2, n_jobs=1)\n",
    "\n",
    "    model.fit(X_train,y_train)\n",
    "    print()\n",
    "    model_path=os.path.join(args.model_dir,\"model.joblib\")\n",
    "    joblib.dump(model,model_path)\n",
    "\n",
    "    y_pred_test=model.predict(X_test)\n",
    "    test_acc=accuracy_score(y_test,y_pred_test)\n",
    "    test_rep=classification_report(y_test,y_pred_test)\n",
    "\n",
    "    print(\"test accuracy\",test_acc)\n",
    "    print(\"test report\",test_rep)\n",
    "\n",
    "\n",
    "\n",
    "\n"
   ]
  },
  {
   "cell_type": "code",
   "execution_count": 108,
   "metadata": {},
   "outputs": [
    {
     "name": "stdout",
     "output_type": "stream",
     "text": [
      "Overwriting script.py\n"
     ]
    }
   ],
   "source": [
    "%%writefile script.py\n",
    "\n",
    "from sklearn.ensemble import RandomForestClassifier\n",
    "from sklearn.metrics import accuracy_score, classification_report\n",
    "import sklearn\n",
    "import joblib\n",
    "import argparse\n",
    "import os\n",
    "import numpy as np\n",
    "import pandas as pd\n",
    "import json\n",
    "\n",
    "# Model yükleme fonksiyonu\n",
    "def model_fn(model_dir):\n",
    "    model_path = os.path.join(model_dir, \"model.joblib\")\n",
    "    if os.path.exists(model_path):\n",
    "        clf = joblib.load(model_path)\n",
    "        return clf\n",
    "    else:\n",
    "        raise FileNotFoundError(f\"Model file not found at {model_path}\")\n",
    "\n",
    "# Tahmin için gerekli input_fn, predict_fn ve output_fn fonksiyonlar\n",
    "\n",
    "if __name__ == \"__main__\":\n",
    "\n",
    "    print(\"Extracting arguments\")\n",
    "    parser = argparse.ArgumentParser()\n",
    "\n",
    "    # Hiperparametreler\n",
    "    parser.add_argument(\"--n_estimators\", type=int, default=3)\n",
    "    parser.add_argument(\"--random_state\", type=int, default=0)\n",
    "\n",
    "    # Veri, model ve çıktı dizinleri\n",
    "    parser.add_argument(\"--model-dir\", type=str, default=os.environ.get(\"SM_MODEL_DIR\"))\n",
    "    parser.add_argument(\"--train\", type=str, default=os.environ.get(\"SM_CHANNEL_TRAIN\"))\n",
    "    parser.add_argument(\"--test\", type=str, default=os.environ.get(\"SM_CHANNEL_TEST\"))\n",
    "    parser.add_argument(\"--train-file\", type=str, default=\"train_pickle_random_forest.pkl\")\n",
    "    parser.add_argument(\"--test-file\", type=str, default=\"test_pickle_random_forest.pkl\")\n",
    "\n",
    "    args, _ = parser.parse_known_args()\n",
    "\n",
    "    print(\"SKLearn version: \", sklearn.__version__)\n",
    "    print(\"joblib version \", joblib.__version__)\n",
    "\n",
    "    # Eğitim ve test verilerini yükleme\n",
    "    train_df = pd.read_pickle(os.path.join(args.train, args.train_file))\n",
    "    test_df = pd.read_pickle(os.path.join(args.test, args.test_file))\n",
    "\n",
    "    X_train = train_df[\"X_train\"]\n",
    "    X_test = test_df[\"X_test\"]\n",
    "    y_train = train_df[\"y_train\"]\n",
    "    y_test = test_df[\"y_test\"]\n",
    "\n",
    "    print(X_train.shape)\n",
    "    print(X_test.shape)\n",
    "    print(y_train.shape)\n",
    "    print(y_test.shape)\n",
    "\n",
    "    print(\"Training RandomForest model\")\n",
    "    model = RandomForestClassifier(n_estimators=args.n_estimators, random_state=args.random_state, verbose=2, n_jobs=1)\n",
    "    model.fit(X_train, y_train)\n",
    "\n",
    "    model_path = os.path.join(args.model_dir, \"model.joblib\")\n",
    "    joblib.dump(model, model_path)\n",
    "    print(f\"Model saved at {model_path}\")\n",
    "\n",
    "    # Test set üzerinde tahmin yapma ve değerlendirme\n",
    "    y_pred_test = model.predict(X_test)\n",
    "    test_acc = accuracy_score(y_test, y_pred_test)\n",
    "    test_report = classification_report(y_test, y_pred_test)\n",
    "\n",
    "    print(\"Test accuracy:\", test_acc)\n",
    "    print(\"Test report:\", test_report)\n"
   ]
  },
  {
   "cell_type": "code",
   "execution_count": 109,
   "metadata": {},
   "outputs": [],
   "source": [
    "import os\n",
    "\n",
    "os.environ['AWS_DEFAULT_REGION'] = 'eu-central-1'  # Replace with your desired region\n"
   ]
  },
  {
   "cell_type": "code",
   "execution_count": null,
   "metadata": {},
   "outputs": [],
   "source": []
  },
  {
   "cell_type": "code",
   "execution_count": 23,
   "metadata": {},
   "outputs": [
    {
     "name": "stdout",
     "output_type": "stream",
     "text": [
      "(34780, 300)\n",
      "(14907, 300)\n",
      "(34780,)\n",
      "(14907,)\n"
     ]
    }
   ],
   "source": [
    "train_df=pd.read_pickle(\"train_pickle_random_forest.pkl\")\n",
    "test_df=pd.read_pickle(\"test_pickle_random_forest.pkl\")\n",
    "\n",
    "X_train=train_df[\"X_train\"]\n",
    "X_test=test_df[\"X_test\"]\n",
    "y_train=train_df[\"y_train\"]\n",
    "y_test=test_df[\"y_test\"]\n",
    "\n",
    "print(X_train.shape)\n",
    "print(X_test.shape)\n",
    "print(y_train.shape)\n",
    "print(y_test.shape)"
   ]
  },
  {
   "cell_type": "code",
   "execution_count": 41,
   "metadata": {},
   "outputs": [
    {
     "data": {
      "text/plain": [
       "(300,)"
      ]
     },
     "execution_count": 41,
     "metadata": {},
     "output_type": "execute_result"
    }
   ],
   "source": [
    "X_test[0].shape"
   ]
  },
  {
   "cell_type": "code",
   "execution_count": 25,
   "metadata": {},
   "outputs": [
    {
     "data": {
      "text/plain": [
       "(34780, 300)"
      ]
     },
     "execution_count": 25,
     "metadata": {},
     "output_type": "execute_result"
    }
   ],
   "source": [
    "X_train.shape"
   ]
  },
  {
   "cell_type": "code",
   "execution_count": 26,
   "metadata": {},
   "outputs": [
    {
     "data": {
      "text/plain": [
       "(14907, 300)"
      ]
     },
     "execution_count": 26,
     "metadata": {},
     "output_type": "execute_result"
    }
   ],
   "source": [
    "X_test.shape"
   ]
  },
  {
   "cell_type": "code",
   "execution_count": 110,
   "metadata": {},
   "outputs": [],
   "source": [
    "import numpy as np\n",
    "from sklearn.model_selection import train_test_split\n",
    "from sklearn.ensemble import RandomForestClassifier\n",
    "from sklearn.metrics import accuracy_score, precision_score, recall_score, f1_score"
   ]
  },
  {
   "cell_type": "code",
   "execution_count": 111,
   "metadata": {},
   "outputs": [
    {
     "name": "stdout",
     "output_type": "stream",
     "text": [
      "Doğruluk (Accuracy): 0.8885758368551687\n",
      "Kesinlik (Precision): 0.9081616849930308\n",
      "Duyarlılık (Recall): 0.9610751454560355\n",
      "F1 Skoru: 0.933869490783135\n"
     ]
    }
   ],
   "source": [
    "model = RandomForestClassifier(n_estimators=1, max_depth=10, random_state=42)\n",
    "\n",
    "# Modeli eğitme\n",
    "model.fit(X_train, y_train)\n",
    "\n",
    "# Test seti ile tahmin yapma\n",
    "y_pred = model.predict(X_test)\n",
    "\n",
    "# Model değerlendirme\n",
    "accuracy = accuracy_score(y_test, y_pred)\n",
    "precision = precision_score(y_test, y_pred)\n",
    "recall = recall_score(y_test, y_pred)\n",
    "f1 = f1_score(y_test, y_pred)\n",
    "\n",
    "print(\"Doğruluk (Accuracy):\", accuracy)\n",
    "print(\"Kesinlik (Precision):\", precision)\n",
    "print(\"Duyarlılık (Recall):\", recall)\n",
    "print(\"F1 Skoru:\", f1)"
   ]
  },
  {
   "cell_type": "code",
   "execution_count": 33,
   "metadata": {},
   "outputs": [
    {
     "name": "stdout",
     "output_type": "stream",
     "text": [
      "[1]\n"
     ]
    }
   ],
   "source": [
    "y_pred_0 = model.predict(X_test[0].reshape(1,-1)) \n",
    "print(y_pred_0)"
   ]
  },
  {
   "cell_type": "code",
   "execution_count": 112,
   "metadata": {},
   "outputs": [],
   "source": [
    "from sagemaker.sklearn.estimator import SKLearn\n",
    "\n",
    "FRAMEWORK_VERSION = \"0.23-1\"\n",
    "\n",
    "sklearn_estimator = SKLearn(\n",
    "    entry_point=\"script.py\",\n",
    "    role=\"arn:aws:iam::692859911732:role/sagemakeraccess\",\n",
    "    instance_count=1,\n",
    "    instance_type=\"ml.m5.large\",  # Doğru parametre\n",
    "    framework_version=FRAMEWORK_VERSION,\n",
    "    base_job_name=\"RF-custom-sklearn\",\n",
    "    hyperparameters={\n",
    "        \"n_estimators\": 1,\n",
    "        \"random_state\": 0\n",
    "    },\n",
    "    use_spot_instance=True,\n",
    "    max_run=3600\n",
    ")\n"
   ]
  },
  {
   "cell_type": "code",
   "execution_count": 113,
   "metadata": {},
   "outputs": [
    {
     "data": {
      "text/plain": [
       "'eu-central-1'"
      ]
     },
     "execution_count": 113,
     "metadata": {},
     "output_type": "execute_result"
    }
   ],
   "source": [
    "region"
   ]
  },
  {
   "cell_type": "markdown",
   "metadata": {},
   "source": [
    "# training model "
   ]
  },
  {
   "cell_type": "code",
   "execution_count": 114,
   "metadata": {},
   "outputs": [
    {
     "name": "stderr",
     "output_type": "stream",
     "text": [
      "INFO:sagemaker:Creating training-job with name: RF-custom-sklearn-2024-11-06-19-55-11-041\n"
     ]
    },
    {
     "name": "stdout",
     "output_type": "stream",
     "text": [
      "2024-11-06 19:55:12 Starting - Starting the training job...\n",
      "2024-11-06 19:55:26 Starting - Preparing the instances for training...\n",
      "2024-11-06 19:55:52 Downloading - Downloading input data...\n",
      "2024-11-06 19:56:22 Downloading - Downloading the training image..2024-11-06 19:57:03,118 sagemaker-containers INFO     Imported framework sagemaker_sklearn_container.training\n",
      "2024-11-06 19:57:03,123 sagemaker-training-toolkit INFO     No GPUs detected (normal if no gpus installed)\n",
      "2024-11-06 19:57:03,180 sagemaker_sklearn_container.training INFO     Invoking user training script.\n",
      "2024-11-06 19:57:03,417 sagemaker-training-toolkit INFO     No GPUs detected (normal if no gpus installed)\n",
      "2024-11-06 19:57:03,438 sagemaker-training-toolkit INFO     No GPUs detected (normal if no gpus installed)\n",
      "2024-11-06 19:57:03,460 sagemaker-training-toolkit INFO     No GPUs detected (normal if no gpus installed)\n",
      "2024-11-06 19:57:03,477 sagemaker-training-toolkit INFO     Invoking user script\n",
      "Training Env:\n",
      "{\n",
      "    \"additional_framework_parameters\": {},\n",
      "    \"channel_input_dirs\": {\n",
      "        \"test\": \"/opt/ml/input/data/test\",\n",
      "        \"train\": \"/opt/ml/input/data/train\"\n",
      "    },\n",
      "    \"current_host\": \"algo-1\",\n",
      "    \"framework_module\": \"sagemaker_sklearn_container.training:main\",\n",
      "    \"hosts\": [\n",
      "        \"algo-1\"\n",
      "    ],\n",
      "    \"hyperparameters\": {\n",
      "        \"n_estimators\": 1,\n",
      "        \"random_state\": 0\n",
      "    },\n",
      "    \"input_config_dir\": \"/opt/ml/input/config\",\n",
      "    \"input_data_config\": {\n",
      "        \"test\": {\n",
      "            \"TrainingInputMode\": \"File\",\n",
      "            \"S3DistributionType\": \"FullyReplicated\",\n",
      "            \"RecordWrapperType\": \"None\"\n",
      "        },\n",
      "        \"train\": {\n",
      "            \"TrainingInputMode\": \"File\",\n",
      "            \"S3DistributionType\": \"FullyReplicated\",\n",
      "            \"RecordWrapperType\": \"None\"\n",
      "        }\n",
      "    },\n",
      "    \"input_dir\": \"/opt/ml/input\",\n",
      "    \"is_master\": true,\n",
      "    \"job_name\": \"RF-custom-sklearn-2024-11-06-19-55-11-041\",\n",
      "    \"log_level\": 20,\n",
      "    \"master_hostname\": \"algo-1\",\n",
      "    \"model_dir\": \"/opt/ml/model\",\n",
      "    \"module_dir\": \"s3://sagemaker-eu-central-1-692859911732/RF-custom-sklearn-2024-11-06-19-55-11-041/source/sourcedir.tar.gz\",\n",
      "    \"module_name\": \"script\",\n",
      "    \"network_interface_name\": \"eth0\",\n",
      "    \"num_cpus\": 2,\n",
      "    \"num_gpus\": 0,\n",
      "    \"output_data_dir\": \"/opt/ml/output/data\",\n",
      "    \"output_dir\": \"/opt/ml/output\",\n",
      "    \"output_intermediate_dir\": \"/opt/ml/output/intermediate\",\n",
      "    \"resource_config\": {\n",
      "        \"current_host\": \"algo-1\",\n",
      "        \"current_instance_type\": \"ml.m5.large\",\n",
      "        \"current_group_name\": \"homogeneousCluster\",\n",
      "        \"hosts\": [\n",
      "            \"algo-1\"\n",
      "        ],\n",
      "        \"instance_groups\": [\n",
      "            {\n",
      "                \"instance_group_name\": \"homogeneousCluster\",\n",
      "                \"instance_type\": \"ml.m5.large\",\n",
      "                \"hosts\": [\n",
      "                    \"algo-1\"\n",
      "                ]\n",
      "            }\n",
      "        ],\n",
      "        \"network_interface_name\": \"eth0\"\n",
      "    },\n",
      "    \"user_entry_point\": \"script.py\"\n",
      "}\n",
      "Environment variables:\n",
      "SM_HOSTS=[\"algo-1\"]\n",
      "SM_NETWORK_INTERFACE_NAME=eth0\n",
      "SM_HPS={\"n_estimators\":1,\"random_state\":0}\n",
      "SM_USER_ENTRY_POINT=script.py\n",
      "SM_FRAMEWORK_PARAMS={}\n",
      "SM_RESOURCE_CONFIG={\"current_group_name\":\"homogeneousCluster\",\"current_host\":\"algo-1\",\"current_instance_type\":\"ml.m5.large\",\"hosts\":[\"algo-1\"],\"instance_groups\":[{\"hosts\":[\"algo-1\"],\"instance_group_name\":\"homogeneousCluster\",\"instance_type\":\"ml.m5.large\"}],\"network_interface_name\":\"eth0\"}\n",
      "SM_INPUT_DATA_CONFIG={\"test\":{\"RecordWrapperType\":\"None\",\"S3DistributionType\":\"FullyReplicated\",\"TrainingInputMode\":\"File\"},\"train\":{\"RecordWrapperType\":\"None\",\"S3DistributionType\":\"FullyReplicated\",\"TrainingInputMode\":\"File\"}}\n",
      "SM_OUTPUT_DATA_DIR=/opt/ml/output/data\n",
      "SM_CHANNELS=[\"test\",\"train\"]\n",
      "SM_CURRENT_HOST=algo-1\n",
      "SM_MODULE_NAME=script\n",
      "SM_LOG_LEVEL=20\n",
      "SM_FRAMEWORK_MODULE=sagemaker_sklearn_container.training:main\n",
      "SM_INPUT_DIR=/opt/ml/input\n",
      "SM_INPUT_CONFIG_DIR=/opt/ml/input/config\n",
      "SM_OUTPUT_DIR=/opt/ml/output\n",
      "SM_NUM_CPUS=2\n",
      "SM_NUM_GPUS=0\n",
      "SM_MODEL_DIR=/opt/ml/model\n",
      "SM_MODULE_DIR=s3://sagemaker-eu-central-1-692859911732/RF-custom-sklearn-2024-11-06-19-55-11-041/source/sourcedir.tar.gz\n",
      "SM_TRAINING_ENV={\"additional_framework_parameters\":{},\"channel_input_dirs\":{\"test\":\"/opt/ml/input/data/test\",\"train\":\"/opt/ml/input/data/train\"},\"current_host\":\"algo-1\",\"framework_module\":\"sagemaker_sklearn_container.training:main\",\"hosts\":[\"algo-1\"],\"hyperparameters\":{\"n_estimators\":1,\"random_state\":0},\"input_config_dir\":\"/opt/ml/input/config\",\"input_data_config\":{\"test\":{\"RecordWrapperType\":\"None\",\"S3DistributionType\":\"FullyReplicated\",\"TrainingInputMode\":\"File\"},\"train\":{\"RecordWrapperType\":\"None\",\"S3DistributionType\":\"FullyReplicated\",\"TrainingInputMode\":\"File\"}},\"input_dir\":\"/opt/ml/input\",\"is_master\":true,\"job_name\":\"RF-custom-sklearn-2024-11-06-19-55-11-041\",\"log_level\":20,\"master_hostname\":\"algo-1\",\"model_dir\":\"/opt/ml/model\",\"module_dir\":\"s3://sagemaker-eu-central-1-692859911732/RF-custom-sklearn-2024-11-06-19-55-11-041/source/sourcedir.tar.gz\",\"module_name\":\"script\",\"network_interface_name\":\"eth0\",\"num_cpus\":2,\"num_gpus\":0,\"output_data_dir\":\"/opt/ml/output/data\",\"output_dir\":\"/opt/ml/output\",\"output_intermediate_dir\":\"/opt/ml/output/intermediate\",\"resource_config\":{\"current_group_name\":\"homogeneousCluster\",\"current_host\":\"algo-1\",\"current_instance_type\":\"ml.m5.large\",\"hosts\":[\"algo-1\"],\"instance_groups\":[{\"hosts\":[\"algo-1\"],\"instance_group_name\":\"homogeneousCluster\",\"instance_type\":\"ml.m5.large\"}],\"network_interface_name\":\"eth0\"},\"user_entry_point\":\"script.py\"}\n",
      "SM_USER_ARGS=[\"--n_estimators\",\"1\",\"--random_state\",\"0\"]\n",
      "SM_OUTPUT_INTERMEDIATE_DIR=/opt/ml/output/intermediate\n",
      "SM_CHANNEL_TEST=/opt/ml/input/data/test\n",
      "SM_CHANNEL_TRAIN=/opt/ml/input/data/train\n",
      "SM_HP_N_ESTIMATORS=1\n",
      "SM_HP_RANDOM_STATE=0\n",
      "PYTHONPATH=/opt/ml/code:/miniconda3/bin:/miniconda3/lib/python37.zip:/miniconda3/lib/python3.7:/miniconda3/lib/python3.7/lib-dynload:/miniconda3/lib/python3.7/site-packages\n",
      "Invoking script with the following command:\n",
      "/miniconda3/bin/python script.py --n_estimators 1 --random_state 0\n",
      "Extracting arguments\n",
      "SKLearn version:  0.23.2\n",
      "joblib version  1.2.0\n",
      "(34780, 300)\n",
      "(14907, 300)\n",
      "(34780,)\n",
      "(14907,)\n",
      "Training RandomForest model\n",
      "[Parallel(n_jobs=1)]: Using backend SequentialBackend with 1 concurrent workers.\n",
      "building tree 1 of 1\n",
      "[Parallel(n_jobs=1)]: Done   1 out of   1 | elapsed:    1.0s remaining:    0.0s\n",
      "[Parallel(n_jobs=1)]: Done   1 out of   1 | elapsed:    1.0s finished\n",
      "Model saved at /opt/ml/model/model.joblib\n",
      "[Parallel(n_jobs=1)]: Using backend SequentialBackend with 1 concurrent workers.\n",
      "[Parallel(n_jobs=1)]: Done   1 out of   1 | elapsed:    0.0s remaining:    0.0s\n",
      "[Parallel(n_jobs=1)]: Done   1 out of   1 | elapsed:    0.0s finished\n",
      "Test accuracy: 0.9177567585697994\n",
      "Test report:               precision    recall  f1-score   support\n",
      "           0       0.78      0.76      0.77      2704\n",
      "           1       0.95      0.95      0.95     12203\n",
      "    accuracy                           0.92     14907\n",
      "   macro avg       0.86      0.86      0.86     14907\n",
      "weighted avg       0.92      0.92      0.92     14907\n",
      "2024-11-06 19:57:05,909 sagemaker-containers INFO     Reporting training SUCCESS\n",
      "\n",
      "2024-11-06 19:57:08 Training - Training image download completed. Training in progress.\n",
      "2024-11-06 19:57:08 Uploading - Uploading generated training model\n",
      "2024-11-06 19:57:21 Completed - Training job completed\n",
      "Training seconds: 89\n",
      "Billable seconds: 89\n"
     ]
    }
   ],
   "source": [
    "sklearn_estimator.fit({\"train\":trainpath,\"test\":testpath},wait=True)"
   ]
  },
  {
   "cell_type": "markdown",
   "metadata": {},
   "source": [
    "2024-11-01 13:23:55 Starting - Starting the training job...\n",
    "2024-11-01 13:24:09 Starting - Preparing the instances for training...\n",
    "2024-11-01 13:24:36 Downloading - Downloading input data...\n",
    "2024-11-01 13:25:06 Downloading - Downloading the training image...\n",
    "2024-11-01 13:25:48 Training - Training image download completed. Training in progress.2024-11-01 13:25:52,256 sagemaker-containers INFO     Imported framework sagemaker_sklearn_container.training\n",
    "2024-11-01 13:25:52,260 sagemaker-training-toolkit INFO     No GPUs detected (normal if no gpus installed)\n",
    "2024-11-01 13:25:52,308 sagemaker_sklearn_container.training INFO     Invoking user training script.\n",
    "2024-11-01 13:25:52,461 sagemaker-training-toolkit INFO     No GPUs detected (normal if no gpus installed)\n",
    "2024-11-01 13:25:52,473 sagemaker-training-toolkit INFO     No GPUs detected (normal if no gpus installed)\n",
    "2024-11-01 13:25:52,485 sagemaker-training-toolkit INFO     No GPUs detected (normal if no gpus installed)\n",
    "2024-11-01 13:25:52,494 sagemaker-training-toolkit INFO     Invoking user script\n",
    "Training Env:\n",
    "{\n",
    "    \"additional_framework_parameters\": {},\n",
    "    \"channel_input_dirs\": {\n",
    "        \"test\": \"/opt/ml/input/data/test\",\n",
    "        \"train\": \"/opt/ml/input/data/train\"\n",
    "    },\n",
    "    \"current_host\": \"algo-1\",\n",
    "    \"framework_module\": \"sagemaker_sklearn_container.training:main\",\n",
    "    \"hosts\": [\n",
    "        \"algo-1\"\n",
    "    ],\n",
    "    \"hyperparameters\": {\n",
    "        \"n_estimators\": 100,\n",
    "        \"random_state\": 0\n",
    "    },\n",
    "    \"input_config_dir\": \"/opt/ml/input/config\",\n",
    "    \"input_data_config\": {\n",
    "        \"test\": {\n",
    "            \"TrainingInputMode\": \"File\",\n",
    "            \"S3DistributionType\": \"FullyReplicated\",\n",
    "            \"RecordWrapperType\": \"None\"\n",
    "        },\n",
    "        \"train\": {\n",
    "            \"TrainingInputMode\": \"File\",\n",
    "            \"S3DistributionType\": \"FullyReplicated\",\n",
    "            \"RecordWrapperType\": \"None\"\n",
    "        }\n",
    "    },\n",
    "    \"input_dir\": \"/opt/ml/input\",\n",
    "    \"is_master\": true,\n",
    "    \"job_name\": \"RF-custom-sklearn-2024-11-01-13-23-52-786\",\n",
    "    \"log_level\": 20,\n",
    "    \"master_hostname\": \"algo-1\",\n",
    "    \"model_dir\": \"/opt/ml/model\",\n",
    "    \"module_dir\": \"s3://sagemaker-eu-central-1-692859911732/RF-custom-sklearn-2024-11-01-13-23-52-786/source/sourcedir.tar.gz\",\n",
    "    \"module_name\": \"script\",\n",
    "    \"network_interface_name\": \"eth0\",\n",
    "    \"num_cpus\": 2,\n",
    "    \"num_gpus\": 0,\n",
    "    \"output_data_dir\": \"/opt/ml/output/data\",\n",
    "    \"output_dir\": \"/opt/ml/output\",\n",
    "    \"output_intermediate_dir\": \"/opt/ml/output/intermediate\",\n",
    "    \"resource_config\": {\n",
    "        \"current_host\": \"algo-1\",\n",
    "        \"current_instance_type\": \"ml.m5.large\",\n",
    "        \"current_group_name\": \"homogeneousCluster\",\n",
    "        \"hosts\": [\n",
    "            \"algo-1\"\n",
    "        ],\n",
    "        \"instance_groups\": [\n",
    "            {\n",
    "                \"instance_group_name\": \"homogeneousCluster\",\n",
    "                \"instance_type\": \"ml.m5.large\",\n",
    "                \"hosts\": [\n",
    "                    \"algo-1\"\n",
    "                ]\n",
    "            }\n",
    "        ],\n",
    "        \"network_interface_name\": \"eth0\"\n",
    "    },\n",
    "    \"user_entry_point\": \"script.py\"\n",
    "}\n",
    "Environment variables:\n",
    "SM_HOSTS=[\"algo-1\"]\n",
    "SM_NETWORK_INTERFACE_NAME=eth0\n",
    "SM_HPS={\"n_estimators\":100,\"random_state\":0}\n",
    "SM_USER_ENTRY_POINT=script.py\n",
    "SM_FRAMEWORK_PARAMS={}\n",
    "SM_RESOURCE_CONFIG={\"current_group_name\":\"homogeneousCluster\",\"current_host\":\"algo-1\",\"current_instance_type\":\"ml.m5.large\",\"hosts\":[\"algo-1\"],\"instance_groups\":[{\"hosts\":[\"algo-1\"],\"instance_group_name\":\"homogeneousCluster\",\"instance_type\":\"ml.m5.large\"}],\"network_interface_name\":\"eth0\"}\n",
    "SM_INPUT_DATA_CONFIG={\"test\":{\"RecordWrapperType\":\"None\",\"S3DistributionType\":\"FullyReplicated\",\"TrainingInputMode\":\"File\"},\"train\":{\"RecordWrapperType\":\"None\",\"S3DistributionType\":\"FullyReplicated\",\"TrainingInputMode\":\"File\"}}\n",
    "SM_OUTPUT_DATA_DIR=/opt/ml/output/data\n",
    "SM_CHANNELS=[\"test\",\"train\"]\n",
    "SM_CURRENT_HOST=algo-1\n",
    "SM_MODULE_NAME=script\n",
    "SM_LOG_LEVEL=20\n",
    "SM_FRAMEWORK_MODULE=sagemaker_sklearn_container.training:main\n",
    "SM_INPUT_DIR=/opt/ml/input\n",
    "SM_INPUT_CONFIG_DIR=/opt/ml/input/config\n",
    "SM_OUTPUT_DIR=/opt/ml/output\n",
    "SM_NUM_CPUS=2\n",
    "SM_NUM_GPUS=0\n",
    "SM_MODEL_DIR=/opt/ml/model\n",
    "SM_MODULE_DIR=s3://sagemaker-eu-central-1-692859911732/RF-custom-sklearn-2024-11-01-13-23-52-786/source/sourcedir.tar.gz\n",
    "SM_TRAINING_ENV={\"additional_framework_parameters\":{},\"channel_input_dirs\":{\"test\":\"/opt/ml/input/data/test\",\"train\":\"/opt/ml/input/data/train\"},\"current_host\":\"algo-1\",\"framework_module\":\"sagemaker_sklearn_container.training:main\",\"hosts\":[\"algo-1\"],\"hyperparameters\":{\"n_estimators\":100,\"random_state\":0},\"input_config_dir\":\"/opt/ml/input/config\",\"input_data_config\":{\"test\":{\"RecordWrapperType\":\"None\",\"S3DistributionType\":\"FullyReplicated\",\"TrainingInputMode\":\"File\"},\"train\":{\"RecordWrapperType\":\"None\",\"S3DistributionType\":\"FullyReplicated\",\"TrainingInputMode\":\"File\"}},\"input_dir\":\"/opt/ml/input\",\"is_master\":true,\"job_name\":\"RF-custom-sklearn-2024-11-01-13-23-52-786\",\"log_level\":20,\"master_hostname\":\"algo-1\",\"model_dir\":\"/opt/ml/model\",\"module_dir\":\"s3://sagemaker-eu-central-1-692859911732/RF-custom-sklearn-2024-11-01-13-23-52-786/source/sourcedir.tar.gz\",\"module_name\":\"script\",\"network_interface_name\":\"eth0\",\"num_cpus\":2,\"num_gpus\":0,\"output_data_dir\":\"/opt/ml/output/data\",\"output_dir\":\"/opt/ml/output\",\"output_intermediate_dir\":\"/opt/ml/output/intermediate\",\"resource_config\":{\"current_group_name\":\"homogeneousCluster\",\"current_host\":\"algo-1\",\"current_instance_type\":\"ml.m5.large\",\"hosts\":[\"algo-1\"],\"instance_groups\":[{\"hosts\":[\"algo-1\"],\"instance_group_name\":\"homogeneousCluster\",\"instance_type\":\"ml.m5.large\"}],\"network_interface_name\":\"eth0\"},\"user_entry_point\":\"script.py\"}\n",
    "SM_USER_ARGS=[\"--n_estimators\",\"100\",\"--random_state\",\"0\"]\n",
    "SM_OUTPUT_INTERMEDIATE_DIR=/opt/ml/output/intermediate\n",
    "SM_CHANNEL_TEST=/opt/ml/input/data/test\n",
    "SM_CHANNEL_TRAIN=/opt/ml/input/data/train\n",
    "SM_HP_N_ESTIMATORS=100\n",
    "SM_HP_RANDOM_STATE=0\n",
    "PYTHONPATH=/opt/ml/code:/miniconda3/bin:/miniconda3/lib/python37.zip:/miniconda3/lib/python3.7:/miniconda3/lib/python3.7/lib-dynload:/miniconda3/lib/python3.7/site-packages\n",
    "Invoking script with the following command:\n",
    "/miniconda3/bin/python script.py --n_estimators 100 --random_state 0\n",
    " extracting arugments\n",
    "SKLearn version:  0.23.2\n",
    "joblib version  1.2.0\n",
    "(34780, 300)\n",
    "(14907, 300)\n",
    "(34780,)\n",
    "(14907,)\n",
    "training random forest model \n",
    "[Parallel(n_jobs=1)]: Using backend SequentialBackend with 1 concurrent workers.\n",
    "building tree 1 of 100\n",
    "[Parallel(n_jobs=1)]: Done   1 out of   1 | elapsed:    1.0s remaining:    0.0s\n",
    "building tree 2 of 100\n",
    "building tree 3 of 100\n",
    "building tree 4 of 100\n",
    "building tree 5 of 100\n",
    "building tree 6 of 100\n",
    "building tree 7 of 100\n",
    "building tree 8 of 100\n",
    "building tree 9 of 100\n",
    "building tree 10 of 100\n",
    "building tree 11 of 100\n",
    "building tree 12 of 100\n",
    "building tree 13 of 100\n",
    "building tree 14 of 100\n",
    "building tree 15 of 100\n",
    "building tree 16 of 100\n",
    "building tree 17 of 100\n",
    "building tree 18 of 100\n",
    "building tree 19 of 100\n",
    "building tree 20 of 100\n",
    "building tree 21 of 100\n",
    "building tree 22 of 100\n",
    "building tree 23 of 100\n",
    "building tree 24 of 100\n",
    "building tree 25 of 100\n",
    "building tree 26 of 100\n",
    "building tree 27 of 100\n",
    "building tree 28 of 100\n",
    "building tree 29 of 100\n",
    "building tree 30 of 100\n",
    "building tree 31 of 100\n",
    "building tree 32 of 100\n",
    "building tree 33 of 100\n",
    "building tree 34 of 100\n",
    "building tree 35 of 100\n",
    "building tree 36 of 100\n",
    "building tree 37 of 100\n",
    "building tree 38 of 100\n",
    "building tree 39 of 100\n",
    "building tree 40 of 100\n",
    "building tree 41 of 100\n",
    "building tree 42 of 100\n",
    "building tree 43 of 100\n",
    "building tree 44 of 100\n",
    "building tree 45 of 100\n",
    "building tree 46 of 100\n",
    "building tree 47 of 100\n",
    "building tree 48 of 100\n",
    "building tree 49 of 100\n",
    "building tree 50 of 100\n",
    "building tree 51 of 100\n",
    "building tree 52 of 100\n",
    "building tree 53 of 100\n",
    "building tree 54 of 100\n",
    "building tree 55 of 100\n",
    "building tree 56 of 100\n",
    "building tree 57 of 100\n",
    "building tree 58 of 100\n",
    "building tree 59 of 100\n",
    "building tree 60 of 100\n",
    "building tree 61 of 100\n",
    "building tree 62 of 100\n",
    "building tree 63 of 100\n",
    "building tree 64 of 100\n",
    "building tree 65 of 100\n",
    "building tree 66 of 100\n",
    "building tree 67 of 100\n",
    "building tree 68 of 100\n",
    "building tree 69 of 100\n",
    "building tree 70 of 100\n",
    "building tree 71 of 100\n",
    "building tree 72 of 100\n",
    "building tree 73 of 100\n",
    "building tree 74 of 100\n",
    "building tree 75 of 100\n",
    "building tree 76 of 100\n",
    "building tree 77 of 100\n",
    "building tree 78 of 100\n",
    "building tree 79 of 100\n",
    "building tree 80 of 100\n",
    "building tree 81 of 100\n",
    "building tree 82 of 100\n",
    "building tree 83 of 100\n",
    "building tree 84 of 100\n",
    "building tree 85 of 100\n",
    "building tree 86 of 100\n",
    "building tree 87 of 100\n",
    "building tree 88 of 100\n",
    "building tree 89 of 100\n",
    "building tree 90 of 100\n",
    "building tree 91 of 100\n",
    "building tree 92 of 100\n",
    "building tree 93 of 100\n",
    "building tree 94 of 100\n",
    "building tree 95 of 100\n",
    "building tree 96 of 100\n",
    "building tree 97 of 100\n",
    "building tree 98 of 100\n",
    "building tree 99 of 100\n",
    "building tree 100 of 100\n",
    "[Parallel(n_jobs=1)]: Done 100 out of 100 | elapsed:  1.7min finished\n",
    "[Parallel(n_jobs=1)]: Using backend SequentialBackend with 1 concurrent workers.\n",
    "[Parallel(n_jobs=1)]: Done   1 out of   1 | elapsed:    0.0s remaining:    0.0s\n",
    "[Parallel(n_jobs=1)]: Done 100 out of 100 | elapsed:    0.3s finished\n",
    "test accuracy 0.9823572818139129\n",
    "test report               precision    recall  f1-score   support\n",
    "           0       0.99      0.91      0.95      2704\n",
    "           1       0.98      1.00      0.99     12203\n",
    "    accuracy                           0.98     14907\n",
    "   macro avg       0.98      0.96      0.97     14907\n",
    "weighted avg       0.98      0.98      0.98     14907\n",
    "2024-11-01 13:27:33,565 sagemaker-containers INFO     Reporting training SUCCESS\n",
    "\n",
    "2024-11-01 13:27:52 Uploading - Uploading generated training model\n",
    "2024-11-01 13:27:52 Completed - Training job completed\n",
    "Training seconds: 195\n",
    "Billable seconds: 195\n"
   ]
  },
  {
   "cell_type": "code",
   "execution_count": 164,
   "metadata": {},
   "outputs": [
    {
     "ename": "NameError",
     "evalue": "name 'artifact' is not defined",
     "output_type": "error",
     "traceback": [
      "\u001b[1;31m---------------------------------------------------------------------------\u001b[0m",
      "\u001b[1;31mNameError\u001b[0m                                 Traceback (most recent call last)",
      "Cell \u001b[1;32mIn[164], line 1\u001b[0m\n\u001b[1;32m----> 1\u001b[0m \u001b[43martifact\u001b[49m\n",
      "\u001b[1;31mNameError\u001b[0m: name 'artifact' is not defined"
     ]
    }
   ],
   "source": [
    "artifact"
   ]
  },
  {
   "cell_type": "code",
   "execution_count": 115,
   "metadata": {},
   "outputs": [
    {
     "name": "stdout",
     "output_type": "stream",
     "text": [
      "\n",
      "2024-11-06 19:57:21 Starting - Preparing the instances for training\n",
      "2024-11-06 19:57:21 Downloading - Downloading the training image\n",
      "2024-11-06 19:57:21 Training - Training image download completed. Training in progress.\n",
      "2024-11-06 19:57:21 Uploading - Uploading generated training model\n",
      "2024-11-06 19:57:21 Completed - Training job completed\n"
     ]
    }
   ],
   "source": [
    "sklearn_estimator.latest_training_job.wait(logs=\"None\")\n",
    "artifact=sm_boto3.describe_training_job(\n",
    "    TrainingJobName=sklearn_estimator.latest_training_job.name\n",
    ")[\"ModelArtifacts\"][\"S3ModelArtifacts\"]"
   ]
  },
  {
   "cell_type": "code",
   "execution_count": 116,
   "metadata": {},
   "outputs": [
    {
     "data": {
      "text/plain": [
       "'s3://sagemaker-eu-central-1-692859911732/RF-custom-sklearn-2024-11-06-19-55-11-041/output/model.tar.gz'"
      ]
     },
     "execution_count": 116,
     "metadata": {},
     "output_type": "execute_result"
    }
   ],
   "source": [
    "artifact"
   ]
  },
  {
   "cell_type": "code",
   "execution_count": 117,
   "metadata": {},
   "outputs": [
    {
     "data": {
      "text/plain": [
       "'s3://sagemaker-eu-central-1-692859911732/RF-custom-sklearn-2024-11-06-19-55-11-041/output/model.tar.gz'"
      ]
     },
     "execution_count": 117,
     "metadata": {},
     "output_type": "execute_result"
    }
   ],
   "source": [
    "artifact"
   ]
  },
  {
   "cell_type": "markdown",
   "metadata": {},
   "source": [
    "## deployin model to endpoints"
   ]
  },
  {
   "cell_type": "markdown",
   "metadata": {},
   "source": [
    " # sagemaker endpoint"
   ]
  },
  {
   "cell_type": "code",
   "execution_count": 118,
   "metadata": {},
   "outputs": [],
   "source": [
    "from sagemaker.sklearn.model import SKLearnModel\n",
    "from time import gmtime,strftime\n",
    "\n",
    "model_name=\"Custom-sklearn-model-\"+strftime(\"%Y-%m-%d-%H-%M-%S\",gmtime())\n",
    "model=SKLearnModel(\n",
    "    name=model_name,\n",
    "    model_data=artifact,\n",
    "    role=\"arn:aws:iam::692859911732:role/sagemakeraccess\",\n",
    "    entry_point= \"script.py\",\n",
    "    framework_version=FRAMEWORK_VERSION\n",
    "\n",
    ")"
   ]
  },
  {
   "cell_type": "code",
   "execution_count": 119,
   "metadata": {},
   "outputs": [
    {
     "data": {
      "text/plain": [
       "<sagemaker.sklearn.model.SKLearnModel at 0x1f822ae9600>"
      ]
     },
     "execution_count": 119,
     "metadata": {},
     "output_type": "execute_result"
    }
   ],
   "source": [
    "model"
   ]
  },
  {
   "cell_type": "markdown",
   "metadata": {},
   "source": [
    "# hali hazırda endpoint varsa "
   ]
  },
  {
   "cell_type": "code",
   "execution_count": 103,
   "metadata": {},
   "outputs": [],
   "source": [
    "import boto3\n",
    "from sagemaker.predictor import Predictor\n",
    "from sagemaker.serializers import JSONSerializer\n",
    "from sagemaker.deserializers import JSONDeserializer\n",
    "import json\n",
    "import numpy as np\n",
    "\n",
    "# Mevcut endpoint adınızı buraya girin\n",
    "endpoint_name = \"Custom-sklearn-model2024-11-06-19-32-14\"\n",
    "\n",
    "# Predictor nesnesini mevcut endpoint ile bağlayın\n",
    "predictor = Predictor(\n",
    "    endpoint_name=endpoint_name,\n",
    "    serializer=JSONSerializer(),   # Veriyi JSON formatına dönüştürür\n",
    "    deserializer=JSONDeserializer() # Yanıtı JSON formatında okur\n",
    ")"
   ]
  },
  {
   "cell_type": "markdown",
   "metadata": {},
   "source": [
    "# endpoint deployment"
   ]
  },
  {
   "cell_type": "code",
   "execution_count": 120,
   "metadata": {},
   "outputs": [
    {
     "name": "stdout",
     "output_type": "stream",
     "text": [
      "endpointname=Custom-sklearn-model2024-11-06-19-59-03\n"
     ]
    },
    {
     "name": "stderr",
     "output_type": "stream",
     "text": [
      "INFO:sagemaker:Creating model with name: Custom-sklearn-model-2024-11-06-19-58-53\n",
      "INFO:sagemaker:Creating endpoint-config with name Custom-sklearn-model2024-11-06-19-59-03\n",
      "INFO:sagemaker:Creating endpoint with name Custom-sklearn-model2024-11-06-19-59-03\n"
     ]
    },
    {
     "name": "stdout",
     "output_type": "stream",
     "text": [
      "------!"
     ]
    }
   ],
   "source": [
    "endpoint_name=\"Custom-sklearn-model\"+strftime(\"%Y-%m-%d-%H-%M-%S\",gmtime())\n",
    "print(\"endpointname={}\".format(endpoint_name))\n",
    "\n",
    "predictor=model.deploy(\n",
    "    initial_instance_count=1,\n",
    "    instance_type=\"ml.m4.xlarge\",\n",
    "    endpoint_name=endpoint_name\n",
    ")"
   ]
  },
  {
   "cell_type": "code",
   "execution_count": 123,
   "metadata": {},
   "outputs": [
    {
     "data": {
      "text/plain": [
       "array([1])"
      ]
     },
     "execution_count": 123,
     "metadata": {},
     "output_type": "execute_result"
    }
   ],
   "source": [
    "predictor.predict(X_test[1].reshape(1,-1))"
   ]
  },
  {
   "cell_type": "code",
   "execution_count": 99,
   "metadata": {},
   "outputs": [
    {
     "data": {
      "text/plain": [
       "<sagemaker.base_predictor.Predictor at 0x1f822954a00>"
      ]
     },
     "execution_count": 99,
     "metadata": {},
     "output_type": "execute_result"
    }
   ],
   "source": [
    "predictor"
   ]
  },
  {
   "cell_type": "code",
   "execution_count": 59,
   "metadata": {},
   "outputs": [
    {
     "data": {
      "text/plain": [
       "(300,)"
      ]
     },
     "execution_count": 59,
     "metadata": {},
     "output_type": "execute_result"
    }
   ],
   "source": [
    "input_data.shape"
   ]
  },
  {
   "cell_type": "code",
   "execution_count": 61,
   "metadata": {},
   "outputs": [
    {
     "data": {
      "text/plain": [
       "(300,)"
      ]
     },
     "execution_count": 61,
     "metadata": {},
     "output_type": "execute_result"
    }
   ],
   "source": [
    "X_test[0].shape"
   ]
  },
  {
   "cell_type": "code",
   "execution_count": 97,
   "metadata": {},
   "outputs": [
    {
     "ename": "ParamValidationError",
     "evalue": "Parameter validation failed:\nInvalid type for parameter Body, value: [[-2.37400599e+00  8.90073719e+00 -2.80147131e+00  1.66390317e-01\n   3.14164065e-01  4.64268421e-01 -2.37558692e+00  8.78504635e+00\n  -2.87306057e+00  1.22825721e-01  2.73812707e-01  4.16514401e-01\n  -2.39788006e+00  8.69900375e+00 -2.90004231e+00  8.53934528e-02\n   2.30666002e-01  3.75378531e-01 -2.44431930e+00  8.62412028e+00\n  -2.83468301e+00  4.97295887e-02  1.90066366e-01  3.39597549e-01\n  -2.49064397e+00  8.52009487e+00 -2.85200594e+00 -5.39866859e-03\n   1.46722931e-01  2.91033870e-01 -2.52112270e+00  8.40443582e+00\n  -2.92867872e+00 -6.81562296e-02  1.08063920e-01  2.41309861e-01\n  -2.53914913e+00  8.34057968e+00 -2.88199964e+00 -1.04410883e-01\n   8.53104808e-02  2.22869079e-01 -2.55250679e+00  8.31342853e+00\n  -2.83827462e+00 -1.33664767e-01  5.89760976e-02  2.20495258e-01\n  -2.56003225e+00  8.29985706e+00 -2.85211382e+00 -1.69283817e-01\n   2.57837335e-02  2.17030958e-01 -2.55099584e+00  8.28022044e+00\n  -2.86912047e+00 -2.12101229e-01  1.65038560e-03  1.99435643e-01\n  -2.50749187e+00  8.28317913e+00 -2.88485082e+00 -2.71727084e-01\n  -2.13247109e-02  1.58416962e-01 -2.40663739e+00  8.38630391e+00\n  -2.94900490e+00 -3.65630872e-01 -7.63590121e-02  8.95749068e-02\n  -2.26579601e+00  8.58123122e+00 -2.99254515e+00 -4.70835185e-01\n  -1.56248734e-01  9.02577148e-04 -2.11861321e+00  8.86674232e+00\n  -2.93449939e+00 -5.61134330e-01 -2.29930986e-01 -9.49880538e-02\n  -1.97548081e+00  9.34975603e+00 -2.81671463e+00 -6.52613855e-01\n  -2.78830638e-01 -1.93318156e-01 -1.80181664e+00  1.00344689e+01\n  -2.74364144e+00 -7.78388424e-01 -3.04015317e-01 -3.17252946e-01\n  -1.52829665e+00  1.07880901e+01 -2.86838165e+00 -9.80861020e-01\n  -3.26016848e-01 -5.16242446e-01 -1.40714540e+00  1.12595397e+01\n  -3.09087541e+00 -1.16348485e+00 -3.26942229e-01 -7.30480343e-01\n  -1.62646310e+00  1.12079316e+01 -3.23096994e+00 -1.21566399e+00\n  -2.81211003e-01 -8.76542889e-01 -1.80988759e+00  1.08662655e+01\n  -3.36056847e+00 -1.20970425e+00 -2.09708707e-01 -9.97133867e-01\n  -1.84058331e+00  1.04096416e+01 -3.45352414e+00 -1.19798435e+00\n  -1.38258571e-01 -1.10923976e+00 -1.94961731e+00  9.87661125e+00\n  -3.36132792e+00 -1.18506442e+00 -8.71172383e-02 -1.18198786e+00\n  -1.76553235e+00  9.17048134e+00 -3.33307597e+00 -1.14821641e+00\n   8.82317976e-03 -1.17418470e+00 -7.19380665e-01  8.14974892e+00\n  -3.79260720e+00 -1.05135671e+00  2.55212641e-01 -1.05537731e+00\n  -8.07809701e-02  7.02145245e+00 -4.32952969e+00 -8.84787456e-01\n   6.02895592e-01 -9.16237627e-01 -2.28040902e-01  6.10847581e+00\n  -4.60315822e+00 -6.63613641e-01  8.25556648e-01 -7.07508606e-01\n  -3.92888472e-01  5.55827529e+00 -4.66971656e+00 -4.27788352e-01\n   8.37917979e-01 -3.83618244e-01 -3.11313022e-01  5.32984923e+00\n  -4.59844265e+00 -2.20774426e-01  8.05929003e-01 -6.93011302e-02\n  -1.82023000e-01  5.29990891e+00 -4.46570043e+00 -2.60690928e-02\n   7.87444514e-01  2.46003539e-01 -1.98793273e-01  5.36646947e+00\n  -4.33593899e+00  1.77915459e-01  8.01741636e-01  5.88349624e-01\n  -3.02651213e-01  5.52200724e+00 -4.23887444e+00  3.91881995e-01\n   8.39538328e-01  9.40765509e-01 -4.40469809e-01  5.79668064e+00\n  -4.18565215e+00  6.13002051e-01  8.95966876e-01  1.28344694e+00\n  -6.34876180e-01  6.25636357e+00 -4.16359339e+00  8.37438581e-01\n   9.80238806e-01  1.60323972e+00 -8.75415651e-01  6.91805678e+00\n  -4.12789821e+00  1.04969067e+00  1.08269893e+00  1.88543340e+00\n  -1.12943919e+00  7.74705298e+00 -4.01428016e+00  1.22777311e+00\n   1.17678420e+00  2.11848533e+00 -1.46261499e+00  8.66616221e+00\n  -3.80794625e+00  1.37684870e+00  1.24228074e+00  2.32854383e+00\n  -1.95777340e+00  9.56347138e+00 -3.53645364e+00  1.50682355e+00\n   1.25975602e+00  2.52845122e+00 -2.58920844e+00  1.03036352e+01\n  -3.26478440e+00  1.60155553e+00  1.21386091e+00  2.63365784e+00\n  -3.22776364e+00  1.09555117e+01 -2.83993313e+00  1.64134293e+00\n   1.17060176e+00  2.60156733e+00 -4.05365682e+00  1.10730343e+01\n  -2.31931035e+00  1.62504597e+00  1.03715083e+00  2.48109501e+00\n  -4.82294598e+00  1.09035499e+01 -1.75769893e+00  1.52659118e+00\n   8.46904504e-01  2.28067633e+00 -5.32986380e+00  1.09111904e+01\n  -1.09429087e+00  1.32539984e+00  7.36211843e-01  1.94315174e+00\n  -6.03086809e+00  1.07442942e+01 -3.43974205e-01  1.04620827e+00\n   7.17388690e-01  1.41114567e+00 -5.81562202e+00  1.05289315e+01\n  -2.60911078e-02  7.42073244e-01  7.70127650e-01  8.34808277e-01\n  -2.36056666e+00  1.08616524e+01 -9.98125680e-01  4.86726388e-01\n   8.46741434e-01  5.43625766e-01  1.29494101e+00  1.11615174e+01\n  -2.13060822e+00  2.84520853e-01  8.98141768e-01  3.79001427e-01\n   7.49664014e-01  1.06365229e+01 -2.02806015e+00  1.40527837e-01\n   8.94133779e-01  1.56289273e-02 -1.03329826e+00  1.04211209e+01\n  -2.85634761e+00  1.97053393e-01  9.03843578e-01 -4.02792440e-01\n  -1.87061127e+00  1.02080003e+01 -3.69403733e+00  1.95710521e-01\n   1.00762046e+00 -7.31717807e-01 -2.39249759e+00  9.70898546e+00\n  -3.35195280e+00 -2.54195251e-02  9.90175222e-01 -9.09566298e-01]], type: <class 'numpy.ndarray'>, valid types: <class 'bytes'>, <class 'bytearray'>, file-like object",
     "output_type": "error",
     "traceback": [
      "\u001b[1;31m---------------------------------------------------------------------------\u001b[0m",
      "\u001b[1;31mParamValidationError\u001b[0m                      Traceback (most recent call last)",
      "Cell \u001b[1;32mIn[97], line 1\u001b[0m\n\u001b[1;32m----> 1\u001b[0m \u001b[43mpredictor\u001b[49m\u001b[38;5;241;43m.\u001b[39;49m\u001b[43mpredict\u001b[49m\u001b[43m(\u001b[49m\u001b[43mX_test\u001b[49m\u001b[43m[\u001b[49m\u001b[38;5;241;43m2\u001b[39;49m\u001b[43m]\u001b[49m\u001b[38;5;241;43m.\u001b[39;49m\u001b[43mreshape\u001b[49m\u001b[43m(\u001b[49m\u001b[38;5;241;43m1\u001b[39;49m\u001b[43m,\u001b[49m\u001b[38;5;241;43m-\u001b[39;49m\u001b[38;5;241;43m1\u001b[39;49m\u001b[43m)\u001b[49m\u001b[43m)\u001b[49m\n",
      "File \u001b[1;32me:\\aws_sagemaker\\venv\\lib\\site-packages\\sagemaker\\base_predictor.py:212\u001b[0m, in \u001b[0;36mPredictor.predict\u001b[1;34m(self, data, initial_args, target_model, target_variant, inference_id, custom_attributes, component_name)\u001b[0m\n\u001b[0;32m    209\u001b[0m \u001b[38;5;28;01mif\u001b[39;00m inference_component_name:\n\u001b[0;32m    210\u001b[0m     request_args[\u001b[38;5;124m\"\u001b[39m\u001b[38;5;124mInferenceComponentName\u001b[39m\u001b[38;5;124m\"\u001b[39m] \u001b[38;5;241m=\u001b[39m inference_component_name\n\u001b[1;32m--> 212\u001b[0m response \u001b[38;5;241m=\u001b[39m \u001b[38;5;28mself\u001b[39m\u001b[38;5;241m.\u001b[39msagemaker_session\u001b[38;5;241m.\u001b[39msagemaker_runtime_client\u001b[38;5;241m.\u001b[39minvoke_endpoint(\u001b[38;5;241m*\u001b[39m\u001b[38;5;241m*\u001b[39mrequest_args)\n\u001b[0;32m    213\u001b[0m \u001b[38;5;28;01mreturn\u001b[39;00m \u001b[38;5;28mself\u001b[39m\u001b[38;5;241m.\u001b[39m_handle_response(response)\n",
      "File \u001b[1;32me:\\aws_sagemaker\\venv\\lib\\site-packages\\botocore\\client.py:569\u001b[0m, in \u001b[0;36mClientCreator._create_api_method.<locals>._api_call\u001b[1;34m(self, *args, **kwargs)\u001b[0m\n\u001b[0;32m    565\u001b[0m     \u001b[38;5;28;01mraise\u001b[39;00m \u001b[38;5;167;01mTypeError\u001b[39;00m(\n\u001b[0;32m    566\u001b[0m         \u001b[38;5;124mf\u001b[39m\u001b[38;5;124m\"\u001b[39m\u001b[38;5;132;01m{\u001b[39;00mpy_operation_name\u001b[38;5;132;01m}\u001b[39;00m\u001b[38;5;124m() only accepts keyword arguments.\u001b[39m\u001b[38;5;124m\"\u001b[39m\n\u001b[0;32m    567\u001b[0m     )\n\u001b[0;32m    568\u001b[0m \u001b[38;5;66;03m# The \"self\" in this scope is referring to the BaseClient.\u001b[39;00m\n\u001b[1;32m--> 569\u001b[0m \u001b[38;5;28;01mreturn\u001b[39;00m \u001b[38;5;28;43mself\u001b[39;49m\u001b[38;5;241;43m.\u001b[39;49m\u001b[43m_make_api_call\u001b[49m\u001b[43m(\u001b[49m\u001b[43moperation_name\u001b[49m\u001b[43m,\u001b[49m\u001b[43m \u001b[49m\u001b[43mkwargs\u001b[49m\u001b[43m)\u001b[49m\n",
      "File \u001b[1;32me:\\aws_sagemaker\\venv\\lib\\site-packages\\botocore\\client.py:980\u001b[0m, in \u001b[0;36mBaseClient._make_api_call\u001b[1;34m(self, operation_name, api_params)\u001b[0m\n\u001b[0;32m    976\u001b[0m \u001b[38;5;28;01mif\u001b[39;00m properties:\n\u001b[0;32m    977\u001b[0m     \u001b[38;5;66;03m# Pass arbitrary endpoint info with the Request\u001b[39;00m\n\u001b[0;32m    978\u001b[0m     \u001b[38;5;66;03m# for use during construction.\u001b[39;00m\n\u001b[0;32m    979\u001b[0m     request_context[\u001b[38;5;124m'\u001b[39m\u001b[38;5;124mendpoint_properties\u001b[39m\u001b[38;5;124m'\u001b[39m] \u001b[38;5;241m=\u001b[39m properties\n\u001b[1;32m--> 980\u001b[0m request_dict \u001b[38;5;241m=\u001b[39m \u001b[38;5;28;43mself\u001b[39;49m\u001b[38;5;241;43m.\u001b[39;49m\u001b[43m_convert_to_request_dict\u001b[49m\u001b[43m(\u001b[49m\n\u001b[0;32m    981\u001b[0m \u001b[43m    \u001b[49m\u001b[43mapi_params\u001b[49m\u001b[38;5;241;43m=\u001b[39;49m\u001b[43mapi_params\u001b[49m\u001b[43m,\u001b[49m\n\u001b[0;32m    982\u001b[0m \u001b[43m    \u001b[49m\u001b[43moperation_model\u001b[49m\u001b[38;5;241;43m=\u001b[39;49m\u001b[43moperation_model\u001b[49m\u001b[43m,\u001b[49m\n\u001b[0;32m    983\u001b[0m \u001b[43m    \u001b[49m\u001b[43mendpoint_url\u001b[49m\u001b[38;5;241;43m=\u001b[39;49m\u001b[43mendpoint_url\u001b[49m\u001b[43m,\u001b[49m\n\u001b[0;32m    984\u001b[0m \u001b[43m    \u001b[49m\u001b[43mcontext\u001b[49m\u001b[38;5;241;43m=\u001b[39;49m\u001b[43mrequest_context\u001b[49m\u001b[43m,\u001b[49m\n\u001b[0;32m    985\u001b[0m \u001b[43m    \u001b[49m\u001b[43mheaders\u001b[49m\u001b[38;5;241;43m=\u001b[39;49m\u001b[43madditional_headers\u001b[49m\u001b[43m,\u001b[49m\n\u001b[0;32m    986\u001b[0m \u001b[43m\u001b[49m\u001b[43m)\u001b[49m\n\u001b[0;32m    987\u001b[0m resolve_checksum_context(request_dict, operation_model, api_params)\n\u001b[0;32m    989\u001b[0m service_id \u001b[38;5;241m=\u001b[39m \u001b[38;5;28mself\u001b[39m\u001b[38;5;241m.\u001b[39m_service_model\u001b[38;5;241m.\u001b[39mservice_id\u001b[38;5;241m.\u001b[39mhyphenize()\n",
      "File \u001b[1;32me:\\aws_sagemaker\\venv\\lib\\site-packages\\botocore\\client.py:1047\u001b[0m, in \u001b[0;36mBaseClient._convert_to_request_dict\u001b[1;34m(self, api_params, operation_model, endpoint_url, context, headers, set_user_agent_header)\u001b[0m\n\u001b[0;32m   1038\u001b[0m \u001b[38;5;28;01mdef\u001b[39;00m \u001b[38;5;21m_convert_to_request_dict\u001b[39m(\n\u001b[0;32m   1039\u001b[0m     \u001b[38;5;28mself\u001b[39m,\n\u001b[0;32m   1040\u001b[0m     api_params,\n\u001b[1;32m   (...)\u001b[0m\n\u001b[0;32m   1045\u001b[0m     set_user_agent_header\u001b[38;5;241m=\u001b[39m\u001b[38;5;28;01mTrue\u001b[39;00m,\n\u001b[0;32m   1046\u001b[0m ):\n\u001b[1;32m-> 1047\u001b[0m     request_dict \u001b[38;5;241m=\u001b[39m \u001b[38;5;28;43mself\u001b[39;49m\u001b[38;5;241;43m.\u001b[39;49m\u001b[43m_serializer\u001b[49m\u001b[38;5;241;43m.\u001b[39;49m\u001b[43mserialize_to_request\u001b[49m\u001b[43m(\u001b[49m\n\u001b[0;32m   1048\u001b[0m \u001b[43m        \u001b[49m\u001b[43mapi_params\u001b[49m\u001b[43m,\u001b[49m\u001b[43m \u001b[49m\u001b[43moperation_model\u001b[49m\n\u001b[0;32m   1049\u001b[0m \u001b[43m    \u001b[49m\u001b[43m)\u001b[49m\n\u001b[0;32m   1050\u001b[0m     \u001b[38;5;28;01mif\u001b[39;00m \u001b[38;5;129;01mnot\u001b[39;00m \u001b[38;5;28mself\u001b[39m\u001b[38;5;241m.\u001b[39m_client_config\u001b[38;5;241m.\u001b[39minject_host_prefix:\n\u001b[0;32m   1051\u001b[0m         request_dict\u001b[38;5;241m.\u001b[39mpop(\u001b[38;5;124m'\u001b[39m\u001b[38;5;124mhost_prefix\u001b[39m\u001b[38;5;124m'\u001b[39m, \u001b[38;5;28;01mNone\u001b[39;00m)\n",
      "File \u001b[1;32me:\\aws_sagemaker\\venv\\lib\\site-packages\\botocore\\validate.py:381\u001b[0m, in \u001b[0;36mParamValidationDecorator.serialize_to_request\u001b[1;34m(self, parameters, operation_model)\u001b[0m\n\u001b[0;32m    377\u001b[0m     report \u001b[38;5;241m=\u001b[39m \u001b[38;5;28mself\u001b[39m\u001b[38;5;241m.\u001b[39m_param_validator\u001b[38;5;241m.\u001b[39mvalidate(\n\u001b[0;32m    378\u001b[0m         parameters, operation_model\u001b[38;5;241m.\u001b[39minput_shape\n\u001b[0;32m    379\u001b[0m     )\n\u001b[0;32m    380\u001b[0m     \u001b[38;5;28;01mif\u001b[39;00m report\u001b[38;5;241m.\u001b[39mhas_errors():\n\u001b[1;32m--> 381\u001b[0m         \u001b[38;5;28;01mraise\u001b[39;00m ParamValidationError(report\u001b[38;5;241m=\u001b[39mreport\u001b[38;5;241m.\u001b[39mgenerate_report())\n\u001b[0;32m    382\u001b[0m \u001b[38;5;28;01mreturn\u001b[39;00m \u001b[38;5;28mself\u001b[39m\u001b[38;5;241m.\u001b[39m_serializer\u001b[38;5;241m.\u001b[39mserialize_to_request(\n\u001b[0;32m    383\u001b[0m     parameters, operation_model\n\u001b[0;32m    384\u001b[0m )\n",
      "\u001b[1;31mParamValidationError\u001b[0m: Parameter validation failed:\nInvalid type for parameter Body, value: [[-2.37400599e+00  8.90073719e+00 -2.80147131e+00  1.66390317e-01\n   3.14164065e-01  4.64268421e-01 -2.37558692e+00  8.78504635e+00\n  -2.87306057e+00  1.22825721e-01  2.73812707e-01  4.16514401e-01\n  -2.39788006e+00  8.69900375e+00 -2.90004231e+00  8.53934528e-02\n   2.30666002e-01  3.75378531e-01 -2.44431930e+00  8.62412028e+00\n  -2.83468301e+00  4.97295887e-02  1.90066366e-01  3.39597549e-01\n  -2.49064397e+00  8.52009487e+00 -2.85200594e+00 -5.39866859e-03\n   1.46722931e-01  2.91033870e-01 -2.52112270e+00  8.40443582e+00\n  -2.92867872e+00 -6.81562296e-02  1.08063920e-01  2.41309861e-01\n  -2.53914913e+00  8.34057968e+00 -2.88199964e+00 -1.04410883e-01\n   8.53104808e-02  2.22869079e-01 -2.55250679e+00  8.31342853e+00\n  -2.83827462e+00 -1.33664767e-01  5.89760976e-02  2.20495258e-01\n  -2.56003225e+00  8.29985706e+00 -2.85211382e+00 -1.69283817e-01\n   2.57837335e-02  2.17030958e-01 -2.55099584e+00  8.28022044e+00\n  -2.86912047e+00 -2.12101229e-01  1.65038560e-03  1.99435643e-01\n  -2.50749187e+00  8.28317913e+00 -2.88485082e+00 -2.71727084e-01\n  -2.13247109e-02  1.58416962e-01 -2.40663739e+00  8.38630391e+00\n  -2.94900490e+00 -3.65630872e-01 -7.63590121e-02  8.95749068e-02\n  -2.26579601e+00  8.58123122e+00 -2.99254515e+00 -4.70835185e-01\n  -1.56248734e-01  9.02577148e-04 -2.11861321e+00  8.86674232e+00\n  -2.93449939e+00 -5.61134330e-01 -2.29930986e-01 -9.49880538e-02\n  -1.97548081e+00  9.34975603e+00 -2.81671463e+00 -6.52613855e-01\n  -2.78830638e-01 -1.93318156e-01 -1.80181664e+00  1.00344689e+01\n  -2.74364144e+00 -7.78388424e-01 -3.04015317e-01 -3.17252946e-01\n  -1.52829665e+00  1.07880901e+01 -2.86838165e+00 -9.80861020e-01\n  -3.26016848e-01 -5.16242446e-01 -1.40714540e+00  1.12595397e+01\n  -3.09087541e+00 -1.16348485e+00 -3.26942229e-01 -7.30480343e-01\n  -1.62646310e+00  1.12079316e+01 -3.23096994e+00 -1.21566399e+00\n  -2.81211003e-01 -8.76542889e-01 -1.80988759e+00  1.08662655e+01\n  -3.36056847e+00 -1.20970425e+00 -2.09708707e-01 -9.97133867e-01\n  -1.84058331e+00  1.04096416e+01 -3.45352414e+00 -1.19798435e+00\n  -1.38258571e-01 -1.10923976e+00 -1.94961731e+00  9.87661125e+00\n  -3.36132792e+00 -1.18506442e+00 -8.71172383e-02 -1.18198786e+00\n  -1.76553235e+00  9.17048134e+00 -3.33307597e+00 -1.14821641e+00\n   8.82317976e-03 -1.17418470e+00 -7.19380665e-01  8.14974892e+00\n  -3.79260720e+00 -1.05135671e+00  2.55212641e-01 -1.05537731e+00\n  -8.07809701e-02  7.02145245e+00 -4.32952969e+00 -8.84787456e-01\n   6.02895592e-01 -9.16237627e-01 -2.28040902e-01  6.10847581e+00\n  -4.60315822e+00 -6.63613641e-01  8.25556648e-01 -7.07508606e-01\n  -3.92888472e-01  5.55827529e+00 -4.66971656e+00 -4.27788352e-01\n   8.37917979e-01 -3.83618244e-01 -3.11313022e-01  5.32984923e+00\n  -4.59844265e+00 -2.20774426e-01  8.05929003e-01 -6.93011302e-02\n  -1.82023000e-01  5.29990891e+00 -4.46570043e+00 -2.60690928e-02\n   7.87444514e-01  2.46003539e-01 -1.98793273e-01  5.36646947e+00\n  -4.33593899e+00  1.77915459e-01  8.01741636e-01  5.88349624e-01\n  -3.02651213e-01  5.52200724e+00 -4.23887444e+00  3.91881995e-01\n   8.39538328e-01  9.40765509e-01 -4.40469809e-01  5.79668064e+00\n  -4.18565215e+00  6.13002051e-01  8.95966876e-01  1.28344694e+00\n  -6.34876180e-01  6.25636357e+00 -4.16359339e+00  8.37438581e-01\n   9.80238806e-01  1.60323972e+00 -8.75415651e-01  6.91805678e+00\n  -4.12789821e+00  1.04969067e+00  1.08269893e+00  1.88543340e+00\n  -1.12943919e+00  7.74705298e+00 -4.01428016e+00  1.22777311e+00\n   1.17678420e+00  2.11848533e+00 -1.46261499e+00  8.66616221e+00\n  -3.80794625e+00  1.37684870e+00  1.24228074e+00  2.32854383e+00\n  -1.95777340e+00  9.56347138e+00 -3.53645364e+00  1.50682355e+00\n   1.25975602e+00  2.52845122e+00 -2.58920844e+00  1.03036352e+01\n  -3.26478440e+00  1.60155553e+00  1.21386091e+00  2.63365784e+00\n  -3.22776364e+00  1.09555117e+01 -2.83993313e+00  1.64134293e+00\n   1.17060176e+00  2.60156733e+00 -4.05365682e+00  1.10730343e+01\n  -2.31931035e+00  1.62504597e+00  1.03715083e+00  2.48109501e+00\n  -4.82294598e+00  1.09035499e+01 -1.75769893e+00  1.52659118e+00\n   8.46904504e-01  2.28067633e+00 -5.32986380e+00  1.09111904e+01\n  -1.09429087e+00  1.32539984e+00  7.36211843e-01  1.94315174e+00\n  -6.03086809e+00  1.07442942e+01 -3.43974205e-01  1.04620827e+00\n   7.17388690e-01  1.41114567e+00 -5.81562202e+00  1.05289315e+01\n  -2.60911078e-02  7.42073244e-01  7.70127650e-01  8.34808277e-01\n  -2.36056666e+00  1.08616524e+01 -9.98125680e-01  4.86726388e-01\n   8.46741434e-01  5.43625766e-01  1.29494101e+00  1.11615174e+01\n  -2.13060822e+00  2.84520853e-01  8.98141768e-01  3.79001427e-01\n   7.49664014e-01  1.06365229e+01 -2.02806015e+00  1.40527837e-01\n   8.94133779e-01  1.56289273e-02 -1.03329826e+00  1.04211209e+01\n  -2.85634761e+00  1.97053393e-01  9.03843578e-01 -4.02792440e-01\n  -1.87061127e+00  1.02080003e+01 -3.69403733e+00  1.95710521e-01\n   1.00762046e+00 -7.31717807e-01 -2.39249759e+00  9.70898546e+00\n  -3.35195280e+00 -2.54195251e-02  9.90175222e-01 -9.09566298e-01]], type: <class 'numpy.ndarray'>, valid types: <class 'bytes'>, <class 'bytearray'>, file-like object"
     ]
    }
   ],
   "source": [
    "predictor.predict(X_test[2].reshape(1,-1))"
   ]
  },
  {
   "cell_type": "code",
   "execution_count": 87,
   "metadata": {},
   "outputs": [
    {
     "data": {
      "text/plain": [
       "True"
      ]
     },
     "execution_count": 87,
     "metadata": {},
     "output_type": "execute_result"
    }
   ],
   "source": [
    "X_test[2].reshape(1,-1).shape[1] == 300"
   ]
  },
  {
   "cell_type": "code",
   "execution_count": 89,
   "metadata": {},
   "outputs": [
    {
     "data": {
      "text/plain": [
       "300"
      ]
     },
     "execution_count": 89,
     "metadata": {},
     "output_type": "execute_result"
    }
   ],
   "source": [
    "X_test[2].reshape(1,-1).shape[1]"
   ]
  },
  {
   "cell_type": "code",
   "execution_count": 92,
   "metadata": {},
   "outputs": [],
   "source": [
    "input_data=X_test[2]\n",
    "import json"
   ]
  },
  {
   "cell_type": "code",
   "execution_count": 93,
   "metadata": {},
   "outputs": [
    {
     "ename": "TypeError",
     "evalue": "the JSON object must be str, bytes or bytearray, not ndarray",
     "output_type": "error",
     "traceback": [
      "\u001b[1;31m---------------------------------------------------------------------------\u001b[0m",
      "\u001b[1;31mTypeError\u001b[0m                                 Traceback (most recent call last)",
      "Cell \u001b[1;32mIn[93], line 1\u001b[0m\n\u001b[1;32m----> 1\u001b[0m input_data \u001b[38;5;241m=\u001b[39m np\u001b[38;5;241m.\u001b[39marray(\u001b[43mjson\u001b[49m\u001b[38;5;241;43m.\u001b[39;49m\u001b[43mloads\u001b[49m\u001b[43m(\u001b[49m\u001b[43minput_data\u001b[49m\u001b[43m)\u001b[49m)\n",
      "File \u001b[1;32me:\\aws_sagemaker\\venv\\lib\\json\\__init__.py:339\u001b[0m, in \u001b[0;36mloads\u001b[1;34m(s, cls, object_hook, parse_float, parse_int, parse_constant, object_pairs_hook, **kw)\u001b[0m\n\u001b[0;32m    337\u001b[0m \u001b[38;5;28;01melse\u001b[39;00m:\n\u001b[0;32m    338\u001b[0m     \u001b[38;5;28;01mif\u001b[39;00m \u001b[38;5;129;01mnot\u001b[39;00m \u001b[38;5;28misinstance\u001b[39m(s, (\u001b[38;5;28mbytes\u001b[39m, \u001b[38;5;28mbytearray\u001b[39m)):\n\u001b[1;32m--> 339\u001b[0m         \u001b[38;5;28;01mraise\u001b[39;00m \u001b[38;5;167;01mTypeError\u001b[39;00m(\u001b[38;5;124mf\u001b[39m\u001b[38;5;124m'\u001b[39m\u001b[38;5;124mthe JSON object must be str, bytes or bytearray, \u001b[39m\u001b[38;5;124m'\u001b[39m\n\u001b[0;32m    340\u001b[0m                         \u001b[38;5;124mf\u001b[39m\u001b[38;5;124m'\u001b[39m\u001b[38;5;124mnot \u001b[39m\u001b[38;5;132;01m{\u001b[39;00ms\u001b[38;5;241m.\u001b[39m\u001b[38;5;18m__class__\u001b[39m\u001b[38;5;241m.\u001b[39m\u001b[38;5;18m__name__\u001b[39m\u001b[38;5;132;01m}\u001b[39;00m\u001b[38;5;124m'\u001b[39m)\n\u001b[0;32m    341\u001b[0m     s \u001b[38;5;241m=\u001b[39m s\u001b[38;5;241m.\u001b[39mdecode(detect_encoding(s), \u001b[38;5;124m'\u001b[39m\u001b[38;5;124msurrogatepass\u001b[39m\u001b[38;5;124m'\u001b[39m)\n\u001b[0;32m    343\u001b[0m \u001b[38;5;28;01mif\u001b[39;00m (\u001b[38;5;28mcls\u001b[39m \u001b[38;5;129;01mis\u001b[39;00m \u001b[38;5;28;01mNone\u001b[39;00m \u001b[38;5;129;01mand\u001b[39;00m object_hook \u001b[38;5;129;01mis\u001b[39;00m \u001b[38;5;28;01mNone\u001b[39;00m \u001b[38;5;129;01mand\u001b[39;00m\n\u001b[0;32m    344\u001b[0m         parse_int \u001b[38;5;129;01mis\u001b[39;00m \u001b[38;5;28;01mNone\u001b[39;00m \u001b[38;5;129;01mand\u001b[39;00m parse_float \u001b[38;5;129;01mis\u001b[39;00m \u001b[38;5;28;01mNone\u001b[39;00m \u001b[38;5;129;01mand\u001b[39;00m\n\u001b[0;32m    345\u001b[0m         parse_constant \u001b[38;5;129;01mis\u001b[39;00m \u001b[38;5;28;01mNone\u001b[39;00m \u001b[38;5;129;01mand\u001b[39;00m object_pairs_hook \u001b[38;5;129;01mis\u001b[39;00m \u001b[38;5;28;01mNone\u001b[39;00m \u001b[38;5;129;01mand\u001b[39;00m \u001b[38;5;129;01mnot\u001b[39;00m kw):\n",
      "\u001b[1;31mTypeError\u001b[0m: the JSON object must be str, bytes or bytearray, not ndarray"
     ]
    }
   ],
   "source": [
    "input_data = np.array(json.loads(input_data))"
   ]
  },
  {
   "cell_type": "code",
   "execution_count": 95,
   "metadata": {},
   "outputs": [
    {
     "ename": "ValidationError",
     "evalue": "An error occurred (ValidationError) when calling the InvokeEndpoint operation: Endpoint sagemaker-endpoint-name of account 692859911732 not found.",
     "output_type": "error",
     "traceback": [
      "\u001b[1;31m---------------------------------------------------------------------------\u001b[0m",
      "\u001b[1;31mValidationError\u001b[0m                           Traceback (most recent call last)",
      "Cell \u001b[1;32mIn[95], line 13\u001b[0m\n\u001b[0;32m      9\u001b[0m payload \u001b[38;5;241m=\u001b[39m json\u001b[38;5;241m.\u001b[39mdumps(data)\n\u001b[0;32m     11\u001b[0m \u001b[38;5;66;03m# Predictor ile gönderim\u001b[39;00m\n\u001b[1;32m---> 13\u001b[0m response \u001b[38;5;241m=\u001b[39m \u001b[43mpredictor\u001b[49m\u001b[38;5;241;43m.\u001b[39;49m\u001b[43mpredict\u001b[49m\u001b[43m(\u001b[49m\u001b[43mpayload\u001b[49m\u001b[43m)\u001b[49m\n\u001b[0;32m     14\u001b[0m \u001b[38;5;28mprint\u001b[39m(response)\n",
      "File \u001b[1;32me:\\aws_sagemaker\\venv\\lib\\site-packages\\sagemaker\\base_predictor.py:212\u001b[0m, in \u001b[0;36mPredictor.predict\u001b[1;34m(self, data, initial_args, target_model, target_variant, inference_id, custom_attributes, component_name)\u001b[0m\n\u001b[0;32m    209\u001b[0m \u001b[38;5;28;01mif\u001b[39;00m inference_component_name:\n\u001b[0;32m    210\u001b[0m     request_args[\u001b[38;5;124m\"\u001b[39m\u001b[38;5;124mInferenceComponentName\u001b[39m\u001b[38;5;124m\"\u001b[39m] \u001b[38;5;241m=\u001b[39m inference_component_name\n\u001b[1;32m--> 212\u001b[0m response \u001b[38;5;241m=\u001b[39m \u001b[38;5;28mself\u001b[39m\u001b[38;5;241m.\u001b[39msagemaker_session\u001b[38;5;241m.\u001b[39msagemaker_runtime_client\u001b[38;5;241m.\u001b[39minvoke_endpoint(\u001b[38;5;241m*\u001b[39m\u001b[38;5;241m*\u001b[39mrequest_args)\n\u001b[0;32m    213\u001b[0m \u001b[38;5;28;01mreturn\u001b[39;00m \u001b[38;5;28mself\u001b[39m\u001b[38;5;241m.\u001b[39m_handle_response(response)\n",
      "File \u001b[1;32me:\\aws_sagemaker\\venv\\lib\\site-packages\\botocore\\client.py:569\u001b[0m, in \u001b[0;36mClientCreator._create_api_method.<locals>._api_call\u001b[1;34m(self, *args, **kwargs)\u001b[0m\n\u001b[0;32m    565\u001b[0m     \u001b[38;5;28;01mraise\u001b[39;00m \u001b[38;5;167;01mTypeError\u001b[39;00m(\n\u001b[0;32m    566\u001b[0m         \u001b[38;5;124mf\u001b[39m\u001b[38;5;124m\"\u001b[39m\u001b[38;5;132;01m{\u001b[39;00mpy_operation_name\u001b[38;5;132;01m}\u001b[39;00m\u001b[38;5;124m() only accepts keyword arguments.\u001b[39m\u001b[38;5;124m\"\u001b[39m\n\u001b[0;32m    567\u001b[0m     )\n\u001b[0;32m    568\u001b[0m \u001b[38;5;66;03m# The \"self\" in this scope is referring to the BaseClient.\u001b[39;00m\n\u001b[1;32m--> 569\u001b[0m \u001b[38;5;28;01mreturn\u001b[39;00m \u001b[38;5;28;43mself\u001b[39;49m\u001b[38;5;241;43m.\u001b[39;49m\u001b[43m_make_api_call\u001b[49m\u001b[43m(\u001b[49m\u001b[43moperation_name\u001b[49m\u001b[43m,\u001b[49m\u001b[43m \u001b[49m\u001b[43mkwargs\u001b[49m\u001b[43m)\u001b[49m\n",
      "File \u001b[1;32me:\\aws_sagemaker\\venv\\lib\\site-packages\\botocore\\client.py:1023\u001b[0m, in \u001b[0;36mBaseClient._make_api_call\u001b[1;34m(self, operation_name, api_params)\u001b[0m\n\u001b[0;32m   1019\u001b[0m     error_code \u001b[38;5;241m=\u001b[39m error_info\u001b[38;5;241m.\u001b[39mget(\u001b[38;5;124m\"\u001b[39m\u001b[38;5;124mQueryErrorCode\u001b[39m\u001b[38;5;124m\"\u001b[39m) \u001b[38;5;129;01mor\u001b[39;00m error_info\u001b[38;5;241m.\u001b[39mget(\n\u001b[0;32m   1020\u001b[0m         \u001b[38;5;124m\"\u001b[39m\u001b[38;5;124mCode\u001b[39m\u001b[38;5;124m\"\u001b[39m\n\u001b[0;32m   1021\u001b[0m     )\n\u001b[0;32m   1022\u001b[0m     error_class \u001b[38;5;241m=\u001b[39m \u001b[38;5;28mself\u001b[39m\u001b[38;5;241m.\u001b[39mexceptions\u001b[38;5;241m.\u001b[39mfrom_code(error_code)\n\u001b[1;32m-> 1023\u001b[0m     \u001b[38;5;28;01mraise\u001b[39;00m error_class(parsed_response, operation_name)\n\u001b[0;32m   1024\u001b[0m \u001b[38;5;28;01melse\u001b[39;00m:\n\u001b[0;32m   1025\u001b[0m     \u001b[38;5;28;01mreturn\u001b[39;00m parsed_response\n",
      "\u001b[1;31mValidationError\u001b[0m: An error occurred (ValidationError) when calling the InvokeEndpoint operation: Endpoint sagemaker-endpoint-name of account 692859911732 not found."
     ]
    }
   ],
   "source": [
    "import numpy as np\n",
    "import json\n",
    "from sagemaker.predictor import Predictor\n",
    "\n",
    "# Örneğin, 3 örnek ve her örnekte 300 özellik içeren rastgele bir veri oluşturma\n",
    "data = np.random.rand(3, 300).tolist()\n",
    "\n",
    "# JSON formatında veri hazırlama\n",
    "payload = json.dumps(data)\n",
    "\n",
    "# Predictor ile gönderim\n",
    "\n",
    "response = predictor.predict(payload)\n",
    "print(response)\n"
   ]
  },
  {
   "cell_type": "code",
   "execution_count": null,
   "metadata": {},
   "outputs": [],
   "source": []
  },
  {
   "cell_type": "code",
   "execution_count": 99,
   "metadata": {},
   "outputs": [],
   "source": [
    "import json"
   ]
  },
  {
   "cell_type": "code",
   "execution_count": 100,
   "metadata": {},
   "outputs": [],
   "source": [
    "input_data = np.frombuffer(input_data, dtype=np.float32)"
   ]
  },
  {
   "cell_type": "code",
   "execution_count": 101,
   "metadata": {},
   "outputs": [
    {
     "data": {
      "text/plain": [
       "(600,)"
      ]
     },
     "execution_count": 101,
     "metadata": {},
     "output_type": "execute_result"
    }
   ],
   "source": [
    "input_data.shape"
   ]
  },
  {
   "cell_type": "code",
   "execution_count": null,
   "metadata": {},
   "outputs": [],
   "source": [
    "input_data = input_data.reshape(1, -1)"
   ]
  },
  {
   "cell_type": "code",
   "execution_count": 104,
   "metadata": {},
   "outputs": [
    {
     "data": {
      "text/plain": [
       "(1, 600)"
      ]
     },
     "execution_count": 104,
     "metadata": {},
     "output_type": "execute_result"
    }
   ],
   "source": [
    "input_data.shape"
   ]
  },
  {
   "cell_type": "code",
   "execution_count": 105,
   "metadata": {},
   "outputs": [],
   "source": [
    "def input_fn(request_body, request_content_type):\n",
    "    # Check if the input data is in JSON format\n",
    "    if request_content_type == 'application/json':\n",
    "        try:\n",
    "            # Convert JSON-formatted string into a numpy array\n",
    "            input_data = np.array(json.loads(request_body))\n",
    "            \n",
    "            # Ensure the input data has the right shape (1, 300)\n",
    "            if input_data.shape != (1, 300):\n",
    "                input_data = input_data.reshape(1, 300)\n",
    "            \n",
    "            return input_data\n",
    "        \n",
    "        except (ValueError, TypeError) as e:\n",
    "            raise ValueError(f\"Error processing JSON input: {e}\")\n",
    "    \n",
    "    # Check if the input data is in .npy format\n",
    "    elif request_content_type == 'application/x-npy':\n",
    "        try:\n",
    "            # Load binary data directly as a numpy array\n",
    "            input_data = np.frombuffer(request_body, dtype=np.float32)\n",
    "            \n",
    "            # Ensure the input data has the right shape (1, 300)\n",
    "            if input_data.size != 300:\n",
    "                raise ValueError(\"The .npy input data does not have 300 features.\")\n",
    "            input_data = input_data.reshape(1, 300)\n",
    "            \n",
    "            return input_data\n",
    "        \n",
    "        except Exception as e:\n",
    "            raise ValueError(f\"Error processing .npy input: {e}\")\n",
    "    \n",
    "    else:\n",
    "        # Raise an error if the content type is unsupported\n",
    "        raise ValueError(f\"Unsupported content type: {request_content_type}\")"
   ]
  },
  {
   "cell_type": "code",
   "execution_count": null,
   "metadata": {},
   "outputs": [],
   "source": [
    "def input_fn(request_body, request_content_type):\n",
    "    if request_content_type == 'application/json':\n",
    "        # JSON formatında gelen veriyi numpy array'e dönüştür\n",
    "        input_data = np.array(json.loads(request_body))\n",
    "        return input_data\n",
    "    elif request_content_type == 'application/x-npy':\n",
    "        # .npy formatındaki veriyi numpy array olarak yükle\n",
    "        input_data = np.frombuffer(request_body, dtype=np.float32)  # Veri türünü modelin beklediği türe göre ayarlayın\n",
    "        input_data = input_data.reshape(1, -1)  # Modelin beklediği boyuta göre şekillendir\n",
    "        return input_data  # DataFrame'e dönüştürmeye gerek yok, direk numpy array olarak döndürüyoruz\n",
    "    else:\n",
    "        raise ValueError(f\"Unsupported content type: {request_content_type}\")"
   ]
  },
  {
   "cell_type": "code",
   "execution_count": 107,
   "metadata": {},
   "outputs": [
    {
     "ename": "ModelError",
     "evalue": "An error occurred (ModelError) when calling the InvokeEndpoint operation: Received server error (500) from primary with message \"<!DOCTYPE HTML PUBLIC \"-//W3C//DTD HTML 3.2 Final//EN\">\n<title>500 Internal Server Error</title>\n<h1>Internal Server Error</h1>\n<p>The server encountered an internal error and was unable to complete your request. Either the server is overloaded or there is an error in the application.</p>\n\". See https://eu-central-1.console.aws.amazon.com/cloudwatch/home?region=eu-central-1#logEventViewer:group=/aws/sagemaker/Endpoints/Custom-sklearn-model2024-11-06-09-40-54 in account 692859911732 for more information.",
     "output_type": "error",
     "traceback": [
      "\u001b[1;31m---------------------------------------------------------------------------\u001b[0m",
      "\u001b[1;31mModelError\u001b[0m                                Traceback (most recent call last)",
      "Cell \u001b[1;32mIn[107], line 7\u001b[0m\n\u001b[0;32m      4\u001b[0m input_data \u001b[38;5;241m=\u001b[39m sample_input\u001b[38;5;241m.\u001b[39mtolist()  \u001b[38;5;66;03m# Convert numpy array to list for JSON serialization\u001b[39;00m\n\u001b[0;32m      6\u001b[0m \u001b[38;5;66;03m# Send the input to the model\u001b[39;00m\n\u001b[1;32m----> 7\u001b[0m response \u001b[38;5;241m=\u001b[39m \u001b[43mpredictor\u001b[49m\u001b[38;5;241;43m.\u001b[39;49m\u001b[43mpredict\u001b[49m\u001b[43m(\u001b[49m\u001b[43minput_data\u001b[49m\u001b[43m)\u001b[49m\n\u001b[0;32m      9\u001b[0m \u001b[38;5;66;03m# Print the prediction result\u001b[39;00m\n\u001b[0;32m     10\u001b[0m \u001b[38;5;28mprint\u001b[39m(\u001b[38;5;124m\"\u001b[39m\u001b[38;5;124mPrediction:\u001b[39m\u001b[38;5;124m\"\u001b[39m, response)\n",
      "File \u001b[1;32me:\\aws_sagemaker\\venv\\lib\\site-packages\\sagemaker\\base_predictor.py:212\u001b[0m, in \u001b[0;36mPredictor.predict\u001b[1;34m(self, data, initial_args, target_model, target_variant, inference_id, custom_attributes, component_name)\u001b[0m\n\u001b[0;32m    209\u001b[0m \u001b[38;5;28;01mif\u001b[39;00m inference_component_name:\n\u001b[0;32m    210\u001b[0m     request_args[\u001b[38;5;124m\"\u001b[39m\u001b[38;5;124mInferenceComponentName\u001b[39m\u001b[38;5;124m\"\u001b[39m] \u001b[38;5;241m=\u001b[39m inference_component_name\n\u001b[1;32m--> 212\u001b[0m response \u001b[38;5;241m=\u001b[39m \u001b[38;5;28mself\u001b[39m\u001b[38;5;241m.\u001b[39msagemaker_session\u001b[38;5;241m.\u001b[39msagemaker_runtime_client\u001b[38;5;241m.\u001b[39minvoke_endpoint(\u001b[38;5;241m*\u001b[39m\u001b[38;5;241m*\u001b[39mrequest_args)\n\u001b[0;32m    213\u001b[0m \u001b[38;5;28;01mreturn\u001b[39;00m \u001b[38;5;28mself\u001b[39m\u001b[38;5;241m.\u001b[39m_handle_response(response)\n",
      "File \u001b[1;32me:\\aws_sagemaker\\venv\\lib\\site-packages\\botocore\\client.py:569\u001b[0m, in \u001b[0;36mClientCreator._create_api_method.<locals>._api_call\u001b[1;34m(self, *args, **kwargs)\u001b[0m\n\u001b[0;32m    565\u001b[0m     \u001b[38;5;28;01mraise\u001b[39;00m \u001b[38;5;167;01mTypeError\u001b[39;00m(\n\u001b[0;32m    566\u001b[0m         \u001b[38;5;124mf\u001b[39m\u001b[38;5;124m\"\u001b[39m\u001b[38;5;132;01m{\u001b[39;00mpy_operation_name\u001b[38;5;132;01m}\u001b[39;00m\u001b[38;5;124m() only accepts keyword arguments.\u001b[39m\u001b[38;5;124m\"\u001b[39m\n\u001b[0;32m    567\u001b[0m     )\n\u001b[0;32m    568\u001b[0m \u001b[38;5;66;03m# The \"self\" in this scope is referring to the BaseClient.\u001b[39;00m\n\u001b[1;32m--> 569\u001b[0m \u001b[38;5;28;01mreturn\u001b[39;00m \u001b[38;5;28;43mself\u001b[39;49m\u001b[38;5;241;43m.\u001b[39;49m\u001b[43m_make_api_call\u001b[49m\u001b[43m(\u001b[49m\u001b[43moperation_name\u001b[49m\u001b[43m,\u001b[49m\u001b[43m \u001b[49m\u001b[43mkwargs\u001b[49m\u001b[43m)\u001b[49m\n",
      "File \u001b[1;32me:\\aws_sagemaker\\venv\\lib\\site-packages\\botocore\\client.py:1023\u001b[0m, in \u001b[0;36mBaseClient._make_api_call\u001b[1;34m(self, operation_name, api_params)\u001b[0m\n\u001b[0;32m   1019\u001b[0m     error_code \u001b[38;5;241m=\u001b[39m error_info\u001b[38;5;241m.\u001b[39mget(\u001b[38;5;124m\"\u001b[39m\u001b[38;5;124mQueryErrorCode\u001b[39m\u001b[38;5;124m\"\u001b[39m) \u001b[38;5;129;01mor\u001b[39;00m error_info\u001b[38;5;241m.\u001b[39mget(\n\u001b[0;32m   1020\u001b[0m         \u001b[38;5;124m\"\u001b[39m\u001b[38;5;124mCode\u001b[39m\u001b[38;5;124m\"\u001b[39m\n\u001b[0;32m   1021\u001b[0m     )\n\u001b[0;32m   1022\u001b[0m     error_class \u001b[38;5;241m=\u001b[39m \u001b[38;5;28mself\u001b[39m\u001b[38;5;241m.\u001b[39mexceptions\u001b[38;5;241m.\u001b[39mfrom_code(error_code)\n\u001b[1;32m-> 1023\u001b[0m     \u001b[38;5;28;01mraise\u001b[39;00m error_class(parsed_response, operation_name)\n\u001b[0;32m   1024\u001b[0m \u001b[38;5;28;01melse\u001b[39;00m:\n\u001b[0;32m   1025\u001b[0m     \u001b[38;5;28;01mreturn\u001b[39;00m parsed_response\n",
      "\u001b[1;31mModelError\u001b[0m: An error occurred (ModelError) when calling the InvokeEndpoint operation: Received server error (500) from primary with message \"<!DOCTYPE HTML PUBLIC \"-//W3C//DTD HTML 3.2 Final//EN\">\n<title>500 Internal Server Error</title>\n<h1>Internal Server Error</h1>\n<p>The server encountered an internal error and was unable to complete your request. Either the server is overloaded or there is an error in the application.</p>\n\". See https://eu-central-1.console.aws.amazon.com/cloudwatch/home?region=eu-central-1#logEventViewer:group=/aws/sagemaker/Endpoints/Custom-sklearn-model2024-11-06-09-40-54 in account 692859911732 for more information."
     ]
    }
   ],
   "source": [
    "sample_input = np.random.rand(1, 300)  # Random data with shape (1, 300)\n",
    "\n",
    "# Convert sample input to JSON format\n",
    "input_data = sample_input.tolist()  # Convert numpy array to list for JSON serialization\n",
    "\n",
    "# Send the input to the model\n",
    "response = predictor.predict(input_data)\n",
    "\n",
    "# Print the prediction result\n",
    "print(\"Prediction:\", response)"
   ]
  },
  {
   "cell_type": "code",
   "execution_count": 108,
   "metadata": {},
   "outputs": [],
   "source": [
    "import numpy as np\n",
    "\n",
    "# Assuming `input_data` is your input numpy array for prediction\n",
    "input_data = np.nan_to_num(input_data, nan=0.0, posinf=0.0, neginf=0.0)\n"
   ]
  },
  {
   "cell_type": "code",
   "execution_count": 109,
   "metadata": {},
   "outputs": [],
   "source": [
    "# Clip values to be within the range of float32\n",
    "input_data = np.clip(input_data, -3.4e38, 3.4e38)\n"
   ]
  },
  {
   "cell_type": "code",
   "execution_count": 110,
   "metadata": {},
   "outputs": [
    {
     "ename": "ModelError",
     "evalue": "An error occurred (ModelError) when calling the InvokeEndpoint operation: Received server error (500) from primary with message \"<!DOCTYPE HTML PUBLIC \"-//W3C//DTD HTML 3.2 Final//EN\">\n<title>500 Internal Server Error</title>\n<h1>Internal Server Error</h1>\n<p>The server encountered an internal error and was unable to complete your request. Either the server is overloaded or there is an error in the application.</p>\n\". See https://eu-central-1.console.aws.amazon.com/cloudwatch/home?region=eu-central-1#logEventViewer:group=/aws/sagemaker/Endpoints/Custom-sklearn-model2024-11-06-09-40-54 in account 692859911732 for more information.",
     "output_type": "error",
     "traceback": [
      "\u001b[1;31m---------------------------------------------------------------------------\u001b[0m",
      "\u001b[1;31mModelError\u001b[0m                                Traceback (most recent call last)",
      "Cell \u001b[1;32mIn[110], line 12\u001b[0m\n\u001b[0;32m      9\u001b[0m input_data \u001b[38;5;241m=\u001b[39m np\u001b[38;5;241m.\u001b[39mnan_to_num(input_data, nan\u001b[38;5;241m=\u001b[39m\u001b[38;5;241m0.0\u001b[39m, posinf\u001b[38;5;241m=\u001b[39m\u001b[38;5;241m0.0\u001b[39m, neginf\u001b[38;5;241m=\u001b[39m\u001b[38;5;241m0.0\u001b[39m)\n\u001b[0;32m     10\u001b[0m input_data \u001b[38;5;241m=\u001b[39m np\u001b[38;5;241m.\u001b[39mclip(input_data, \u001b[38;5;241m-\u001b[39m\u001b[38;5;241m3.4e38\u001b[39m, \u001b[38;5;241m3.4e38\u001b[39m)\n\u001b[1;32m---> 12\u001b[0m response \u001b[38;5;241m=\u001b[39m \u001b[43mpredictor\u001b[49m\u001b[38;5;241;43m.\u001b[39;49m\u001b[43mpredict\u001b[49m\u001b[43m(\u001b[49m\u001b[43minput_data\u001b[49m\u001b[38;5;241;43m.\u001b[39;49m\u001b[43mtolist\u001b[49m\u001b[43m(\u001b[49m\u001b[43m)\u001b[49m\u001b[43m)\u001b[49m\n\u001b[0;32m     13\u001b[0m \u001b[38;5;28mprint\u001b[39m(\u001b[38;5;124m\"\u001b[39m\u001b[38;5;124mPrediction:\u001b[39m\u001b[38;5;124m\"\u001b[39m, response)\n",
      "File \u001b[1;32me:\\aws_sagemaker\\venv\\lib\\site-packages\\sagemaker\\base_predictor.py:212\u001b[0m, in \u001b[0;36mPredictor.predict\u001b[1;34m(self, data, initial_args, target_model, target_variant, inference_id, custom_attributes, component_name)\u001b[0m\n\u001b[0;32m    209\u001b[0m \u001b[38;5;28;01mif\u001b[39;00m inference_component_name:\n\u001b[0;32m    210\u001b[0m     request_args[\u001b[38;5;124m\"\u001b[39m\u001b[38;5;124mInferenceComponentName\u001b[39m\u001b[38;5;124m\"\u001b[39m] \u001b[38;5;241m=\u001b[39m inference_component_name\n\u001b[1;32m--> 212\u001b[0m response \u001b[38;5;241m=\u001b[39m \u001b[38;5;28mself\u001b[39m\u001b[38;5;241m.\u001b[39msagemaker_session\u001b[38;5;241m.\u001b[39msagemaker_runtime_client\u001b[38;5;241m.\u001b[39minvoke_endpoint(\u001b[38;5;241m*\u001b[39m\u001b[38;5;241m*\u001b[39mrequest_args)\n\u001b[0;32m    213\u001b[0m \u001b[38;5;28;01mreturn\u001b[39;00m \u001b[38;5;28mself\u001b[39m\u001b[38;5;241m.\u001b[39m_handle_response(response)\n",
      "File \u001b[1;32me:\\aws_sagemaker\\venv\\lib\\site-packages\\botocore\\client.py:569\u001b[0m, in \u001b[0;36mClientCreator._create_api_method.<locals>._api_call\u001b[1;34m(self, *args, **kwargs)\u001b[0m\n\u001b[0;32m    565\u001b[0m     \u001b[38;5;28;01mraise\u001b[39;00m \u001b[38;5;167;01mTypeError\u001b[39;00m(\n\u001b[0;32m    566\u001b[0m         \u001b[38;5;124mf\u001b[39m\u001b[38;5;124m\"\u001b[39m\u001b[38;5;132;01m{\u001b[39;00mpy_operation_name\u001b[38;5;132;01m}\u001b[39;00m\u001b[38;5;124m() only accepts keyword arguments.\u001b[39m\u001b[38;5;124m\"\u001b[39m\n\u001b[0;32m    567\u001b[0m     )\n\u001b[0;32m    568\u001b[0m \u001b[38;5;66;03m# The \"self\" in this scope is referring to the BaseClient.\u001b[39;00m\n\u001b[1;32m--> 569\u001b[0m \u001b[38;5;28;01mreturn\u001b[39;00m \u001b[38;5;28;43mself\u001b[39;49m\u001b[38;5;241;43m.\u001b[39;49m\u001b[43m_make_api_call\u001b[49m\u001b[43m(\u001b[49m\u001b[43moperation_name\u001b[49m\u001b[43m,\u001b[49m\u001b[43m \u001b[49m\u001b[43mkwargs\u001b[49m\u001b[43m)\u001b[49m\n",
      "File \u001b[1;32me:\\aws_sagemaker\\venv\\lib\\site-packages\\botocore\\client.py:1023\u001b[0m, in \u001b[0;36mBaseClient._make_api_call\u001b[1;34m(self, operation_name, api_params)\u001b[0m\n\u001b[0;32m   1019\u001b[0m     error_code \u001b[38;5;241m=\u001b[39m error_info\u001b[38;5;241m.\u001b[39mget(\u001b[38;5;124m\"\u001b[39m\u001b[38;5;124mQueryErrorCode\u001b[39m\u001b[38;5;124m\"\u001b[39m) \u001b[38;5;129;01mor\u001b[39;00m error_info\u001b[38;5;241m.\u001b[39mget(\n\u001b[0;32m   1020\u001b[0m         \u001b[38;5;124m\"\u001b[39m\u001b[38;5;124mCode\u001b[39m\u001b[38;5;124m\"\u001b[39m\n\u001b[0;32m   1021\u001b[0m     )\n\u001b[0;32m   1022\u001b[0m     error_class \u001b[38;5;241m=\u001b[39m \u001b[38;5;28mself\u001b[39m\u001b[38;5;241m.\u001b[39mexceptions\u001b[38;5;241m.\u001b[39mfrom_code(error_code)\n\u001b[1;32m-> 1023\u001b[0m     \u001b[38;5;28;01mraise\u001b[39;00m error_class(parsed_response, operation_name)\n\u001b[0;32m   1024\u001b[0m \u001b[38;5;28;01melse\u001b[39;00m:\n\u001b[0;32m   1025\u001b[0m     \u001b[38;5;28;01mreturn\u001b[39;00m parsed_response\n",
      "\u001b[1;31mModelError\u001b[0m: An error occurred (ModelError) when calling the InvokeEndpoint operation: Received server error (500) from primary with message \"<!DOCTYPE HTML PUBLIC \"-//W3C//DTD HTML 3.2 Final//EN\">\n<title>500 Internal Server Error</title>\n<h1>Internal Server Error</h1>\n<p>The server encountered an internal error and was unable to complete your request. Either the server is overloaded or there is an error in the application.</p>\n\". See https://eu-central-1.console.aws.amazon.com/cloudwatch/home?region=eu-central-1#logEventViewer:group=/aws/sagemaker/Endpoints/Custom-sklearn-model2024-11-06-09-40-54 in account 692859911732 for more information."
     ]
    }
   ],
   "source": [
    "import json\n",
    "import numpy as np\n",
    "from sagemaker.predictor import Predictor\n",
    "from sagemaker.serializers import JSONSerializer\n",
    "from sagemaker.deserializers import JSONDeserializer\n",
    "\n",
    "# Example cleaned input data\n",
    "input_data = np.random.rand(1, 300) * 1e6  # Adjusting values to simulate large input\n",
    "input_data = np.nan_to_num(input_data, nan=0.0, posinf=0.0, neginf=0.0)\n",
    "input_data = np.clip(input_data, -3.4e38, 3.4e38)\n",
    " \n",
    "response = predictor.predict(input_data.tolist())\n",
    "print(\"Prediction:\", response)\n"
   ]
  },
  {
   "cell_type": "code",
   "execution_count": null,
   "metadata": {},
   "outputs": [],
   "source": []
  },
  {
   "cell_type": "code",
   "execution_count": 83,
   "metadata": {},
   "outputs": [
    {
     "name": "stderr",
     "output_type": "stream",
     "text": [
      "C:\\Users\\ninja\\AppData\\Local\\Temp\\ipykernel_46236\\3480009841.py:122: DeprecationWarning: Callback API version 1 is deprecated, update to latest version\n",
      "  client = mqtt.Client()\n"
     ]
    },
    {
     "name": "stdout",
     "output_type": "stream",
     "text": [
      "Toplanan veri sayısı: 1\n",
      "Toplanan veri sayısı: 2\n",
      "Toplanan veri sayısı: 3\n",
      "Toplanan veri sayısı: 4\n",
      "Toplanan veri sayısı: 5\n",
      "Toplanan veri sayısı: 6\n",
      "Toplanan veri sayısı: 7\n",
      "Toplanan veri sayısı: 8\n",
      "Toplanan veri sayısı: 9\n",
      "Toplanan veri sayısı: 10\n",
      "Toplanan veri sayısı: 11\n",
      "Toplanan veri sayısı: 12\n",
      "Toplanan veri sayısı: 13\n",
      "Toplanan veri sayısı: 14\n",
      "Toplanan veri sayısı: 15\n",
      "Toplanan veri sayısı: 16\n",
      "Toplanan veri sayısı: 17\n",
      "Toplanan veri sayısı: 18\n",
      "Toplanan veri sayısı: 19\n",
      "Toplanan veri sayısı: 20\n",
      "Toplanan veri sayısı: 21\n",
      "Toplanan veri sayısı: 22\n",
      "Toplanan veri sayısı: 23\n",
      "Toplanan veri sayısı: 24\n",
      "Toplanan veri sayısı: 25\n",
      "Toplanan veri sayısı: 26\n",
      "Toplanan veri sayısı: 27\n",
      "Toplanan veri sayısı: 28\n",
      "Toplanan veri sayısı: 29\n",
      "Toplanan veri sayısı: 30\n",
      "Toplanan veri sayısı: 31\n",
      "Toplanan veri sayısı: 32\n",
      "\n",
      "Interpolasyon Sonucu (50 Hz):\n",
      "   ax_filtered  ay_filtered  az_filtered  gx_filtered  gy_filtered  \\\n",
      "0    -1.050000    -0.720000    10.040000        -0.07          0.0   \n",
      "1    -1.065746    -0.725913    10.120471        -0.07          0.0   \n",
      "2    -1.045481    -0.709417    10.110768        -0.07          0.0   \n",
      "3    -1.009758    -0.690031    10.059988        -0.07          0.0   \n",
      "4    -1.024583    -0.711651    10.114578        -0.07          0.0   \n",
      "\n",
      "   gz_filtered                     timestamp  \n",
      "0    -0.010000 2024-11-05 21:44:07.787000000  \n",
      "1    -0.010515 2024-11-05 21:44:07.809122559  \n",
      "2    -0.009148 2024-11-05 21:44:07.831244873  \n",
      "3    -0.010097 2024-11-05 21:44:07.853367432  \n",
      "4    -0.018533 2024-11-05 21:44:07.875489746  \n",
      "Tahmin yaparken hata oluştu: An error occurred (ModelError) when calling the InvokeEndpoint operation: Received server error (500) from primary with message \"<!DOCTYPE HTML PUBLIC \"-//W3C//DTD HTML 3.2 Final//EN\">\n",
      "<title>500 Internal Server Error</title>\n",
      "<h1>Internal Server Error</h1>\n",
      "<p>The server encountered an internal error and was unable to complete your request. Either the server is overloaded or there is an error in the application.</p>\n",
      "\". See https://eu-central-1.console.aws.amazon.com/cloudwatch/home?region=eu-central-1#logEventViewer:group=/aws/sagemaker/Endpoints/Custom-sklearn-model2024-11-05-21-35-35 in account 692859911732 for more information.\n",
      "Toplanan veri sayısı: 1\n",
      "Toplanan veri sayısı: 2\n",
      "Toplanan veri sayısı: 3\n",
      "Toplanan veri sayısı: 4\n",
      "Toplanan veri sayısı: 5\n",
      "Toplanan veri sayısı: 6\n",
      "Toplanan veri sayısı: 7\n",
      "Toplanan veri sayısı: 8\n",
      "Toplanan veri sayısı: 9\n",
      "Toplanan veri sayısı: 10\n",
      "Toplanan veri sayısı: 11\n",
      "Toplanan veri sayısı: 12\n",
      "Toplanan veri sayısı: 13\n",
      "Toplanan veri sayısı: 14\n",
      "Toplanan veri sayısı: 15\n",
      "Toplanan veri sayısı: 16\n",
      "Toplanan veri sayısı: 17\n",
      "Toplanan veri sayısı: 18\n",
      "Toplanan veri sayısı: 19\n",
      "Toplanan veri sayısı: 20\n",
      "Toplanan veri sayısı: 21\n",
      "Toplanan veri sayısı: 22\n",
      "Toplanan veri sayısı: 23\n",
      "Toplanan veri sayısı: 24\n",
      "Toplanan veri sayısı: 25\n",
      "Toplanan veri sayısı: 26\n",
      "Toplanan veri sayısı: 27\n",
      "Toplanan veri sayısı: 28\n",
      "Toplanan veri sayısı: 29\n",
      "Toplanan veri sayısı: 30\n",
      "Toplanan veri sayısı: 31\n",
      "Toplanan veri sayısı: 32\n",
      "\n",
      "Interpolasyon Sonucu (50 Hz):\n",
      "   ax_filtered  ay_filtered  az_filtered  gx_filtered  gy_filtered  \\\n",
      "0    -1.030000    -0.780000    10.160000        -0.07          0.0   \n",
      "1    -1.020945    -0.689474    10.078934        -0.07          0.0   \n",
      "2    -1.022409    -0.703964    10.090222        -0.07          0.0   \n",
      "3    -1.029231    -0.772203    10.158319        -0.07          0.0   \n",
      "4    -1.027560    -0.768742    10.177555        -0.07          0.0   \n",
      "\n",
      "   gz_filtered                     timestamp  \n",
      "0    -0.010000 2024-11-05 21:44:09.364000000  \n",
      "1    -0.018982 2024-11-05 21:44:09.387530518  \n",
      "2    -0.017916 2024-11-05 21:44:09.411061279  \n",
      "3    -0.011036 2024-11-05 21:44:09.434591797  \n",
      "4    -0.009521 2024-11-05 21:44:09.458122559  \n",
      "Tahmin yaparken hata oluştu: An error occurred (ModelError) when calling the InvokeEndpoint operation: Received server error (500) from primary with message \"<!DOCTYPE HTML PUBLIC \"-//W3C//DTD HTML 3.2 Final//EN\">\n",
      "<title>500 Internal Server Error</title>\n",
      "<h1>Internal Server Error</h1>\n",
      "<p>The server encountered an internal error and was unable to complete your request. Either the server is overloaded or there is an error in the application.</p>\n",
      "\". See https://eu-central-1.console.aws.amazon.com/cloudwatch/home?region=eu-central-1#logEventViewer:group=/aws/sagemaker/Endpoints/Custom-sklearn-model2024-11-05-21-35-35 in account 692859911732 for more information.\n",
      "Toplanan veri sayısı: 1\n",
      "Toplanan veri sayısı: 2\n",
      "Toplanan veri sayısı: 3\n",
      "Toplanan veri sayısı: 4\n",
      "Toplanan veri sayısı: 5\n",
      "Toplanan veri sayısı: 6\n",
      "Toplanan veri sayısı: 7\n",
      "Toplanan veri sayısı: 8\n",
      "Toplanan veri sayısı: 9\n",
      "Toplanan veri sayısı: 10\n",
      "Toplanan veri sayısı: 11\n",
      "Toplanan veri sayısı: 12\n",
      "Toplanan veri sayısı: 13\n",
      "Toplanan veri sayısı: 14\n",
      "Toplanan veri sayısı: 15\n",
      "Toplanan veri sayısı: 16\n",
      "Toplanan veri sayısı: 17\n",
      "Toplanan veri sayısı: 18\n",
      "Toplanan veri sayısı: 19\n",
      "Toplanan veri sayısı: 20\n",
      "Toplanan veri sayısı: 21\n",
      "Toplanan veri sayısı: 22\n",
      "Toplanan veri sayısı: 23\n",
      "Toplanan veri sayısı: 24\n",
      "Toplanan veri sayısı: 25\n",
      "Toplanan veri sayısı: 26\n",
      "Toplanan veri sayısı: 27\n",
      "Toplanan veri sayısı: 28\n",
      "Toplanan veri sayısı: 29\n",
      "Toplanan veri sayısı: 30\n",
      "Toplanan veri sayısı: 31\n",
      "Toplanan veri sayısı: 32\n",
      "\n",
      "Interpolasyon Sonucu (50 Hz):\n",
      "   ax_filtered  ay_filtered  az_filtered  gx_filtered  gy_filtered  \\\n",
      "0    -0.970000    -0.770000    10.100000        -0.07          0.0   \n",
      "1    -1.027021    -0.737407    10.180734        -0.07          0.0   \n",
      "2    -1.063598    -0.732419    10.167469        -0.07          0.0   \n",
      "3    -1.069651    -0.750743    10.076339        -0.07          0.0   \n",
      "4    -1.050720    -0.760791    10.020668        -0.07          0.0   \n",
      "\n",
      "   gz_filtered                     timestamp  \n",
      "0    -0.010000 2024-11-05 21:44:10.671000000  \n",
      "1    -0.010033 2024-11-05 21:44:10.691959229  \n",
      "2    -0.009935 2024-11-05 21:44:10.712918457  \n",
      "3    -0.010017 2024-11-05 21:44:10.733877441  \n",
      "4    -0.010352 2024-11-05 21:44:10.754836670  \n",
      "Tahmin yaparken hata oluştu: An error occurred (ModelError) when calling the InvokeEndpoint operation: Received server error (500) from primary with message \"<!DOCTYPE HTML PUBLIC \"-//W3C//DTD HTML 3.2 Final//EN\">\n",
      "<title>500 Internal Server Error</title>\n",
      "<h1>Internal Server Error</h1>\n",
      "<p>The server encountered an internal error and was unable to complete your request. Either the server is overloaded or there is an error in the application.</p>\n",
      "\". See https://eu-central-1.console.aws.amazon.com/cloudwatch/home?region=eu-central-1#logEventViewer:group=/aws/sagemaker/Endpoints/Custom-sklearn-model2024-11-05-21-35-35 in account 692859911732 for more information.\n",
      "Toplanan veri sayısı: 1\n",
      "Toplanan veri sayısı: 2\n",
      "Toplanan veri sayısı: 3\n",
      "Toplanan veri sayısı: 4\n",
      "Toplanan veri sayısı: 5\n",
      "Toplanan veri sayısı: 6\n",
      "Toplanan veri sayısı: 7\n",
      "Toplanan veri sayısı: 8\n",
      "Toplanan veri sayısı: 9\n",
      "Toplanan veri sayısı: 10\n",
      "Toplanan veri sayısı: 11\n",
      "Toplanan veri sayısı: 12\n",
      "Toplanan veri sayısı: 13\n",
      "Toplanan veri sayısı: 14\n",
      "Toplanan veri sayısı: 15\n",
      "Toplanan veri sayısı: 16\n",
      "Toplanan veri sayısı: 17\n",
      "Toplanan veri sayısı: 18\n",
      "Toplanan veri sayısı: 19\n",
      "Toplanan veri sayısı: 20\n",
      "Toplanan veri sayısı: 21\n",
      "Toplanan veri sayısı: 22\n",
      "Toplanan veri sayısı: 23\n",
      "Toplanan veri sayısı: 24\n",
      "Toplanan veri sayısı: 25\n",
      "Toplanan veri sayısı: 26\n",
      "Toplanan veri sayısı: 27\n",
      "Toplanan veri sayısı: 28\n",
      "Toplanan veri sayısı: 29\n",
      "Toplanan veri sayısı: 30\n",
      "Toplanan veri sayısı: 31\n",
      "Toplanan veri sayısı: 32\n",
      "\n",
      "Interpolasyon Sonucu (50 Hz):\n",
      "   ax_filtered  ay_filtered  az_filtered  gx_filtered  gy_filtered  \\\n",
      "0    -1.060000    -0.740000    10.090000        -0.07          0.0   \n",
      "1    -1.029514    -0.747505    10.065340        -0.07          0.0   \n",
      "2    -1.015779    -0.750940    10.092670        -0.07          0.0   \n",
      "3    -1.033947    -0.736979    10.118186        -0.07          0.0   \n",
      "4    -1.070001    -0.713555    10.069108        -0.07          0.0   \n",
      "\n",
      "   gz_filtered                     timestamp  \n",
      "0    -0.010000 2024-11-05 21:44:11.837000000  \n",
      "1    -0.009878 2024-11-05 21:44:11.858795898  \n",
      "2    -0.010292 2024-11-05 21:44:11.880591797  \n",
      "3    -0.009807 2024-11-05 21:44:11.902387695  \n",
      "4    -0.008679 2024-11-05 21:44:11.924183594  \n",
      "Tahmin yaparken hata oluştu: An error occurred (ModelError) when calling the InvokeEndpoint operation: Received server error (500) from primary with message \"<!DOCTYPE HTML PUBLIC \"-//W3C//DTD HTML 3.2 Final//EN\">\n",
      "<title>500 Internal Server Error</title>\n",
      "<h1>Internal Server Error</h1>\n",
      "<p>The server encountered an internal error and was unable to complete your request. Either the server is overloaded or there is an error in the application.</p>\n",
      "\". See https://eu-central-1.console.aws.amazon.com/cloudwatch/home?region=eu-central-1#logEventViewer:group=/aws/sagemaker/Endpoints/Custom-sklearn-model2024-11-05-21-35-35 in account 692859911732 for more information.\n",
      "Toplanan veri sayısı: 1\n",
      "Toplanan veri sayısı: 2\n",
      "Toplanan veri sayısı: 3\n",
      "Toplanan veri sayısı: 4\n",
      "Toplanan veri sayısı: 5\n",
      "Toplanan veri sayısı: 6\n",
      "Toplanan veri sayısı: 7\n",
      "Toplanan veri sayısı: 8\n",
      "Toplanan veri sayısı: 9\n",
      "Toplanan veri sayısı: 10\n",
      "Toplanan veri sayısı: 11\n",
      "Toplanan veri sayısı: 12\n",
      "Toplanan veri sayısı: 13\n",
      "Toplanan veri sayısı: 14\n",
      "Toplanan veri sayısı: 15\n",
      "Toplanan veri sayısı: 16\n",
      "Toplanan veri sayısı: 17\n",
      "Toplanan veri sayısı: 18\n",
      "Toplanan veri sayısı: 19\n",
      "Toplanan veri sayısı: 20\n",
      "Toplanan veri sayısı: 21\n",
      "Toplanan veri sayısı: 22\n",
      "Toplanan veri sayısı: 23\n",
      "Toplanan veri sayısı: 24\n",
      "Toplanan veri sayısı: 25\n",
      "Toplanan veri sayısı: 26\n",
      "Toplanan veri sayısı: 27\n",
      "Toplanan veri sayısı: 28\n",
      "Toplanan veri sayısı: 29\n",
      "Toplanan veri sayısı: 30\n",
      "Toplanan veri sayısı: 31\n",
      "Toplanan veri sayısı: 32\n",
      "\n",
      "Interpolasyon Sonucu (50 Hz):\n",
      "   ax_filtered  ay_filtered  az_filtered  gx_filtered  gy_filtered  \\\n",
      "0    -1.070000    -0.740000    10.070000        -0.07          0.0   \n",
      "1    -1.010088    -0.749291    10.109382        -0.07          0.0   \n",
      "2    -1.044682    -0.746518    10.088444        -0.07          0.0   \n",
      "3    -1.103367    -0.739510    10.046134        -0.07          0.0   \n",
      "4    -1.083006    -0.752706    10.042361        -0.07          0.0   \n",
      "\n",
      "   gz_filtered                     timestamp  \n",
      "0    -0.010000 2024-11-05 21:44:13.060000000  \n",
      "1    -0.008477 2024-11-05 21:44:13.082632568  \n",
      "2    -0.014971 2024-11-05 21:44:13.105265381  \n",
      "3    -0.019679 2024-11-05 21:44:13.127897949  \n",
      "4    -0.011545 2024-11-05 21:44:13.150530518  \n",
      "Tahmin yaparken hata oluştu: An error occurred (ModelError) when calling the InvokeEndpoint operation: Received server error (500) from primary with message \"<!DOCTYPE HTML PUBLIC \"-//W3C//DTD HTML 3.2 Final//EN\">\n",
      "<title>500 Internal Server Error</title>\n",
      "<h1>Internal Server Error</h1>\n",
      "<p>The server encountered an internal error and was unable to complete your request. Either the server is overloaded or there is an error in the application.</p>\n",
      "\". See https://eu-central-1.console.aws.amazon.com/cloudwatch/home?region=eu-central-1#logEventViewer:group=/aws/sagemaker/Endpoints/Custom-sklearn-model2024-11-05-21-35-35 in account 692859911732 for more information.\n",
      "Toplanan veri sayısı: 1\n",
      "Toplanan veri sayısı: 2\n",
      "Toplanan veri sayısı: 3\n",
      "Toplanan veri sayısı: 4\n",
      "Toplanan veri sayısı: 5\n",
      "Toplanan veri sayısı: 6\n",
      "Toplanan veri sayısı: 7\n",
      "Toplanan veri sayısı: 8\n",
      "Toplanan veri sayısı: 9\n",
      "Toplanan veri sayısı: 10\n",
      "Toplanan veri sayısı: 11\n",
      "Toplanan veri sayısı: 12\n",
      "Toplanan veri sayısı: 13\n",
      "Toplanan veri sayısı: 14\n",
      "Toplanan veri sayısı: 15\n",
      "Toplanan veri sayısı: 16\n",
      "Toplanan veri sayısı: 17\n",
      "Toplanan veri sayısı: 18\n",
      "Toplanan veri sayısı: 19\n",
      "Toplanan veri sayısı: 20\n",
      "Toplanan veri sayısı: 21\n",
      "Toplanan veri sayısı: 22\n",
      "Toplanan veri sayısı: 23\n",
      "Toplanan veri sayısı: 24\n",
      "Toplanan veri sayısı: 25\n",
      "Toplanan veri sayısı: 26\n",
      "Toplanan veri sayısı: 27\n",
      "Toplanan veri sayısı: 28\n",
      "Toplanan veri sayısı: 29\n",
      "Toplanan veri sayısı: 30\n",
      "Toplanan veri sayısı: 31\n",
      "Toplanan veri sayısı: 32\n",
      "\n",
      "Interpolasyon Sonucu (50 Hz):\n",
      "   ax_filtered  ay_filtered  az_filtered  gx_filtered  gy_filtered  \\\n",
      "0    -0.960000    -0.720000    10.110000        -0.07          0.0   \n",
      "1    -0.990314    -0.713178    10.074594        -0.07          0.0   \n",
      "2    -1.009674    -0.744302    10.078125        -0.07          0.0   \n",
      "3    -1.008055    -0.783230    10.102702        -0.07          0.0   \n",
      "4    -0.991420    -0.780416    10.104907        -0.07          0.0   \n",
      "\n",
      "   gz_filtered                     timestamp  \n",
      "0    -0.020000 2024-11-05 21:44:14.338000000  \n",
      "1    -0.012221 2024-11-05 21:44:14.360122559  \n",
      "2    -0.008347 2024-11-05 21:44:14.382244873  \n",
      "3    -0.010839 2024-11-05 21:44:14.404367432  \n",
      "4    -0.017883 2024-11-05 21:44:14.426489746  \n",
      "Tahmin yaparken hata oluştu: An error occurred (ModelError) when calling the InvokeEndpoint operation: Received server error (500) from primary with message \"<!DOCTYPE HTML PUBLIC \"-//W3C//DTD HTML 3.2 Final//EN\">\n",
      "<title>500 Internal Server Error</title>\n",
      "<h1>Internal Server Error</h1>\n",
      "<p>The server encountered an internal error and was unable to complete your request. Either the server is overloaded or there is an error in the application.</p>\n",
      "\". See https://eu-central-1.console.aws.amazon.com/cloudwatch/home?region=eu-central-1#logEventViewer:group=/aws/sagemaker/Endpoints/Custom-sklearn-model2024-11-05-21-35-35 in account 692859911732 for more information.\n",
      "Toplanan veri sayısı: 1\n",
      "Toplanan veri sayısı: 2\n",
      "Toplanan veri sayısı: 3\n",
      "Toplanan veri sayısı: 4\n",
      "Toplanan veri sayısı: 5\n",
      "Toplanan veri sayısı: 6\n",
      "Toplanan veri sayısı: 7\n",
      "Toplanan veri sayısı: 8\n",
      "Toplanan veri sayısı: 9\n",
      "Toplanan veri sayısı: 10\n",
      "Toplanan veri sayısı: 11\n",
      "Toplanan veri sayısı: 12\n",
      "Toplanan veri sayısı: 13\n",
      "Toplanan veri sayısı: 14\n",
      "Toplanan veri sayısı: 15\n",
      "Toplanan veri sayısı: 16\n",
      "Toplanan veri sayısı: 17\n",
      "Toplanan veri sayısı: 18\n",
      "Toplanan veri sayısı: 19\n",
      "Toplanan veri sayısı: 20\n",
      "Toplanan veri sayısı: 21\n",
      "Toplanan veri sayısı: 22\n",
      "Toplanan veri sayısı: 23\n",
      "Toplanan veri sayısı: 24\n",
      "Toplanan veri sayısı: 25\n",
      "Toplanan veri sayısı: 26\n",
      "Toplanan veri sayısı: 27\n",
      "Toplanan veri sayısı: 28\n",
      "Toplanan veri sayısı: 29\n",
      "Toplanan veri sayısı: 30\n",
      "Toplanan veri sayısı: 31\n",
      "Toplanan veri sayısı: 32\n",
      "\n",
      "Interpolasyon Sonucu (50 Hz):\n",
      "   ax_filtered  ay_filtered  az_filtered  gx_filtered  gy_filtered  \\\n",
      "0    -1.060000    -0.730000    10.130000        -0.07          0.0   \n",
      "1    -1.011911    -0.732880    10.143617        -0.07          0.0   \n",
      "2    -1.063593    -0.721821    10.091049        -0.07          0.0   \n",
      "3    -1.118107    -0.709856    10.028314        -0.07          0.0   \n",
      "4    -1.026435    -0.722216    10.055930        -0.07          0.0   \n",
      "\n",
      "   gz_filtered                     timestamp  \n",
      "0    -0.010000 2024-11-05 21:44:15.578000000  \n",
      "1    -0.010028 2024-11-05 21:44:15.599265381  \n",
      "2    -0.009931 2024-11-05 21:44:15.620530518  \n",
      "3    -0.010034 2024-11-05 21:44:15.641795898  \n",
      "4    -0.010281 2024-11-05 21:44:15.663061279  \n",
      "Tahmin yaparken hata oluştu: An error occurred (ModelError) when calling the InvokeEndpoint operation: Received server error (500) from primary with message \"<!DOCTYPE HTML PUBLIC \"-//W3C//DTD HTML 3.2 Final//EN\">\n",
      "<title>500 Internal Server Error</title>\n",
      "<h1>Internal Server Error</h1>\n",
      "<p>The server encountered an internal error and was unable to complete your request. Either the server is overloaded or there is an error in the application.</p>\n",
      "\". See https://eu-central-1.console.aws.amazon.com/cloudwatch/home?region=eu-central-1#logEventViewer:group=/aws/sagemaker/Endpoints/Custom-sklearn-model2024-11-05-21-35-35 in account 692859911732 for more information.\n",
      "Toplanan veri sayısı: 1\n",
      "Toplanan veri sayısı: 2\n",
      "Toplanan veri sayısı: 3\n",
      "Toplanan veri sayısı: 4\n",
      "Toplanan veri sayısı: 5\n",
      "Toplanan veri sayısı: 6\n",
      "Toplanan veri sayısı: 7\n",
      "Toplanan veri sayısı: 8\n",
      "Toplanan veri sayısı: 9\n",
      "Toplanan veri sayısı: 10\n",
      "Toplanan veri sayısı: 11\n",
      "Toplanan veri sayısı: 12\n",
      "Toplanan veri sayısı: 13\n",
      "Toplanan veri sayısı: 14\n",
      "Toplanan veri sayısı: 15\n",
      "Toplanan veri sayısı: 16\n",
      "Toplanan veri sayısı: 17\n",
      "Toplanan veri sayısı: 18\n",
      "Toplanan veri sayısı: 19\n",
      "Toplanan veri sayısı: 20\n",
      "Toplanan veri sayısı: 21\n",
      "Toplanan veri sayısı: 22\n",
      "Toplanan veri sayısı: 23\n",
      "Toplanan veri sayısı: 24\n",
      "Toplanan veri sayısı: 25\n",
      "Toplanan veri sayısı: 26\n",
      "Toplanan veri sayısı: 27\n",
      "Toplanan veri sayısı: 28\n",
      "Toplanan veri sayısı: 29\n"
     ]
    }
   ],
   "source": [
    "import json\n",
    "import time\n",
    "import numpy as np\n",
    "import pandas as pd\n",
    "from scipy.interpolate import CubicSpline\n",
    "import paho.mqtt.client as mqtt\n",
    "from sagemaker.predictor import Predictor\n",
    "from sagemaker.serializers import JSONSerializer\n",
    "from sagemaker.deserializers import JSONDeserializer\n",
    "\n",
    "# SageMaker endpoint ayarları\n",
    "\n",
    "class RealTimeProcessor:\n",
    "    def __init__(self, desired_freq=32, interpolation_freq=50):\n",
    "        self.desired_freq = desired_freq   \n",
    "        self.interpolation_freq = interpolation_freq / 1000   \n",
    "        self.data_buffer = []\n",
    "        self.filtered_data = []\n",
    "        self.interpolated_data_list = []\n",
    "\n",
    "    def select_32_samples(self, data_list):\n",
    "        data_list = sorted(data_list, key=lambda x: x['timestamp'])\n",
    "        df = pd.DataFrame(data_list)\n",
    "        df = df.drop_duplicates(subset=['timestamp'])  \n",
    "        if len(df) >= self.desired_freq:\n",
    "            indices = np.linspace(0, len(df) - 1, self.desired_freq, dtype=int)\n",
    "            selected_data = df.iloc[indices].to_dict('records')\n",
    "        else:\n",
    "            selected_data = df.to_dict('records')\n",
    "        return selected_data\n",
    "\n",
    "    def process_data(self):\n",
    "        selected_data = self.select_32_samples(self.data_buffer)\n",
    "        df = pd.DataFrame(selected_data)\n",
    "        df = df.sort_values(by='timestamp')\n",
    "        \n",
    "        self.filtered_data = self.apply_ekf(df)\n",
    "        self.interpolated_data = self.interpolate_data(self.filtered_data)\n",
    "\n",
    "        self.predict_data(self.interpolated_data)\n",
    "        self.data_buffer.clear()\n",
    "\n",
    "    def apply_ekf(self, df):\n",
    "        filtered_data = []\n",
    "        for index, row in df.iterrows():\n",
    "            z = np.array([row['ax'], row['ay'], row['az'], row['gx'], row['gy'], row['gz']])\n",
    "            x_est = self.ekf_filter(z)\n",
    "            filtered_data.append({\n",
    "                'timestamp': row['timestamp'],\n",
    "                'ax_filtered': x_est[0],\n",
    "                'ay_filtered': x_est[1],\n",
    "                'az_filtered': x_est[2],\n",
    "                'gx_filtered': x_est[3],\n",
    "                'gy_filtered': x_est[4],\n",
    "                'gz_filtered': x_est[5]\n",
    "            })\n",
    "        return pd.DataFrame(filtered_data)\n",
    "\n",
    "    def ekf_filter(self, z):\n",
    "        x_est = z  \n",
    "        return x_est\n",
    "\n",
    "    def interpolate_data(self, df):\n",
    "        df['timestamp'] = pd.to_datetime(df['timestamp'], unit='ms')\n",
    "        timestamps_unix = df['timestamp'].astype(np.int64) // 10**6  \n",
    "        values = df[['ax_filtered', 'ay_filtered', 'az_filtered', 'gx_filtered', 'gy_filtered', 'gz_filtered']].values\n",
    "        new_timestamps_unix = np.linspace(timestamps_unix.min(), timestamps_unix.max(), 50)\n",
    "    \n",
    "        try:\n",
    "            cs = CubicSpline(timestamps_unix, values, axis=0, bc_type='natural')\n",
    "            new_values = cs(new_timestamps_unix)\n",
    "        except Exception as e:\n",
    "            print(f\"Interpolasyon hatası: {e}\")\n",
    "            return pd.DataFrame()\n",
    "    \n",
    "        interpolated_df = pd.DataFrame(new_values, columns=['ax_filtered', 'ay_filtered', 'az_filtered', 'gx_filtered', 'gy_filtered', 'gz_filtered'])\n",
    "        interpolated_df['timestamp'] = pd.to_datetime(new_timestamps_unix, unit='ms')\n",
    "    \n",
    "        print(\"\\nInterpolasyon Sonucu (50 Hz):\")\n",
    "        print(interpolated_df.head())\n",
    "    \n",
    "        self.interpolated_data_list.append(interpolated_df)\n",
    "    \n",
    "        return interpolated_df\n",
    "\n",
    "    def predict_data(self, df):\n",
    "        if len(df) >= 50:\n",
    "            features = df[['ax_filtered', 'ay_filtered', 'az_filtered', 'gx_filtered', 'gy_filtered', 'gz_filtered']].values.flatten().reshape(1, -1)\n",
    "            payload = json.dumps(features.tolist())  # Veriyi JSON formatına dönüştür\n",
    "            \n",
    "            try:\n",
    "                # SageMaker endpoint'e tahmin talebinde bulun\n",
    "                response = predictor.predict(payload)\n",
    "                prediction = response['predictions'] if 'predictions' in response else response\n",
    "                print(\"Gerçek Zamanlı Tahmin Sonucu:\", prediction[0])\n",
    "                \n",
    "            except Exception as e:\n",
    "                print(\"Tahmin yaparken hata oluştu:\", e)\n",
    "        else:\n",
    "            print(\"50 örnek toplanamadı, tahmin yapılmıyor.\")\n",
    "            print(len(df))\n",
    "\n",
    "    def add_data(self, data):\n",
    "        self.data_buffer.append(data)\n",
    "        print(f\"Toplanan veri sayısı: {len(self.data_buffer)}\")  \n",
    "        if len(self.data_buffer) >= self.desired_freq:\n",
    "            self.process_data()\n",
    "        \n",
    "        time.sleep(0.03)\n",
    "\n",
    "mqtt_broker = \"192.168.108.135\"\n",
    "mqtt_port = 1883\n",
    "topic = \"esp32_4/data\"\n",
    "processor = RealTimeProcessor()\n",
    "\n",
    "def on_message(client, userdata, message):\n",
    "    payload = message.payload.decode('utf-8')\n",
    "    data = json.loads(payload)\n",
    "    data['timestamp'] = time.time() * 1000  \n",
    "    processor.add_data(data)\n",
    "\n",
    "client = mqtt.Client()\n",
    "client.on_message = on_message\n",
    "client.connect(mqtt_broker, mqtt_port, 60)\n",
    "client.subscribe(topic)\n",
    "client.loop_start()\n",
    "\n",
    "try:\n",
    "    while True:\n",
    "        time.sleep(1)\n",
    "except KeyboardInterrupt:\n",
    "    client.loop_stop()\n",
    "    client.disconnect()\n"
   ]
  },
  {
   "cell_type": "code",
   "execution_count": 85,
   "metadata": {},
   "outputs": [
    {
     "name": "stdout",
     "output_type": "stream",
     "text": [
      "Tahmin yaparken hata oluştu: An error occurred (ModelError) when calling the InvokeEndpoint operation: Received server error (500) from primary with message \"<!DOCTYPE HTML PUBLIC \"-//W3C//DTD HTML 3.2 Final//EN\">\n",
      "<title>500 Internal Server Error</title>\n",
      "<h1>Internal Server Error</h1>\n",
      "<p>The server encountered an internal error and was unable to complete your request. Either the server is overloaded or there is an error in the application.</p>\n",
      "\". See https://eu-central-1.console.aws.amazon.com/cloudwatch/home?region=eu-central-1#logEventViewer:group=/aws/sagemaker/Endpoints/Custom-sklearn-model2024-11-05-21-35-35 in account 692859911732 for more information.\n"
     ]
    }
   ],
   "source": [
    "import numpy as np\n",
    "from sagemaker.predictor import Predictor\n",
    "from sagemaker.serializers import JSONSerializer\n",
    "from sagemaker.deserializers import JSONDeserializer\n",
    "\n",
    " \n",
    "# Test verisi (örneğin, modelin beklediği şekil ile eşleştiğinden emin olun)\n",
    "test_data = np.random.rand(1, 300).tolist()  # Örneğin, 1x300 boyutunda veri\n",
    "\n",
    "# Tahmin yapın\n",
    "try:\n",
    "    response = predictor.predict(test_data)\n",
    "    print(\"Tahmin Sonucu:\", response)\n",
    "except Exception as e:\n",
    "    print(\"Tahmin yaparken hata oluştu:\", e)\n"
   ]
  },
  {
   "cell_type": "code",
   "execution_count": null,
   "metadata": {},
   "outputs": [],
   "source": []
  },
  {
   "cell_type": "code",
   "execution_count": null,
   "metadata": {},
   "outputs": [],
   "source": []
  },
  {
   "cell_type": "markdown",
   "metadata": {},
   "source": []
  },
  {
   "cell_type": "code",
   "execution_count": null,
   "metadata": {},
   "outputs": [],
   "source": []
  },
  {
   "cell_type": "code",
   "execution_count": null,
   "metadata": {},
   "outputs": [],
   "source": []
  },
  {
   "cell_type": "code",
   "execution_count": null,
   "metadata": {},
   "outputs": [],
   "source": []
  },
  {
   "cell_type": "code",
   "execution_count": null,
   "metadata": {},
   "outputs": [],
   "source": []
  },
  {
   "cell_type": "code",
   "execution_count": null,
   "metadata": {},
   "outputs": [],
   "source": []
  },
  {
   "cell_type": "code",
   "execution_count": null,
   "metadata": {},
   "outputs": [],
   "source": []
  },
  {
   "cell_type": "code",
   "execution_count": null,
   "metadata": {},
   "outputs": [],
   "source": []
  },
  {
   "cell_type": "code",
   "execution_count": null,
   "metadata": {},
   "outputs": [],
   "source": [
    "from sagemaker.predictor import Predictor\n",
    "from sagemaker.serializers import JSONSerializer\n",
    "from sagemaker.deserializers import JSONDeserializer\n",
    "import numpy as np\n",
    "\n",
    "# Endpoint adını belirleyin\n",
    "endpoint_name = \"Custom-sklearn-model2024-11-01-15-19-23\"\n",
    "\n",
    "# Predictor nesnesini oluşturun\n",
    "predictor = Predictor(\n",
    "    endpoint_name=endpoint_name,\n",
    "    serializer=JSONSerializer(),   # Veriyi JSON formatına dönüştürür\n",
    "    deserializer=JSONDeserializer() # Yanıtı JSON formatında okur\n",
    ")\n",
    "\n",
    "# Giriş verisi (Örneğin, modelin beklediği özellik sayısına göre 300 adet değer)\n",
    "input_data = np.random.rand(1, 300).tolist()  # 1x300 boyutunda örnek veri\n",
    "\n",
    "# Tahmin çağrısı yapın\n",
    "result = predictor.predict(input_data)\n",
    "\n",
    "# Sonucu yazdırın\n",
    "print(\"Tahmin Sonucu:\", result)\n"
   ]
  },
  {
   "cell_type": "code",
   "execution_count": null,
   "metadata": {},
   "outputs": [],
   "source": []
  },
  {
   "cell_type": "code",
   "execution_count": null,
   "metadata": {},
   "outputs": [],
   "source": []
  },
  {
   "cell_type": "code",
   "execution_count": null,
   "metadata": {},
   "outputs": [],
   "source": []
  },
  {
   "cell_type": "code",
   "execution_count": null,
   "metadata": {},
   "outputs": [],
   "source": []
  },
  {
   "cell_type": "code",
   "execution_count": null,
   "metadata": {},
   "outputs": [],
   "source": []
  },
  {
   "cell_type": "code",
   "execution_count": null,
   "metadata": {},
   "outputs": [],
   "source": []
  },
  {
   "cell_type": "code",
   "execution_count": null,
   "metadata": {},
   "outputs": [],
   "source": []
  },
  {
   "cell_type": "code",
   "execution_count": null,
   "metadata": {},
   "outputs": [],
   "source": []
  },
  {
   "cell_type": "markdown",
   "metadata": {},
   "source": [
    "X=df[filtered_list]\n",
    "y=df[\"Class Name\"]"
   ]
  },
  {
   "cell_type": "markdown",
   "metadata": {},
   "source": [
    "y.head()"
   ]
  },
  {
   "cell_type": "markdown",
   "metadata": {},
   "source": [
    "X.head()"
   ]
  },
  {
   "cell_type": "markdown",
   "metadata": {},
   "source": [
    "# wındow sequence "
   ]
  },
  {
   "cell_type": "code",
   "execution_count": null,
   "metadata": {},
   "outputs": [],
   "source": [
    "df"
   ]
  },
  {
   "cell_type": "code",
   "execution_count": null,
   "metadata": {},
   "outputs": [],
   "source": []
  },
  {
   "cell_type": "code",
   "execution_count": null,
   "metadata": {},
   "outputs": [],
   "source": []
  },
  {
   "cell_type": "markdown",
   "metadata": {},
   "source": []
  },
  {
   "cell_type": "markdown",
   "metadata": {},
   "source": []
  },
  {
   "cell_type": "markdown",
   "metadata": {},
   "source": [
    "# modeli burada eğitip sagemaker ile sadece dağıtım yapabiliriz :"
   ]
  },
  {
   "cell_type": "code",
   "execution_count": null,
   "metadata": {},
   "outputs": [],
   "source": [
    "import joblib\n",
    "\n",
    "# Modeli eğitme (zaten yaptığınız adımları içeriyor)\n",
    "from sklearn.ensemble import RandomForestClassifier\n",
    "\n",
    "model = RandomForestClassifier(n_estimators=100, random_state=0)\n",
    "model.fit(X_train, y_train)\n",
    "\n",
    "# Eğitilmiş modeli kaydetme\n",
    "joblib.dump(model, \"model.joblib\")\n"
   ]
  },
  {
   "cell_type": "code",
   "execution_count": null,
   "metadata": {},
   "outputs": [],
   "source": [
    "import boto3\n",
    "import sagemaker\n",
    "from sagemaker.sklearn.model import SKLearnModel\n",
    "from time import gmtime, strftime\n",
    "\n",
    "# SageMaker oturumunu başlatma\n",
    "sagemaker_session = sagemaker.Session()\n",
    "role = \"YOUR_SAGEMAKER_ROLE\"  # SageMaker IAM rolünüzü belirtin\n",
    "\n",
    "# Model dosyasını S3'e yükleyin\n",
    "bucket = sagemaker_session.default_bucket()\n",
    "prefix = 'random-forest-endpoint'\n",
    "model_path = f\"s3://{bucket}/{prefix}/model.joblib\"\n",
    "sagemaker_session.upload_data(\"model.joblib\", bucket=bucket, key_prefix=prefix)\n",
    "\n",
    "# Endpoint için model objesini oluşturun\n",
    "sklearn_model = SKLearnModel(\n",
    "    model_data=model_path,\n",
    "    role=role,\n",
    "    entry_point=\"script.py\",  # Modeli yüklemek ve tahmin yapmak için gerekli kodları içeren script\n",
    "    framework_version=\"0.23-1\"  # sklearn versiyonu\n",
    ")\n",
    "\n",
    "# Endpoint adı\n",
    "endpoint_name = \"random-forest-endpoint-\" + strftime(\"%Y-%m-%d-%H-%M-%S\", gmtime())\n",
    "\n",
    "# Endpoint'i oluşturma\n",
    "predictor = sklearn_model.deploy(\n",
    "    initial_instance_count=1,\n",
    "    instance_type=\"ml.m5.large\",\n",
    "    endpoint_name=endpoint_name\n",
    ")\n"
   ]
  },
  {
   "cell_type": "code",
   "execution_count": null,
   "metadata": {},
   "outputs": [],
   "source": [
    "from sagemaker.predictor import Predictor\n",
    "from sagemaker.serializers import JSONSerializer\n",
    "from sagemaker.deserializers import JSONDeserializer\n",
    "import numpy as np\n",
    "\n",
    "predictor = Predictor(\n",
    "    endpoint_name=endpoint_name,\n",
    "    serializer=JSONSerializer(),\n",
    "    deserializer=JSONDeserializer()\n",
    ")\n",
    "\n",
    "# Tahmin için örnek veri seçme\n",
    "sample_data = X_test.iloc[0].tolist()  # 300 özellikli bir örnek\n",
    "\n",
    "# JSON formatına dönüştürüp tahmin istemi gönderme\n",
    "result = predictor.predict([sample_data])\n",
    "print(\"Tahmin Sonucu:\", result)\n"
   ]
  },
  {
   "cell_type": "code",
   "execution_count": null,
   "metadata": {},
   "outputs": [],
   "source": []
  },
  {
   "cell_type": "code",
   "execution_count": null,
   "metadata": {},
   "outputs": [],
   "source": []
  },
  {
   "cell_type": "code",
   "execution_count": null,
   "metadata": {},
   "outputs": [],
   "source": []
  },
  {
   "cell_type": "code",
   "execution_count": null,
   "metadata": {},
   "outputs": [],
   "source": []
  }
 ],
 "metadata": {
  "kernelspec": {
   "display_name": "Python 3",
   "language": "python",
   "name": "python3"
  },
  "language_info": {
   "codemirror_mode": {
    "name": "ipython",
    "version": 3
   },
   "file_extension": ".py",
   "mimetype": "text/x-python",
   "name": "python",
   "nbconvert_exporter": "python",
   "pygments_lexer": "ipython3",
   "version": "3.10.0"
  }
 },
 "nbformat": 4,
 "nbformat_minor": 2
}
