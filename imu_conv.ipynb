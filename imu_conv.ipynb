{
 "cells": [
  {
   "cell_type": "code",
   "execution_count": 6,
   "metadata": {},
   "outputs": [],
   "source": [
    "import pandas as pd\n",
    "import numpy as np\n",
    "import matplotlib.pyplot as plt\n",
    "from sklearn.model_selection import train_test_split\n",
    "from sklearn.preprocessing import StandardScaler,MinMaxScaler,LabelEncoder\n",
    "import torch\n",
    "from torch.utils.data import Dataset, DataLoader, Subset, random_split\n",
    "from torchvision import transforms\n",
    "import torch.optim as optim\n",
    "import torch.nn as nn\n",
    "import torch.nn.functional as f\n",
    "from PIL import Image\n",
    "import os\n",
    "from sklearn import metrics\n",
    "import glob"
   ]
  },
  {
   "cell_type": "code",
   "execution_count": 7,
   "metadata": {},
   "outputs": [],
   "source": [
    "df=pd.read_csv(\"data_imu_birlestirilmis.csv\")"
   ]
  },
  {
   "cell_type": "code",
   "execution_count": 8,
   "metadata": {},
   "outputs": [],
   "source": [
    "label_encoder=LabelEncoder()"
   ]
  },
  {
   "cell_type": "code",
   "execution_count": 9,
   "metadata": {},
   "outputs": [],
   "source": [
    "df[\"Class Name\"]=label_encoder.fit_transform(df[\"Class Name\"])"
   ]
  },
  {
   "cell_type": "code",
   "execution_count": 10,
   "metadata": {},
   "outputs": [],
   "source": [
    "dataframe=df"
   ]
  },
  {
   "cell_type": "code",
   "execution_count": 11,
   "metadata": {},
   "outputs": [
    {
     "name": "stdout",
     "output_type": "stream",
     "text": [
      "<class 'pandas.core.frame.DataFrame'>\n",
      "RangeIndex: 51650 entries, 0 to 51649\n",
      "Data columns (total 9 columns):\n",
      " #   Column      Non-Null Count  Dtype  \n",
      "---  ------      --------------  -----  \n",
      " 0   Unnamed: 0  51650 non-null  int64  \n",
      " 1   ax          51650 non-null  float64\n",
      " 2   ay          51650 non-null  float64\n",
      " 3   az          51650 non-null  float64\n",
      " 4   gx          51650 non-null  float64\n",
      " 5   gy          51650 non-null  float64\n",
      " 6   gz          51650 non-null  float64\n",
      " 7   timestamp   51650 non-null  object \n",
      " 8   Class Name  51650 non-null  int32  \n",
      "dtypes: float64(6), int32(1), int64(1), object(1)\n",
      "memory usage: 3.3+ MB\n"
     ]
    }
   ],
   "source": [
    "dataframe.info()"
   ]
  },
  {
   "cell_type": "markdown",
   "metadata": {},
   "source": [
    "import torch\n",
    "from torch.utils.data import Dataset\n",
    "from sklearn.preprocessing import StandardScaler\n",
    "\n",
    "class CustomDataset(Dataset):\n",
    "    def __init__(self, dataframe, sequence_length=25):\n",
    "        self.dataframe = dataframe\n",
    "        self.features = [\"ax\", \"ay\", \"az\", \"gx\", \"gy\", \"gz\"]\n",
    "        self.labels = \"Class Name\"\n",
    "        self.sequence_length = sequence_length\n",
    "\n",
    "        # Veriyi ölçeklendir\n",
    "        self.scaler = StandardScaler()\n",
    "        self.dataframe[self.features] = self.scaler.fit_transform(self.dataframe[self.features])\n",
    "\n",
    "    def __len__(self):\n",
    "        return len(self.dataframe) - self.sequence_length + 1\n",
    "\n",
    "    def __getitem__(self, idx):\n",
    "        # Özellik dizisini al\n",
    "        features_sequence = self.dataframe.loc[idx:idx + self.sequence_length - 1, self.features].values.astype(float)\n",
    "        \n",
    "        # Etiketi al\n",
    "        label = self.dataframe.loc[idx + self.sequence_length - 1, self.labels]\n",
    "        \n",
    "        # Özellikleri tensor'a dönüştür ve 3D şekil ver\n",
    "        features_tensor = torch.tensor(features_sequence, dtype=torch.float32).unsqueeze(0)  # (1, sequence_length, features_count)\n",
    "        label_tensor = torch.tensor(label, dtype=torch.long)\n",
    "\n",
    "        return features_tensor, label_tensor\n"
   ]
  },
  {
   "cell_type": "code",
   "execution_count": 13,
   "metadata": {},
   "outputs": [],
   "source": [
    "import torch\n",
    "from torch.utils.data import Dataset\n",
    "from sklearn.preprocessing import StandardScaler"
   ]
  },
  {
   "cell_type": "code",
   "execution_count": 18,
   "metadata": {},
   "outputs": [],
   "source": [
    "class CNNDataset(Dataset):\n",
    "    \n",
    "    def __init__ (self,dataframe,sequence_length=25):\n",
    "        self.dataframe=dataframe\n",
    "        self.features=[\"ax\",\"ay\",\"az\",\"gx\",\"gy\",\"gz\"]\n",
    "        self.labels=\"Class Name\"\n",
    "        self.sequence_length=sequence_length\n",
    "\n",
    "        self.scaler=StandardScaler()\n",
    "        self.dataframe[self.features]=self.scaler.fit_transform(self.dataframe[self.features])\n",
    "    \n",
    "    def __len__(self): # kaç adet örnek ile veriyi örnekleyebileceğimiz bu şekilde hesaplıyoruz.\n",
    "        return len(self.dataframe)-self.sequence_length +1\n",
    "    \n",
    "    def __getitem__(self,idx):\n",
    "\n",
    "        \n",
    "        features_sequence = self.dataframe.loc[idx:idx + self.sequence_length - 1, self.features].values.astype(float)\n",
    "        \n",
    "        \n",
    "        label = self.dataframe.loc[idx + self.sequence_length - 1, self.labels]\n",
    "        \n",
    "        # Özellikleri tensöre dönüştürdükten sonra konvolüsyon için 3d ' ye çeviriyoruz\n",
    "        features_tensor = torch.tensor(features_sequence, dtype=torch.float32).unsqueeze(0)  # (1, sequence_length, features_count)\n",
    "        label_tensor = torch.tensor(label, dtype=torch.long)\n",
    "\n",
    "        return features_tensor, label_tensor\n",
    "\n",
    "    "
   ]
  },
  {
   "cell_type": "code",
   "execution_count": null,
   "metadata": {},
   "outputs": [],
   "source": []
  },
  {
   "cell_type": "code",
   "execution_count": 19,
   "metadata": {},
   "outputs": [],
   "source": [
    "dataset = CNNDataset(dataframe)\n",
    "\n",
    " \n",
    "labels = dataset.dataframe['Class Name'].values[:len(dataset)]   \n",
    "\n",
    " \n",
    "indices = list(range(len(dataset)))\n",
    "\n",
    " \n",
    "train_indices, test_indices = train_test_split(indices, test_size=0.2, stratify=labels)\n",
    " \n",
    "train_dataset = torch.utils.data.Subset(dataset, train_indices)\n",
    "test_dataset = torch.utils.data.Subset(dataset, test_indices)\n",
    "\n",
    " \n",
    "train_loader = DataLoader(train_dataset, batch_size=32, shuffle=True)\n",
    "test_loader = DataLoader(test_dataset, batch_size=32, shuffle=False)"
   ]
  },
  {
   "cell_type": "code",
   "execution_count": 30,
   "metadata": {},
   "outputs": [
    {
     "name": "stdout",
     "output_type": "stream",
     "text": [
      "torch.Size([32, 1, 25, 6])\n",
      "torch.Size([32])\n",
      "torch.Size([32, 1, 25, 6])\n",
      "torch.Size([32])\n",
      "torch.Size([32, 1, 25, 6])\n",
      "torch.Size([32])\n",
      "torch.Size([32, 1, 25, 6])\n",
      "torch.Size([32])\n",
      "torch.Size([32, 1, 25, 6])\n",
      "torch.Size([32])\n",
      "torch.Size([32, 1, 25, 6])\n",
      "torch.Size([32])\n",
      "torch.Size([32, 1, 25, 6])\n",
      "torch.Size([32])\n",
      "torch.Size([32, 1, 25, 6])\n",
      "torch.Size([32])\n",
      "torch.Size([32, 1, 25, 6])\n",
      "torch.Size([32])\n",
      "torch.Size([32, 1, 25, 6])\n",
      "torch.Size([32])\n",
      "torch.Size([32, 1, 25, 6])\n",
      "torch.Size([32])\n",
      "torch.Size([32, 1, 25, 6])\n",
      "torch.Size([32])\n",
      "torch.Size([32, 1, 25, 6])\n",
      "torch.Size([32])\n",
      "torch.Size([32, 1, 25, 6])\n",
      "torch.Size([32])\n",
      "torch.Size([32, 1, 25, 6])\n",
      "torch.Size([32])\n",
      "torch.Size([32, 1, 25, 6])\n",
      "torch.Size([32])\n",
      "torch.Size([32, 1, 25, 6])\n",
      "torch.Size([32])\n",
      "torch.Size([32, 1, 25, 6])\n",
      "torch.Size([32])\n",
      "torch.Size([32, 1, 25, 6])\n",
      "torch.Size([32])\n",
      "torch.Size([32, 1, 25, 6])\n",
      "torch.Size([32])\n",
      "torch.Size([32, 1, 25, 6])\n",
      "torch.Size([32])\n",
      "torch.Size([32, 1, 25, 6])\n",
      "torch.Size([32])\n",
      "torch.Size([32, 1, 25, 6])\n",
      "torch.Size([32])\n",
      "torch.Size([32, 1, 25, 6])\n",
      "torch.Size([32])\n",
      "torch.Size([32, 1, 25, 6])\n",
      "torch.Size([32])\n",
      "torch.Size([32, 1, 25, 6])\n",
      "torch.Size([32])\n",
      "torch.Size([32, 1, 25, 6])\n",
      "torch.Size([32])\n",
      "torch.Size([32, 1, 25, 6])\n",
      "torch.Size([32])\n",
      "torch.Size([32, 1, 25, 6])\n",
      "torch.Size([32])\n",
      "torch.Size([32, 1, 25, 6])\n",
      "torch.Size([32])\n",
      "torch.Size([32, 1, 25, 6])\n",
      "torch.Size([32])\n",
      "torch.Size([32, 1, 25, 6])\n",
      "torch.Size([32])\n",
      "torch.Size([32, 1, 25, 6])\n",
      "torch.Size([32])\n",
      "torch.Size([32, 1, 25, 6])\n",
      "torch.Size([32])\n",
      "torch.Size([32, 1, 25, 6])\n",
      "torch.Size([32])\n",
      "torch.Size([32, 1, 25, 6])\n",
      "torch.Size([32])\n",
      "torch.Size([32, 1, 25, 6])\n",
      "torch.Size([32])\n",
      "torch.Size([32, 1, 25, 6])\n",
      "torch.Size([32])\n",
      "torch.Size([32, 1, 25, 6])\n",
      "torch.Size([32])\n",
      "torch.Size([32, 1, 25, 6])\n",
      "torch.Size([32])\n",
      "torch.Size([32, 1, 25, 6])\n",
      "torch.Size([32])\n",
      "torch.Size([32, 1, 25, 6])\n",
      "torch.Size([32])\n",
      "torch.Size([32, 1, 25, 6])\n",
      "torch.Size([32])\n",
      "torch.Size([32, 1, 25, 6])\n",
      "torch.Size([32])\n",
      "torch.Size([32, 1, 25, 6])\n",
      "torch.Size([32])\n",
      "torch.Size([32, 1, 25, 6])\n",
      "torch.Size([32])\n",
      "torch.Size([32, 1, 25, 6])\n",
      "torch.Size([32])\n",
      "torch.Size([32, 1, 25, 6])\n",
      "torch.Size([32])\n",
      "torch.Size([32, 1, 25, 6])\n",
      "torch.Size([32])\n",
      "torch.Size([32, 1, 25, 6])\n",
      "torch.Size([32])\n",
      "torch.Size([32, 1, 25, 6])\n",
      "torch.Size([32])\n",
      "torch.Size([32, 1, 25, 6])\n",
      "torch.Size([32])\n",
      "torch.Size([32, 1, 25, 6])\n",
      "torch.Size([32])\n",
      "torch.Size([32, 1, 25, 6])\n",
      "torch.Size([32])\n",
      "torch.Size([32, 1, 25, 6])\n",
      "torch.Size([32])\n",
      "torch.Size([32, 1, 25, 6])\n",
      "torch.Size([32])\n",
      "torch.Size([32, 1, 25, 6])\n",
      "torch.Size([32])\n",
      "torch.Size([32, 1, 25, 6])\n",
      "torch.Size([32])\n",
      "torch.Size([32, 1, 25, 6])\n",
      "torch.Size([32])\n",
      "torch.Size([32, 1, 25, 6])\n",
      "torch.Size([32])\n",
      "torch.Size([32, 1, 25, 6])\n",
      "torch.Size([32])\n",
      "torch.Size([32, 1, 25, 6])\n",
      "torch.Size([32])\n",
      "torch.Size([32, 1, 25, 6])\n",
      "torch.Size([32])\n",
      "torch.Size([32, 1, 25, 6])\n",
      "torch.Size([32])\n",
      "torch.Size([32, 1, 25, 6])\n",
      "torch.Size([32])\n",
      "torch.Size([32, 1, 25, 6])\n",
      "torch.Size([32])\n",
      "torch.Size([32, 1, 25, 6])\n",
      "torch.Size([32])\n",
      "torch.Size([32, 1, 25, 6])\n",
      "torch.Size([32])\n",
      "torch.Size([32, 1, 25, 6])\n",
      "torch.Size([32])\n",
      "torch.Size([32, 1, 25, 6])\n",
      "torch.Size([32])\n",
      "torch.Size([32, 1, 25, 6])\n",
      "torch.Size([32])\n",
      "torch.Size([32, 1, 25, 6])\n",
      "torch.Size([32])\n",
      "torch.Size([32, 1, 25, 6])\n",
      "torch.Size([32])\n"
     ]
    },
    {
     "ename": "KeyboardInterrupt",
     "evalue": "",
     "output_type": "error",
     "traceback": [
      "\u001b[1;31m---------------------------------------------------------------------------\u001b[0m",
      "\u001b[1;31mKeyboardInterrupt\u001b[0m                         Traceback (most recent call last)",
      "Cell \u001b[1;32mIn[30], line 1\u001b[0m\n\u001b[1;32m----> 1\u001b[0m \u001b[38;5;28;01mfor\u001b[39;00m x,y  \u001b[38;5;129;01min\u001b[39;00m train_loader:\n\u001b[0;32m      2\u001b[0m     \u001b[38;5;28mprint\u001b[39m(x\u001b[38;5;241m.\u001b[39mshape)\n\u001b[0;32m      3\u001b[0m     \u001b[38;5;28mprint\u001b[39m(y\u001b[38;5;241m.\u001b[39mshape)\n",
      "File \u001b[1;32mc:\\Users\\ninja\\AppData\\Local\\Programs\\Python\\Python39\\lib\\site-packages\\torch\\utils\\data\\dataloader.py:630\u001b[0m, in \u001b[0;36m_BaseDataLoaderIter.__next__\u001b[1;34m(self)\u001b[0m\n\u001b[0;32m    627\u001b[0m \u001b[38;5;28;01mif\u001b[39;00m \u001b[38;5;28mself\u001b[39m\u001b[38;5;241m.\u001b[39m_sampler_iter \u001b[38;5;129;01mis\u001b[39;00m \u001b[38;5;28;01mNone\u001b[39;00m:\n\u001b[0;32m    628\u001b[0m     \u001b[38;5;66;03m# TODO(https://github.com/pytorch/pytorch/issues/76750)\u001b[39;00m\n\u001b[0;32m    629\u001b[0m     \u001b[38;5;28mself\u001b[39m\u001b[38;5;241m.\u001b[39m_reset()  \u001b[38;5;66;03m# type: ignore[call-arg]\u001b[39;00m\n\u001b[1;32m--> 630\u001b[0m data \u001b[38;5;241m=\u001b[39m \u001b[38;5;28;43mself\u001b[39;49m\u001b[38;5;241;43m.\u001b[39;49m\u001b[43m_next_data\u001b[49m\u001b[43m(\u001b[49m\u001b[43m)\u001b[49m\n\u001b[0;32m    631\u001b[0m \u001b[38;5;28mself\u001b[39m\u001b[38;5;241m.\u001b[39m_num_yielded \u001b[38;5;241m+\u001b[39m\u001b[38;5;241m=\u001b[39m \u001b[38;5;241m1\u001b[39m\n\u001b[0;32m    632\u001b[0m \u001b[38;5;28;01mif\u001b[39;00m \u001b[38;5;28mself\u001b[39m\u001b[38;5;241m.\u001b[39m_dataset_kind \u001b[38;5;241m==\u001b[39m _DatasetKind\u001b[38;5;241m.\u001b[39mIterable \u001b[38;5;129;01mand\u001b[39;00m \\\n\u001b[0;32m    633\u001b[0m         \u001b[38;5;28mself\u001b[39m\u001b[38;5;241m.\u001b[39m_IterableDataset_len_called \u001b[38;5;129;01mis\u001b[39;00m \u001b[38;5;129;01mnot\u001b[39;00m \u001b[38;5;28;01mNone\u001b[39;00m \u001b[38;5;129;01mand\u001b[39;00m \\\n\u001b[0;32m    634\u001b[0m         \u001b[38;5;28mself\u001b[39m\u001b[38;5;241m.\u001b[39m_num_yielded \u001b[38;5;241m>\u001b[39m \u001b[38;5;28mself\u001b[39m\u001b[38;5;241m.\u001b[39m_IterableDataset_len_called:\n",
      "File \u001b[1;32mc:\\Users\\ninja\\AppData\\Local\\Programs\\Python\\Python39\\lib\\site-packages\\torch\\utils\\data\\dataloader.py:673\u001b[0m, in \u001b[0;36m_SingleProcessDataLoaderIter._next_data\u001b[1;34m(self)\u001b[0m\n\u001b[0;32m    671\u001b[0m \u001b[38;5;28;01mdef\u001b[39;00m \u001b[38;5;21m_next_data\u001b[39m(\u001b[38;5;28mself\u001b[39m):\n\u001b[0;32m    672\u001b[0m     index \u001b[38;5;241m=\u001b[39m \u001b[38;5;28mself\u001b[39m\u001b[38;5;241m.\u001b[39m_next_index()  \u001b[38;5;66;03m# may raise StopIteration\u001b[39;00m\n\u001b[1;32m--> 673\u001b[0m     data \u001b[38;5;241m=\u001b[39m \u001b[38;5;28;43mself\u001b[39;49m\u001b[38;5;241;43m.\u001b[39;49m\u001b[43m_dataset_fetcher\u001b[49m\u001b[38;5;241;43m.\u001b[39;49m\u001b[43mfetch\u001b[49m\u001b[43m(\u001b[49m\u001b[43mindex\u001b[49m\u001b[43m)\u001b[49m  \u001b[38;5;66;03m# may raise StopIteration\u001b[39;00m\n\u001b[0;32m    674\u001b[0m     \u001b[38;5;28;01mif\u001b[39;00m \u001b[38;5;28mself\u001b[39m\u001b[38;5;241m.\u001b[39m_pin_memory:\n\u001b[0;32m    675\u001b[0m         data \u001b[38;5;241m=\u001b[39m _utils\u001b[38;5;241m.\u001b[39mpin_memory\u001b[38;5;241m.\u001b[39mpin_memory(data, \u001b[38;5;28mself\u001b[39m\u001b[38;5;241m.\u001b[39m_pin_memory_device)\n",
      "File \u001b[1;32mc:\\Users\\ninja\\AppData\\Local\\Programs\\Python\\Python39\\lib\\site-packages\\torch\\utils\\data\\_utils\\fetch.py:50\u001b[0m, in \u001b[0;36m_MapDatasetFetcher.fetch\u001b[1;34m(self, possibly_batched_index)\u001b[0m\n\u001b[0;32m     48\u001b[0m \u001b[38;5;28;01mif\u001b[39;00m \u001b[38;5;28mself\u001b[39m\u001b[38;5;241m.\u001b[39mauto_collation:\n\u001b[0;32m     49\u001b[0m     \u001b[38;5;28;01mif\u001b[39;00m \u001b[38;5;28mhasattr\u001b[39m(\u001b[38;5;28mself\u001b[39m\u001b[38;5;241m.\u001b[39mdataset, \u001b[38;5;124m\"\u001b[39m\u001b[38;5;124m__getitems__\u001b[39m\u001b[38;5;124m\"\u001b[39m) \u001b[38;5;129;01mand\u001b[39;00m \u001b[38;5;28mself\u001b[39m\u001b[38;5;241m.\u001b[39mdataset\u001b[38;5;241m.\u001b[39m__getitems__:\n\u001b[1;32m---> 50\u001b[0m         data \u001b[38;5;241m=\u001b[39m \u001b[38;5;28;43mself\u001b[39;49m\u001b[38;5;241;43m.\u001b[39;49m\u001b[43mdataset\u001b[49m\u001b[38;5;241;43m.\u001b[39;49m\u001b[43m__getitems__\u001b[49m\u001b[43m(\u001b[49m\u001b[43mpossibly_batched_index\u001b[49m\u001b[43m)\u001b[49m\n\u001b[0;32m     51\u001b[0m     \u001b[38;5;28;01melse\u001b[39;00m:\n\u001b[0;32m     52\u001b[0m         data \u001b[38;5;241m=\u001b[39m [\u001b[38;5;28mself\u001b[39m\u001b[38;5;241m.\u001b[39mdataset[idx] \u001b[38;5;28;01mfor\u001b[39;00m idx \u001b[38;5;129;01min\u001b[39;00m possibly_batched_index]\n",
      "File \u001b[1;32mc:\\Users\\ninja\\AppData\\Local\\Programs\\Python\\Python39\\lib\\site-packages\\torch\\utils\\data\\dataset.py:420\u001b[0m, in \u001b[0;36mSubset.__getitems__\u001b[1;34m(self, indices)\u001b[0m\n\u001b[0;32m    418\u001b[0m     \u001b[38;5;28;01mreturn\u001b[39;00m \u001b[38;5;28mself\u001b[39m\u001b[38;5;241m.\u001b[39mdataset\u001b[38;5;241m.\u001b[39m__getitems__([\u001b[38;5;28mself\u001b[39m\u001b[38;5;241m.\u001b[39mindices[idx] \u001b[38;5;28;01mfor\u001b[39;00m idx \u001b[38;5;129;01min\u001b[39;00m indices])  \u001b[38;5;66;03m# type: ignore[attr-defined]\u001b[39;00m\n\u001b[0;32m    419\u001b[0m \u001b[38;5;28;01melse\u001b[39;00m:\n\u001b[1;32m--> 420\u001b[0m     \u001b[38;5;28;01mreturn\u001b[39;00m [\u001b[38;5;28mself\u001b[39m\u001b[38;5;241m.\u001b[39mdataset[\u001b[38;5;28mself\u001b[39m\u001b[38;5;241m.\u001b[39mindices[idx]] \u001b[38;5;28;01mfor\u001b[39;00m idx \u001b[38;5;129;01min\u001b[39;00m indices]\n",
      "File \u001b[1;32mc:\\Users\\ninja\\AppData\\Local\\Programs\\Python\\Python39\\lib\\site-packages\\torch\\utils\\data\\dataset.py:420\u001b[0m, in \u001b[0;36m<listcomp>\u001b[1;34m(.0)\u001b[0m\n\u001b[0;32m    418\u001b[0m     \u001b[38;5;28;01mreturn\u001b[39;00m \u001b[38;5;28mself\u001b[39m\u001b[38;5;241m.\u001b[39mdataset\u001b[38;5;241m.\u001b[39m__getitems__([\u001b[38;5;28mself\u001b[39m\u001b[38;5;241m.\u001b[39mindices[idx] \u001b[38;5;28;01mfor\u001b[39;00m idx \u001b[38;5;129;01min\u001b[39;00m indices])  \u001b[38;5;66;03m# type: ignore[attr-defined]\u001b[39;00m\n\u001b[0;32m    419\u001b[0m \u001b[38;5;28;01melse\u001b[39;00m:\n\u001b[1;32m--> 420\u001b[0m     \u001b[38;5;28;01mreturn\u001b[39;00m [\u001b[38;5;28;43mself\u001b[39;49m\u001b[38;5;241;43m.\u001b[39;49m\u001b[43mdataset\u001b[49m\u001b[43m[\u001b[49m\u001b[38;5;28;43mself\u001b[39;49m\u001b[38;5;241;43m.\u001b[39;49m\u001b[43mindices\u001b[49m\u001b[43m[\u001b[49m\u001b[43midx\u001b[49m\u001b[43m]\u001b[49m\u001b[43m]\u001b[49m \u001b[38;5;28;01mfor\u001b[39;00m idx \u001b[38;5;129;01min\u001b[39;00m indices]\n",
      "Cell \u001b[1;32mIn[18], line 24\u001b[0m, in \u001b[0;36mCNNDataset.__getitem__\u001b[1;34m(self, idx)\u001b[0m\n\u001b[0;32m     21\u001b[0m label \u001b[38;5;241m=\u001b[39m \u001b[38;5;28mself\u001b[39m\u001b[38;5;241m.\u001b[39mdataframe\u001b[38;5;241m.\u001b[39mloc[idx \u001b[38;5;241m+\u001b[39m \u001b[38;5;28mself\u001b[39m\u001b[38;5;241m.\u001b[39msequence_length \u001b[38;5;241m-\u001b[39m \u001b[38;5;241m1\u001b[39m, \u001b[38;5;28mself\u001b[39m\u001b[38;5;241m.\u001b[39mlabels]\n\u001b[0;32m     23\u001b[0m \u001b[38;5;66;03m# Özellikleri tensor'a dönüştür ve 3D şekil ver\u001b[39;00m\n\u001b[1;32m---> 24\u001b[0m features_tensor \u001b[38;5;241m=\u001b[39m \u001b[43mtorch\u001b[49m\u001b[38;5;241;43m.\u001b[39;49m\u001b[43mtensor\u001b[49m\u001b[43m(\u001b[49m\u001b[43mfeatures_sequence\u001b[49m\u001b[43m,\u001b[49m\u001b[43m \u001b[49m\u001b[43mdtype\u001b[49m\u001b[38;5;241;43m=\u001b[39;49m\u001b[43mtorch\u001b[49m\u001b[38;5;241;43m.\u001b[39;49m\u001b[43mfloat32\u001b[49m\u001b[43m)\u001b[49m\u001b[38;5;241m.\u001b[39munsqueeze(\u001b[38;5;241m0\u001b[39m)  \u001b[38;5;66;03m# (1, sequence_length, features_count)\u001b[39;00m\n\u001b[0;32m     25\u001b[0m label_tensor \u001b[38;5;241m=\u001b[39m torch\u001b[38;5;241m.\u001b[39mtensor(label, dtype\u001b[38;5;241m=\u001b[39mtorch\u001b[38;5;241m.\u001b[39mlong)\n\u001b[0;32m     27\u001b[0m \u001b[38;5;28;01mreturn\u001b[39;00m features_tensor, label_tensor\n",
      "\u001b[1;31mKeyboardInterrupt\u001b[0m: "
     ]
    }
   ],
   "source": [
    "for x,y  in train_loader:\n",
    "    print(x.shape)\n",
    "    print(y.shape)\n"
   ]
  },
  {
   "cell_type": "code",
   "execution_count": 33,
   "metadata": {},
   "outputs": [
    {
     "name": "stdout",
     "output_type": "stream",
     "text": [
      "CustomCNNModel(\n",
      "  (conv1): Conv2d(1, 32, kernel_size=(3, 3), stride=(1, 1), padding=(1, 1))\n",
      "  (pool): MaxPool2d(kernel_size=(2, 2), stride=(2, 2), padding=0, dilation=1, ceil_mode=False)\n",
      "  (conv2): Conv2d(32, 64, kernel_size=(3, 3), stride=(1, 1), padding=(1, 1))\n",
      "  (fc1): Linear(in_features=384, out_features=512, bias=True)\n",
      "  (dropout1): Dropout(p=0.5, inplace=False)\n",
      "  (fc2): Linear(in_features=512, out_features=256, bias=True)\n",
      "  (dropout2): Dropout(p=0.5, inplace=False)\n",
      "  (fc3): Linear(in_features=256, out_features=1, bias=True)\n",
      ")\n"
     ]
    }
   ],
   "source": [
    "import torch\n",
    "import torch.nn as nn\n",
    "\n",
    "class CustomCNNModel(nn.Module):\n",
    "    def __init__(self, dropout_rate=0.5):\n",
    "        super().__init__()\n",
    "        self.conv1 = nn.Conv2d(1, 32, kernel_size=(3, 3), padding=(1, 1))\n",
    "        self.pool = nn.MaxPool2d((2, 2))   \n",
    "\n",
    "        self.conv2 = nn.Conv2d(32, 64, kernel_size=(3, 3), padding=(1, 1))\n",
    "        \n",
    "        # 1. Conv katmanı sonrası çıkış boyutu: (32, 1, 25, 6) -> (32, 32, 25, 6) -> max pooling sonrası: (32, 32, 12, 3)\n",
    "        # 2. Conv katmanı sonrası çıkış boyutu: (32, 32, 12, 3) -> (32, 64, 12, 3) -> max pooling sonrası: (32, 64, 6, 1)\n",
    "        # Düzleştirilmiş giriş boyutu, 64 * 6 * 1'e göre ayarlandı\n",
    "        self.fc1 = nn.Linear(64 * 6 * 1, 512)\n",
    "        self.dropout1 = nn.Dropout(dropout_rate)\n",
    "        self.fc2 = nn.Linear(512, 256)\n",
    "        self.dropout2 = nn.Dropout(dropout_rate)\n",
    "        self.fc3 = nn.Linear(256, 1)\n",
    "\n",
    "    def forward(self, x):\n",
    "        x = self.pool(nn.functional.relu(self.conv1(x)))\n",
    "        x = self.pool(nn.functional.relu(self.conv2(x)))\n",
    "\n",
    "        # Düzleştirme işlemi\n",
    "        x = x.view(-1, 64 * 6 * 1)   \n",
    "        x = nn.functional.relu(self.fc1(x))\n",
    "        x = self.dropout1(x)\n",
    "        x = nn.functional.relu(self.fc2(x))\n",
    "        x = self.dropout2(x)\n",
    "        x = self.fc3(x)\n",
    "        \n",
    "        x = torch.sigmoid(x)\n",
    "        return x\n",
    "\n",
    " \n",
    "model = CustomCNNModel()\n",
    "\n",
    "\n",
    " "
   ]
  },
  {
   "cell_type": "code",
   "execution_count": 35,
   "metadata": {},
   "outputs": [
    {
     "data": {
      "text/plain": [
       "device(type='cuda')"
      ]
     },
     "execution_count": 35,
     "metadata": {},
     "output_type": "execute_result"
    }
   ],
   "source": [
    "device = torch.device(\"cuda\" if torch.cuda.is_available() else \"cpu\")\n",
    "device"
   ]
  },
  {
   "cell_type": "code",
   "execution_count": 36,
   "metadata": {},
   "outputs": [
    {
     "data": {
      "text/plain": [
       "CustomCNNModel(\n",
       "  (conv1): Conv2d(1, 32, kernel_size=(3, 3), stride=(1, 1), padding=(1, 1))\n",
       "  (pool): MaxPool2d(kernel_size=(2, 2), stride=(2, 2), padding=0, dilation=1, ceil_mode=False)\n",
       "  (conv2): Conv2d(32, 64, kernel_size=(3, 3), stride=(1, 1), padding=(1, 1))\n",
       "  (fc1): Linear(in_features=384, out_features=512, bias=True)\n",
       "  (dropout1): Dropout(p=0.5, inplace=False)\n",
       "  (fc2): Linear(in_features=512, out_features=256, bias=True)\n",
       "  (dropout2): Dropout(p=0.5, inplace=False)\n",
       "  (fc3): Linear(in_features=256, out_features=1, bias=True)\n",
       ")"
      ]
     },
     "execution_count": 36,
     "metadata": {},
     "output_type": "execute_result"
    }
   ],
   "source": [
    "model.to(device)"
   ]
  },
  {
   "cell_type": "code",
   "execution_count": 37,
   "metadata": {},
   "outputs": [],
   "source": [
    "criterion = nn.BCELoss()   # ikili sınıflnadırma için ideal\n",
    "optimizer = optim.Adam(model.parameters(), lr=0.001)"
   ]
  },
  {
   "cell_type": "code",
   "execution_count": 39,
   "metadata": {},
   "outputs": [
    {
     "name": "stdout",
     "output_type": "stream",
     "text": [
      "Epoch [1/30], Loss: 0.5238\n",
      "Epoch [2/30], Loss: 0.2357\n",
      "Epoch [3/30], Loss: 0.3458\n",
      "Epoch [4/30], Loss: 0.2481\n",
      "Epoch [5/30], Loss: 0.1520\n",
      "Epoch [6/30], Loss: 0.1229\n",
      "Epoch [7/30], Loss: 0.0178\n",
      "Epoch [8/30], Loss: 0.0879\n",
      "Epoch [9/30], Loss: 0.1089\n",
      "Epoch [10/30], Loss: 0.0252\n",
      "Epoch [11/30], Loss: 0.0195\n",
      "Epoch [12/30], Loss: 0.0342\n",
      "Epoch [13/30], Loss: 0.1119\n",
      "Epoch [14/30], Loss: 0.0252\n",
      "Epoch [15/30], Loss: 0.0090\n",
      "Epoch [16/30], Loss: 0.0154\n",
      "Epoch [17/30], Loss: 0.0155\n",
      "Epoch [18/30], Loss: 0.0233\n",
      "Epoch [19/30], Loss: 0.1247\n",
      "Epoch [20/30], Loss: 0.0715\n",
      "Epoch [21/30], Loss: 0.0204\n",
      "Epoch [22/30], Loss: 0.2205\n",
      "Epoch [23/30], Loss: 0.0506\n",
      "Epoch [24/30], Loss: 0.0031\n",
      "Epoch [25/30], Loss: 0.1203\n",
      "Epoch [26/30], Loss: 0.0419\n",
      "Epoch [27/30], Loss: 0.0211\n",
      "Epoch [28/30], Loss: 0.1865\n",
      "Epoch [29/30], Loss: 0.0058\n",
      "Epoch [30/30], Loss: 0.0180\n",
      "Training complete\n"
     ]
    }
   ],
   "source": [
    "num_epochs=30\n",
    "for epoch in range(num_epochs):\n",
    "    model.train()\n",
    "    for features,labels in train_loader:\n",
    "        features,labels=features.to(device),labels.to(device)\n",
    "        optimizer.zero_grad()\n",
    "        outputs =model(features)\n",
    "        outputs = torch.squeeze(outputs)\n",
    "        labels = labels.float()\n",
    "        loss=criterion(outputs,labels)\n",
    "        loss.backward()\n",
    "        optimizer.step()\n",
    "    print(f'Epoch [{epoch+1}/{num_epochs}], Loss: {loss.item():.4f}')\n",
    "\n",
    "print(\"Training complete\") "
   ]
  },
  {
   "cell_type": "code",
   "execution_count": 40,
   "metadata": {},
   "outputs": [
    {
     "name": "stdout",
     "output_type": "stream",
     "text": [
      "Test Loss: 0.0227, Accuracy: 0.9915\n"
     ]
    }
   ],
   "source": [
    "model.eval()  # Modeli değerlendirme moduna al\n",
    "test_loss = 0.0\n",
    "correct_predictions = 0\n",
    "total_predictions = 0\n",
    "\n",
    "with torch.no_grad():  \n",
    "    for features, labels in test_loader:\n",
    "        features, labels = features.to(device), labels.to(device)\n",
    "        \n",
    "        outputs = model(features)\n",
    "        outputs = torch.squeeze(outputs) \n",
    "        labels = labels.float()\n",
    "        loss = criterion(outputs, labels)\n",
    "        test_loss += loss.item()\n",
    "\n",
    "        # Tahminleri yap\n",
    "        predicted = (outputs > 0.5).float()\n",
    "        correct_predictions += (predicted == labels).sum().item()\n",
    "        total_predictions += labels.size(0)\n",
    "\n",
    "\n",
    "average_test_loss = test_loss / len(test_loader)\n",
    "accuracy = correct_predictions / total_predictions\n",
    "\n",
    "print(f'Test Loss: {average_test_loss:.4f}, Accuracy: {accuracy:.4f}')"
   ]
  },
  {
   "cell_type": "code",
   "execution_count": 41,
   "metadata": {},
   "outputs": [],
   "source": [
    "# Modeli kaydet\n",
    "torch.save(model.state_dict(), 'conv_model_99_22_09_2024.pth')"
   ]
  },
  {
   "cell_type": "code",
   "execution_count": null,
   "metadata": {},
   "outputs": [],
   "source": []
  },
  {
   "cell_type": "code",
   "execution_count": null,
   "metadata": {},
   "outputs": [],
   "source": []
  }
 ],
 "metadata": {
  "kernelspec": {
   "display_name": "Python 3",
   "language": "python",
   "name": "python3"
  },
  "language_info": {
   "codemirror_mode": {
    "name": "ipython",
    "version": 3
   },
   "file_extension": ".py",
   "mimetype": "text/x-python",
   "name": "python",
   "nbconvert_exporter": "python",
   "pygments_lexer": "ipython3",
   "version": "3.9.0"
  }
 },
 "nbformat": 4,
 "nbformat_minor": 2
}
