{
 "cells": [
  {
   "cell_type": "code",
   "execution_count": 1,
   "metadata": {},
   "outputs": [],
   "source": [
    "import pandas as pd\n",
    "import numpy as np\n",
    "import matplotlib.pyplot as plt\n",
    "from sklearn.model_selection import train_test_split\n",
    "from sklearn.preprocessing import StandardScaler,MinMaxScaler,LabelEncoder\n",
    "import torch\n",
    "from torch.utils.data import Dataset, DataLoader, Subset, random_split\n",
    "from torchvision import transforms\n",
    "import torch.optim as optim\n",
    "import torch.nn as nn\n",
    "import torch.nn.functional as f\n",
    "from PIL import Image\n",
    "import os\n",
    "from sklearn import metrics\n",
    "import glob\n",
    "from joblib  import dump\n",
    "import pickle"
   ]
  },
  {
   "cell_type": "code",
   "execution_count": 2,
   "metadata": {},
   "outputs": [],
   "source": [
    "df=pd.read_csv(\"data_imu_birlestirilmis_28_10.csv\")"
   ]
  },
  {
   "cell_type": "code",
   "execution_count": null,
   "metadata": {},
   "outputs": [],
   "source": []
  },
  {
   "cell_type": "code",
   "execution_count": 3,
   "metadata": {},
   "outputs": [
    {
     "data": {
      "text/html": [
       "<div>\n",
       "<style scoped>\n",
       "    .dataframe tbody tr th:only-of-type {\n",
       "        vertical-align: middle;\n",
       "    }\n",
       "\n",
       "    .dataframe tbody tr th {\n",
       "        vertical-align: top;\n",
       "    }\n",
       "\n",
       "    .dataframe thead th {\n",
       "        text-align: right;\n",
       "    }\n",
       "</style>\n",
       "<table border=\"1\" class=\"dataframe\">\n",
       "  <thead>\n",
       "    <tr style=\"text-align: right;\">\n",
       "      <th></th>\n",
       "      <th>Unnamed: 0</th>\n",
       "      <th>ax</th>\n",
       "      <th>ay</th>\n",
       "      <th>az</th>\n",
       "      <th>gx</th>\n",
       "      <th>gy</th>\n",
       "      <th>gz</th>\n",
       "      <th>timestamp</th>\n",
       "      <th>time_diff</th>\n",
       "      <th>Class Name</th>\n",
       "    </tr>\n",
       "  </thead>\n",
       "  <tbody>\n",
       "    <tr>\n",
       "      <th>0</th>\n",
       "      <td>0</td>\n",
       "      <td>-1.028198</td>\n",
       "      <td>7.406667</td>\n",
       "      <td>-2.838919</td>\n",
       "      <td>-0.418559</td>\n",
       "      <td>0.063694</td>\n",
       "      <td>0.027297</td>\n",
       "      <td>1900-01-01 17:55:40.747</td>\n",
       "      <td>NaN</td>\n",
       "      <td>not_falling</td>\n",
       "    </tr>\n",
       "    <tr>\n",
       "      <th>1</th>\n",
       "      <td>1</td>\n",
       "      <td>-1.020539</td>\n",
       "      <td>7.627713</td>\n",
       "      <td>-2.904742</td>\n",
       "      <td>-0.430347</td>\n",
       "      <td>0.050697</td>\n",
       "      <td>0.045961</td>\n",
       "      <td>1900-01-01 17:55:40.767</td>\n",
       "      <td>0 days 00:00:00.020000</td>\n",
       "      <td>not_falling</td>\n",
       "    </tr>\n",
       "    <tr>\n",
       "      <th>2</th>\n",
       "      <td>2</td>\n",
       "      <td>-1.013342</td>\n",
       "      <td>7.828984</td>\n",
       "      <td>-2.935427</td>\n",
       "      <td>-0.440230</td>\n",
       "      <td>0.041012</td>\n",
       "      <td>0.059841</td>\n",
       "      <td>1900-01-01 17:55:40.787</td>\n",
       "      <td>0 days 00:00:00.020000</td>\n",
       "      <td>not_falling</td>\n",
       "    </tr>\n",
       "    <tr>\n",
       "      <th>3</th>\n",
       "      <td>3</td>\n",
       "      <td>-1.003664</td>\n",
       "      <td>7.984988</td>\n",
       "      <td>-2.912928</td>\n",
       "      <td>-0.446552</td>\n",
       "      <td>0.034748</td>\n",
       "      <td>0.066260</td>\n",
       "      <td>1900-01-01 17:55:40.807</td>\n",
       "      <td>0 days 00:00:00.020000</td>\n",
       "      <td>not_falling</td>\n",
       "    </tr>\n",
       "    <tr>\n",
       "      <th>4</th>\n",
       "      <td>4</td>\n",
       "      <td>-0.980148</td>\n",
       "      <td>8.063047</td>\n",
       "      <td>-2.868723</td>\n",
       "      <td>-0.448961</td>\n",
       "      <td>0.024543</td>\n",
       "      <td>0.068392</td>\n",
       "      <td>1900-01-01 17:55:40.827</td>\n",
       "      <td>0 days 00:00:00.020000</td>\n",
       "      <td>not_falling</td>\n",
       "    </tr>\n",
       "    <tr>\n",
       "      <th>...</th>\n",
       "      <td>...</td>\n",
       "      <td>...</td>\n",
       "      <td>...</td>\n",
       "      <td>...</td>\n",
       "      <td>...</td>\n",
       "      <td>...</td>\n",
       "      <td>...</td>\n",
       "      <td>...</td>\n",
       "      <td>...</td>\n",
       "      <td>...</td>\n",
       "    </tr>\n",
       "    <tr>\n",
       "      <th>49731</th>\n",
       "      <td>49731</td>\n",
       "      <td>1.828079</td>\n",
       "      <td>9.423597</td>\n",
       "      <td>-0.645419</td>\n",
       "      <td>-1.292857</td>\n",
       "      <td>-0.038149</td>\n",
       "      <td>-2.056477</td>\n",
       "      <td>1900-01-01 17:50:02.385999</td>\n",
       "      <td>0 days 00:00:00.019999744</td>\n",
       "      <td>not_falling</td>\n",
       "    </tr>\n",
       "    <tr>\n",
       "      <th>49732</th>\n",
       "      <td>49732</td>\n",
       "      <td>0.686294</td>\n",
       "      <td>9.158905</td>\n",
       "      <td>1.320737</td>\n",
       "      <td>-1.122093</td>\n",
       "      <td>-0.212877</td>\n",
       "      <td>-1.661709</td>\n",
       "      <td>1900-01-01 17:50:02.406000</td>\n",
       "      <td>0 days 00:00:00.020000256</td>\n",
       "      <td>not_falling</td>\n",
       "    </tr>\n",
       "    <tr>\n",
       "      <th>49733</th>\n",
       "      <td>49733</td>\n",
       "      <td>1.196530</td>\n",
       "      <td>8.183237</td>\n",
       "      <td>1.745310</td>\n",
       "      <td>-0.915019</td>\n",
       "      <td>-0.535702</td>\n",
       "      <td>-1.189365</td>\n",
       "      <td>1900-01-01 17:50:02.425999</td>\n",
       "      <td>0 days 00:00:00.019999744</td>\n",
       "      <td>not_falling</td>\n",
       "    </tr>\n",
       "    <tr>\n",
       "      <th>49734</th>\n",
       "      <td>49734</td>\n",
       "      <td>1.506319</td>\n",
       "      <td>8.012976</td>\n",
       "      <td>1.559735</td>\n",
       "      <td>-0.686853</td>\n",
       "      <td>-0.531130</td>\n",
       "      <td>-0.872752</td>\n",
       "      <td>1900-01-01 17:50:02.446000</td>\n",
       "      <td>0 days 00:00:00.020000256</td>\n",
       "      <td>not_falling</td>\n",
       "    </tr>\n",
       "    <tr>\n",
       "      <th>49735</th>\n",
       "      <td>49735</td>\n",
       "      <td>1.216696</td>\n",
       "      <td>8.765750</td>\n",
       "      <td>1.196245</td>\n",
       "      <td>-0.448283</td>\n",
       "      <td>-0.186664</td>\n",
       "      <td>-0.719604</td>\n",
       "      <td>1900-01-01 17:50:02.465999</td>\n",
       "      <td>0 days 00:00:00.019999744</td>\n",
       "      <td>not_falling</td>\n",
       "    </tr>\n",
       "  </tbody>\n",
       "</table>\n",
       "<p>49736 rows × 10 columns</p>\n",
       "</div>"
      ],
      "text/plain": [
       "       Unnamed: 0        ax        ay        az        gx        gy        gz  \\\n",
       "0               0 -1.028198  7.406667 -2.838919 -0.418559  0.063694  0.027297   \n",
       "1               1 -1.020539  7.627713 -2.904742 -0.430347  0.050697  0.045961   \n",
       "2               2 -1.013342  7.828984 -2.935427 -0.440230  0.041012  0.059841   \n",
       "3               3 -1.003664  7.984988 -2.912928 -0.446552  0.034748  0.066260   \n",
       "4               4 -0.980148  8.063047 -2.868723 -0.448961  0.024543  0.068392   \n",
       "...           ...       ...       ...       ...       ...       ...       ...   \n",
       "49731       49731  1.828079  9.423597 -0.645419 -1.292857 -0.038149 -2.056477   \n",
       "49732       49732  0.686294  9.158905  1.320737 -1.122093 -0.212877 -1.661709   \n",
       "49733       49733  1.196530  8.183237  1.745310 -0.915019 -0.535702 -1.189365   \n",
       "49734       49734  1.506319  8.012976  1.559735 -0.686853 -0.531130 -0.872752   \n",
       "49735       49735  1.216696  8.765750  1.196245 -0.448283 -0.186664 -0.719604   \n",
       "\n",
       "                        timestamp                  time_diff   Class Name  \n",
       "0         1900-01-01 17:55:40.747                        NaN  not_falling  \n",
       "1         1900-01-01 17:55:40.767     0 days 00:00:00.020000  not_falling  \n",
       "2         1900-01-01 17:55:40.787     0 days 00:00:00.020000  not_falling  \n",
       "3         1900-01-01 17:55:40.807     0 days 00:00:00.020000  not_falling  \n",
       "4         1900-01-01 17:55:40.827     0 days 00:00:00.020000  not_falling  \n",
       "...                           ...                        ...          ...  \n",
       "49731  1900-01-01 17:50:02.385999  0 days 00:00:00.019999744  not_falling  \n",
       "49732  1900-01-01 17:50:02.406000  0 days 00:00:00.020000256  not_falling  \n",
       "49733  1900-01-01 17:50:02.425999  0 days 00:00:00.019999744  not_falling  \n",
       "49734  1900-01-01 17:50:02.446000  0 days 00:00:00.020000256  not_falling  \n",
       "49735  1900-01-01 17:50:02.465999  0 days 00:00:00.019999744  not_falling  \n",
       "\n",
       "[49736 rows x 10 columns]"
      ]
     },
     "execution_count": 3,
     "metadata": {},
     "output_type": "execute_result"
    }
   ],
   "source": [
    "df"
   ]
  },
  {
   "cell_type": "code",
   "execution_count": 110,
   "metadata": {},
   "outputs": [],
   "source": [
    "dataframe=df"
   ]
  },
  {
   "cell_type": "code",
   "execution_count": 4,
   "metadata": {},
   "outputs": [],
   "source": [
    "label_encoder=LabelEncoder()"
   ]
  },
  {
   "cell_type": "code",
   "execution_count": 5,
   "metadata": {},
   "outputs": [
    {
     "data": {
      "text/plain": [
       "['label_encoder_stft_conv2d.pkl']"
      ]
     },
     "execution_count": 5,
     "metadata": {},
     "output_type": "execute_result"
    }
   ],
   "source": [
    "df[\"Class Name\"]=label_encoder.fit_transform(df[\"Class Name\"])\n",
    "dump(label_encoder, 'label_encoder_stft_conv2d.pkl')"
   ]
  },
  {
   "cell_type": "code",
   "execution_count": 6,
   "metadata": {},
   "outputs": [],
   "source": [
    "import torch\n",
    "from torch.utils.data import Dataset\n",
    "from sklearn.preprocessing import StandardScaler"
   ]
  },
  {
   "cell_type": "code",
   "execution_count": null,
   "metadata": {},
   "outputs": [],
   "source": []
  },
  {
   "cell_type": "code",
   "execution_count": 50,
   "metadata": {},
   "outputs": [],
   "source": [
    "import torch\n",
    "from torch.utils.data import Dataset\n",
    "from sklearn.preprocessing import StandardScaler\n",
    "from scipy.signal import stft\n",
    "import numpy as np\n",
    "\n",
    "class CNNDataset(Dataset):\n",
    "    \n",
    "    def __init__(self, dataframe, sequence_length=25, n_fft=10, hop_length=5):\n",
    "        self.dataframe = dataframe\n",
    "        self.features = [\"ax\", \"ay\", \"az\", \"gx\", \"gy\", \"gz\"]\n",
    "        self.labels = \"Class Name\"\n",
    "        self.sequence_length = sequence_length\n",
    "        self.n_fft = n_fft   \n",
    "        self.hop_length = hop_length  \n",
    "\n",
    "        self.scaler = StandardScaler()\n",
    "        self.dataframe[self.features] = self.scaler.fit_transform(self.dataframe[self.features])\n",
    "    \n",
    "    def __len__(self):\n",
    "        return len(self.dataframe) - self.sequence_length + 1\n",
    "    \n",
    "    def __getitem__(self, idx):\n",
    "        \n",
    "        features_sequence = self.dataframe.loc[idx:idx + self.sequence_length - 1, self.features].values.astype(float)\n",
    "        labels_sequence = self.dataframe.loc[idx:idx + self.sequence_length - 1, self.labels].values\n",
    "\n",
    "        if len(set(labels_sequence)) == 1: \n",
    "            label = labels_sequence[0]\n",
    "        else:  \n",
    "            if idx + self.sequence_length < len(self.dataframe):\n",
    "                return self.__getitem__(idx + 1)  \n",
    "            else:\n",
    "                raise IndexError(\"Veri setinde uygun pencere kalmadı.\")\n",
    "        f, t, Zxx = stft(features_sequence, nperseg=self.n_fft, noverlap=self.hop_length, axis=0)\n",
    "        magnitude = np.abs(Zxx)  # Zxx \n",
    "\n",
    "        \n",
    "        features_tensor = torch.tensor(magnitude, dtype=torch.float32)\n",
    "        label_tensor = torch.tensor(label, dtype=torch.long)\n",
    "\n",
    "        return features_tensor, label_tensor\n",
    "    \n"
   ]
  },
  {
   "cell_type": "code",
   "execution_count": null,
   "metadata": {},
   "outputs": [],
   "source": []
  },
  {
   "cell_type": "code",
   "execution_count": null,
   "metadata": {},
   "outputs": [],
   "source": []
  },
  {
   "cell_type": "code",
   "execution_count": null,
   "metadata": {},
   "outputs": [],
   "source": []
  },
  {
   "cell_type": "code",
   "execution_count": null,
   "metadata": {},
   "outputs": [],
   "source": []
  },
  {
   "cell_type": "code",
   "execution_count": null,
   "metadata": {},
   "outputs": [],
   "source": []
  },
  {
   "cell_type": "code",
   "execution_count": null,
   "metadata": {},
   "outputs": [],
   "source": []
  },
  {
   "cell_type": "markdown",
   "metadata": {},
   "source": [
    "def __getitem__(self, idx):\n",
    "        # Özellik dizisini al\n",
    "        features_sequence = self.dataframe.loc[idx:idx + self.sequence_length - 1, self.features].values.astype(float)\n",
    "\n",
    "        # STFT uygulama\n",
    "        f, t, Zxx = stft(features_sequence, nperseg=self.n_fft, noverlap=self.hop_length, axis=0)\n",
    "        magnitude = np.abs(Zxx)  # Genlik spektrumunu alıyoruz\n",
    "\n",
    "        # Sonuçları tensöre dönüştürme\n",
    "        features_tensor = torch.tensor(magnitude, dtype=torch.float32)  # (frequencies, time_bins, features_count)\n",
    "        \n",
    "        # Son zaman adımı etiketi alındı\n",
    "        label = self.dataframe.loc[idx + self.sequence_length - 1, self.labels]\n",
    "        label_tensor = torch.tensor(label, dtype=torch.long)\n",
    "        \n",
    "        return features_tensor, label_tensor"
   ]
  },
  {
   "cell_type": "code",
   "execution_count": 55,
   "metadata": {},
   "outputs": [],
   "source": [
    "import joblib"
   ]
  },
  {
   "cell_type": "code",
   "execution_count": 56,
   "metadata": {},
   "outputs": [],
   "source": [
    "dataframe=df"
   ]
  },
  {
   "cell_type": "code",
   "execution_count": 57,
   "metadata": {},
   "outputs": [],
   "source": [
    "dataset = CNNDataset(dataframe)\n",
    "\n",
    " \n",
    "labels = dataset.dataframe['Class Name'].values[:len(dataset)]   \n",
    "\n",
    " \n",
    "indices = list(range(len(dataset)))\n",
    "\n",
    " \n",
    "train_indices, test_indices = train_test_split(indices, test_size=0.2, stratify=labels)\n",
    " \n",
    "train_dataset = torch.utils.data.Subset(dataset, train_indices)\n",
    "test_dataset = torch.utils.data.Subset(dataset, test_indices)\n",
    "\n",
    " \n",
    "train_loader = DataLoader(train_dataset, batch_size=32, shuffle=True)\n",
    "test_loader = DataLoader(test_dataset, batch_size=32, shuffle=False)"
   ]
  },
  {
   "cell_type": "code",
   "execution_count": 118,
   "metadata": {},
   "outputs": [
    {
     "name": "stdout",
     "output_type": "stream",
     "text": [
      "torch.Size([32, 6, 6, 6])\n",
      "torch.Size([32])\n",
      "torch.Size([32, 6, 6, 6])\n",
      "torch.Size([32])\n"
     ]
    }
   ],
   "source": [
    "i = 0   \n",
    "for x, y in train_loader:\n",
    "    print(x.shape)\n",
    "    print(y.shape)\n",
    "    i += 1\n",
    "    if i >= 2:   \n",
    "        break\n"
   ]
  },
  {
   "cell_type": "code",
   "execution_count": null,
   "metadata": {},
   "outputs": [],
   "source": []
  },
  {
   "cell_type": "code",
   "execution_count": 95,
   "metadata": {},
   "outputs": [],
   "source": [
    " \n",
    "class ConvNeuralNet(nn.Module):\n",
    " \n",
    "    def __init__(self):\n",
    "        super(ConvNeuralNet, self).__init__()\n",
    "        self.conv_layer1 = nn.Conv2d(in_channels=6, out_channels=32, kernel_size=3,padding=1)\n",
    "        self.conv_layer2 = nn.Conv2d(in_channels=32, out_channels=32, kernel_size=3,padding=1)\n",
    "        self.max_pool1 = nn.MaxPool2d(kernel_size = 2, stride = 2)\n",
    "        \n",
    "        self.conv_layer3 = nn.Conv2d(in_channels=32, out_channels=64, kernel_size=3,padding=1)\n",
    "        self.conv_layer4 = nn.Conv2d(in_channels=64, out_channels=64, kernel_size=3,padding=1)\n",
    "        self.max_pool2 = nn.MaxPool2d(kernel_size = 2, stride = 2)\n",
    "        \n",
    "        self.fc1 = nn.Linear(64, 128)\n",
    "        self.relu1 = nn.ReLU()\n",
    "        self.fc2 = nn.Linear(128, 1)\n",
    "    \n",
    "       \n",
    "    def forward(self, x):\n",
    "        out = self.conv_layer1(x)\n",
    "        out = self.conv_layer2(out)\n",
    "        out = self.max_pool1(out)\n",
    "        \n",
    "        out = self.conv_layer3(out)\n",
    "        out = self.conv_layer4(out)\n",
    "        out = self.max_pool2(out)\n",
    "                \n",
    "        out = out.reshape(out.size(0), -1)\n",
    "        \n",
    "        out = self.fc1(out)\n",
    "        out = self.relu1(out)\n",
    "        out = self.fc2(out)\n",
    "        out = torch.sigmoid(out)\n",
    "        return out\n"
   ]
  },
  {
   "cell_type": "code",
   "execution_count": 96,
   "metadata": {},
   "outputs": [],
   "source": [
    " \n",
    "model =ConvNeuralNet() \n",
    "criterion = nn.BCELoss()   \n",
    "optimizer = torch.optim.Adam(model.parameters(), lr=0.001)  \n"
   ]
  },
  {
   "cell_type": "code",
   "execution_count": 97,
   "metadata": {},
   "outputs": [],
   "source": [
    "if torch.cuda.is_available:\n",
    "    device=torch.device=\"cuda\""
   ]
  },
  {
   "cell_type": "code",
   "execution_count": 98,
   "metadata": {},
   "outputs": [
    {
     "data": {
      "text/plain": [
       "'cuda'"
      ]
     },
     "execution_count": 98,
     "metadata": {},
     "output_type": "execute_result"
    }
   ],
   "source": [
    "device"
   ]
  },
  {
   "cell_type": "code",
   "execution_count": 99,
   "metadata": {},
   "outputs": [
    {
     "data": {
      "text/plain": [
       "ConvNeuralNet(\n",
       "  (conv_layer1): Conv2d(6, 32, kernel_size=(3, 3), stride=(1, 1), padding=(1, 1))\n",
       "  (conv_layer2): Conv2d(32, 32, kernel_size=(3, 3), stride=(1, 1), padding=(1, 1))\n",
       "  (max_pool1): MaxPool2d(kernel_size=2, stride=2, padding=0, dilation=1, ceil_mode=False)\n",
       "  (conv_layer3): Conv2d(32, 64, kernel_size=(3, 3), stride=(1, 1), padding=(1, 1))\n",
       "  (conv_layer4): Conv2d(64, 64, kernel_size=(3, 3), stride=(1, 1), padding=(1, 1))\n",
       "  (max_pool2): MaxPool2d(kernel_size=2, stride=2, padding=0, dilation=1, ceil_mode=False)\n",
       "  (fc1): Linear(in_features=64, out_features=128, bias=True)\n",
       "  (relu1): ReLU()\n",
       "  (fc2): Linear(in_features=128, out_features=1, bias=True)\n",
       ")"
      ]
     },
     "execution_count": 99,
     "metadata": {},
     "output_type": "execute_result"
    }
   ],
   "source": [
    "model.to(device)"
   ]
  },
  {
   "cell_type": "code",
   "execution_count": 107,
   "metadata": {},
   "outputs": [
    {
     "name": "stdout",
     "output_type": "stream",
     "text": [
      "Epoch [1/10], Loss: 0.2381, Accuracy: 0.9035\n",
      "Epoch [2/10], Loss: 0.1585, Accuracy: 0.9387\n",
      "Epoch [3/10], Loss: 0.1114, Accuracy: 0.9578\n",
      "Epoch [4/10], Loss: 0.0804, Accuracy: 0.9701\n",
      "Epoch [5/10], Loss: 0.0605, Accuracy: 0.9782\n",
      "Epoch [6/10], Loss: 0.0488, Accuracy: 0.9826\n",
      "Epoch [7/10], Loss: 0.0426, Accuracy: 0.9857\n",
      "Epoch [8/10], Loss: 0.0384, Accuracy: 0.9865\n",
      "Epoch [9/10], Loss: 0.0337, Accuracy: 0.9876\n",
      "Epoch [10/10], Loss: 0.0334, Accuracy: 0.9889\n",
      "Training complete\n"
     ]
    }
   ],
   "source": [
    "num_epochs=10\n",
    " \n",
    "train_losses = []   \n",
    "train_accuracies = []  \n",
    "for epoch in range(num_epochs):\n",
    "    model.train()\n",
    "    running_loss = 0.0   \n",
    "    correct = 0   \n",
    "    total = 0   \n",
    "    for features, labels in train_loader:  \n",
    "        features,labels=features.to(device),labels.to(device)\n",
    "        optimizer.zero_grad()   \n",
    "        outputs = model(features)\n",
    "        outputs=outputs.squeeze()\n",
    "        labels = labels.float()   \n",
    "        loss = criterion(outputs, labels)   \n",
    "        loss.backward()   \n",
    "        optimizer.step()   \n",
    "        running_loss += loss.item()\n",
    "        predicted = (outputs > 0.5).float()   \n",
    "        total += labels.size(0)\n",
    "        correct += (predicted == labels).sum().item()\n",
    "\n",
    "    epoch_loss = running_loss / len(train_loader)   \n",
    "    train_losses.append(epoch_loss)   \n",
    "    epoch_accuracy = correct / total   \n",
    "    train_accuracies.append(epoch_accuracy)   \n",
    "\n",
    "    print(f'Epoch [{epoch+1}/{num_epochs}], Loss: {epoch_loss:.4f}, Accuracy: {epoch_accuracy:.4f}')\n",
    "\n",
    "print(\"Training complete\")\n"
   ]
  },
  {
   "cell_type": "code",
   "execution_count": 108,
   "metadata": {},
   "outputs": [
    {
     "data": {
      "image/png": "[encoded data removed]",
      "text/plain": [
       "<Figure size 1200x500 with 2 Axes>"
      ]
     },
     "metadata": {},
     "output_type": "display_data"
    }
   ],
   "source": [
    "plt.figure(figsize=(12, 5))\n",
    "\n",
    "# Kayıp grafiği\n",
    "plt.subplot(1, 2, 1)\n",
    "plt.plot(train_losses, label='Training Loss')\n",
    "plt.title('Training Loss over Epochs')\n",
    "plt.xlabel('Epochs')\n",
    "plt.ylabel('Loss')\n",
    "plt.legend()\n",
    "\n",
    "# Doğruluk grafiği\n",
    "plt.subplot(1, 2, 2)\n",
    "plt.plot(train_accuracies, label='Training Accuracy', color='orange')\n",
    "plt.title('Training Accuracy over Epochs')\n",
    "plt.xlabel('Epochs')\n",
    "plt.ylabel('Accuracy')\n",
    "plt.legend()\n",
    "\n",
    "plt.tight_layout()\n",
    "plt.show()"
   ]
  },
  {
   "cell_type": "code",
   "execution_count": 109,
   "metadata": {},
   "outputs": [
    {
     "name": "stdout",
     "output_type": "stream",
     "text": [
      "Test Accuracy: 98.11%\n"
     ]
    }
   ],
   "source": [
    "model.eval()\n",
    "correct = 0\n",
    "total = 0\n",
    "\n",
    "with torch.no_grad():  \n",
    "    for batch_idx, (data, labels) in enumerate(test_loader):\n",
    "        data, labels = data.to(device), labels.to(device)\n",
    "\n",
    "        outputs = model(data)\n",
    "        outputs = outputs.squeeze(1)  # Bce loss için\n",
    "\n",
    "        predicted = (outputs >= 0.5).float()\n",
    "        correct += (predicted == labels).sum().item()\n",
    "        total += labels.size(0)\n",
    "\n",
    "accuracy = 100 * correct / total\n",
    "print(f\"Test Accuracy: {accuracy:.2f}%\")"
   ]
  },
  {
   "cell_type": "code",
   "execution_count": null,
   "metadata": {},
   "outputs": [],
   "source": []
  },
  {
   "cell_type": "code",
   "execution_count": null,
   "metadata": {},
   "outputs": [],
   "source": []
  },
  {
   "cell_type": "code",
   "execution_count": null,
   "metadata": {},
   "outputs": [],
   "source": []
  },
  {
   "cell_type": "code",
   "execution_count": null,
   "metadata": {},
   "outputs": [],
   "source": []
  },
  {
   "cell_type": "code",
   "execution_count": null,
   "metadata": {},
   "outputs": [],
   "source": []
  },
  {
   "cell_type": "code",
   "execution_count": null,
   "metadata": {},
   "outputs": [],
   "source": []
  },
  {
   "cell_type": "code",
   "execution_count": null,
   "metadata": {},
   "outputs": [],
   "source": []
  },
  {
   "cell_type": "code",
   "execution_count": null,
   "metadata": {},
   "outputs": [],
   "source": []
  },
  {
   "cell_type": "code",
   "execution_count": null,
   "metadata": {},
   "outputs": [],
   "source": []
  },
  {
   "cell_type": "code",
   "execution_count": null,
   "metadata": {},
   "outputs": [],
   "source": []
  }
 ],
 "metadata": {
  "kernelspec": {
   "display_name": "Python 3",
   "language": "python",
   "name": "python3"
  },
  "language_info": {
   "codemirror_mode": {
    "name": "ipython",
    "version": 3
   },
   "file_extension": ".py",
   "mimetype": "text/x-python",
   "name": "python",
   "nbconvert_exporter": "python",
   "pygments_lexer": "ipython3",
   "version": "3.9.0"
  }
 },
 "nbformat": 4,
 "nbformat_minor": 2
}
